{
 "cells": [
  {
   "cell_type": "code",
   "execution_count": 1,
   "metadata": {},
   "outputs": [],
   "source": [
    "suppressWarnings(suppressPackageStartupMessages({\n",
    "  library(tidyverse)\n",
    "    library(data.table)\n",
    "    library(EvolutionaryGames)\n",
    "    library(ggthemes)\n",
    "    library(latex2exp)\n",
    "    library(ggtext)\n",
    "    library(progress)\n",
    "}))"
   ]
  },
  {
   "cell_type": "code",
   "execution_count": 2,
   "metadata": {},
   "outputs": [],
   "source": [
    "duplicate_dynamic_xy<-function(y,x,M,beta1,beta2,d,N,c,l){\n",
    "  \n",
    "  #-----参数解释说明------#\n",
    "  # #N个个体\n",
    "  # N<-4\n",
    "  # #M资源 c(5,15,25)\n",
    "  # M<-5\n",
    "  \n",
    "  # y 整体内卷比例\n",
    "  # x 整体躺平比例\n",
    "  \n",
    "  # #内卷相对躺平的效用\n",
    "  # beta1<-4\n",
    "  # #合作相对躺平的效用\n",
    "  # beta2<-2\n",
    "  \n",
    "  # #more effort的成本\n",
    "  # d<-4\n",
    "  # #less effort的成本\n",
    "  # c<-1\n",
    "  # #躺平的成本\n",
    "  # l<-0.5\n",
    "  #-----------------------#\n",
    "  \n",
    "  Pc<-0\n",
    "  Pd<-0\n",
    "  Pl<-0 \n",
    "  for (Nd in 0:(N-1)){ \n",
    "    for (Nl in 0:(N-1-Nd)){\n",
    "      Nc <- N-1-Nd-Nl\n",
    "      pai_d <- beta1*d*M/(beta1*(Nd+1)*d +beta2*Nc*c     +Nl*l)-d \n",
    "      pai_c <- beta2*c*M/(beta1*Nd*d     +beta2*(Nc+1)*c +Nl*l)-c          \n",
    "      pai_l <-       l*M/(beta1*Nd*d     +beta2*Nc*c     +(Nl+1)*l)-l  \n",
    "      Pd <- Pd + choose(N-1,Nd)*choose(N-1-Nd,Nl)*y^Nd*(1-x-y)^Nc*x^Nl*pai_d\n",
    "      Pc <- Pc + choose(N-1,Nd)*choose(N-1-Nd,Nl)*y^Nd*(1-x-y)^Nc*x^Nl*pai_c\n",
    "      Pl <- Pl + choose(N-1,Nd)*choose(N-1-Nd,Nl)*y^Nd*(1-x-y)^Nc*x^Nl*pai_l\n",
    "    }\n",
    "  }\n",
    "  \n",
    "  R_ <- y*Pd+x*Pl+(1-x-y)*Pc  ##均值\n",
    "  y. <- y*(Pd-R_)\n",
    "  x. <- x*(Pl-R_)\n",
    "  \n",
    "  result<-data.frame(y=y,x=x,M=M,beta1=beta1,beta2=beta2,d=d,N=N,c=c,l=l,y.=y.,x.=x.)\n",
    "  return(result)\n",
    "}"
   ]
  },
  {
   "cell_type": "markdown",
   "metadata": {},
   "source": [
    "# 原文三点结论：一一验证\n",
    "# 1.更充足的资源会促进内卷\n",
    "# 2.增加更努力的相对效用会放大内卷\n",
    "# 3.增加内卷的成本会在一定参数范围内放大内卷，但最终会抑制内卷\n",
    "\n",
    "# 能否找到“卷不动，躺不平”的“点”？\n",
    "# 如何在“卷”和“躺”中找平衡？\n",
    "# “合作”实质是一中不内卷、也不躺平的一种状态，用什么词描述更准确？45度？斜垮？漂？划水？摸鱼？\n",
    "# 思路：合作的成本c远离d是一种“卷不动”的现象；合作的成本c趋近l但又不等于l来表示“躺不平”"
   ]
  },
  {
   "cell_type": "code",
   "execution_count": 65,
   "metadata": {
    "scrolled": true
   },
   "outputs": [
    {
     "name": "stderr",
     "output_type": "stream",
     "text": [
      "\n",
      "  完成百分比 [>---------------------------]   2% 执行时间  1s00:00:01\n",
      "\n",
      "  完成百分比 [>---------------------------]   3% 执行时间  2s00:00:02\n",
      "\n",
      "  完成百分比 [>---------------------------]   4% 执行时间  3s00:00:03\n",
      "\n",
      "  完成百分比 [>---------------------------]   5% 执行时间  4s00:00:03\n",
      "\n",
      "  完成百分比 [=>--------------------------]   6% 执行时间  5s00:00:04\n",
      "\n",
      "  完成百分比 [=>--------------------------]   7% 执行时间  6s00:00:05\n",
      "\n",
      "  完成百分比 [=>--------------------------]   8% 执行时间  7s00:00:06\n",
      "\n",
      "  完成百分比 [=>--------------------------]   9% 执行时间  7s00:00:07\n",
      "\n",
      "  完成百分比 [==>-------------------------]  10% 执行时间  8s00:00:07\n",
      "\n",
      "  完成百分比 [==>-------------------------]  11% 执行时间  9s00:00:08\n",
      "\n",
      "  完成百分比 [==>-------------------------]  12% 执行时间  9s00:00:09\n",
      "\n",
      "  完成百分比 [===>------------------------]  13% 执行时间 10s00:00:09\n",
      "\n",
      "  完成百分比 [===>------------------------]  14% 执行时间 10s00:00:10\n",
      "\n",
      "  完成百分比 [===>------------------------]  15% 执行时间 11s00:00:10\n",
      "\n",
      "  完成百分比 [===>------------------------]  16% 执行时间 11s00:00:11\n",
      "\n",
      "  完成百分比 [====>-----------------------]  17% 执行时间 12s00:00:11\n",
      "\n",
      "  完成百分比 [====>-----------------------]  18% 执行时间 12s00:00:12\n",
      "\n",
      "  完成百分比 [====>-----------------------]  19% 执行时间 13s00:00:12\n",
      "\n",
      "  完成百分比 [=====>----------------------]  20% 执行时间 13s00:00:13\n",
      "\n",
      "  完成百分比 [=====>----------------------]  21% 执行时间 14s00:00:13\n",
      "\n",
      "  完成百分比 [=====>----------------------]  22% 执行时间 14s00:00:14\n",
      "\n",
      "  完成百分比 [=====>----------------------]  23% 执行时间 15s00:00:14\n",
      "\n",
      "  完成百分比 [======>---------------------]  24% 执行时间 15s00:00:15\n",
      "\n",
      "  完成百分比 [======>---------------------]  25% 执行时间 16s00:00:15\n",
      "\n",
      "  完成百分比 [======>---------------------]  26% 执行时间 16s00:00:16\n",
      "\n",
      "  完成百分比 [======>---------------------]  27% 执行时间 17s00:00:16\n",
      "\n",
      "  完成百分比 [=======>--------------------]  28% 执行时间 17s00:00:17\n",
      "\n",
      "  完成百分比 [=======>--------------------]  29% 执行时间 18s00:00:17\n",
      "\n",
      "  完成百分比 [=======>--------------------]  30% 执行时间 18s00:00:17\n",
      "\n",
      "  完成百分比 [========>-------------------]  31% 执行时间 18s00:00:18\n",
      "\n",
      "  完成百分比 [========>-------------------]  32% 执行时间 19s00:00:18\n",
      "\n",
      "  完成百分比 [========>-------------------]  33% 执行时间 19s00:00:19\n",
      "\n",
      "  完成百分比 [========>-------------------]  34% 执行时间 20s00:00:19\n",
      "\n",
      "  完成百分比 [=========>------------------]  35% 执行时间 20s00:00:20\n",
      "\n",
      "  完成百分比 [=========>------------------]  36% 执行时间 20s00:00:20\n",
      "\n",
      "  完成百分比 [=========>------------------]  37% 执行时间 21s00:00:20\n",
      "\n",
      "  完成百分比 [==========>-----------------]  38% 执行时间 21s00:00:21\n",
      "\n",
      "  完成百分比 [==========>-----------------]  39% 执行时间 22s00:00:21\n",
      "\n",
      "  完成百分比 [==========>-----------------]  40% 执行时间 22s00:00:22\n",
      "\n",
      "  完成百分比 [==========>-----------------]  41% 执行时间 22s00:00:22\n",
      "\n",
      "  完成百分比 [===========>----------------]  42% 执行时间 23s00:00:22\n",
      "\n",
      "  完成百分比 [===========>----------------]  43% 执行时间 23s00:00:23\n",
      "\n",
      "  完成百分比 [===========>----------------]  44% 执行时间 24s00:00:23\n",
      "\n",
      "  完成百分比 [===========>----------------]  45% 执行时间 24s00:00:23\n",
      "\n",
      "  完成百分比 [============>---------------]  46% 执行时间 24s00:00:24\n",
      "\n",
      "  完成百分比 [============>---------------]  47% 执行时间 25s00:00:24\n",
      "\n",
      "  完成百分比 [============>---------------]  48% 执行时间 25s00:00:24\n",
      "\n",
      "  完成百分比 [=============>--------------]  49% 执行时间 25s00:00:25\n",
      "\n",
      "  完成百分比 [=============>--------------]  50% 执行时间 26s00:00:25\n",
      "\n",
      "  完成百分比 [=============>--------------]  51% 执行时间 26s00:00:26\n",
      "\n",
      "  完成百分比 [==============>-------------]  52% 执行时间 27s00:00:26\n",
      "\n",
      "  完成百分比 [==============>-------------]  53% 执行时间 27s00:00:26\n",
      "\n",
      "  完成百分比 [==============>-------------]  54% 执行时间 27s00:00:27\n",
      "\n",
      "  完成百分比 [===============>------------]  55% 执行时间 27s00:00:27\n",
      "\n",
      "  完成百分比 [===============>------------]  56% 执行时间 28s00:00:27\n",
      "\n",
      "  完成百分比 [===============>------------]  57% 执行时间 28s00:00:28\n",
      "\n",
      "  完成百分比 [===============>------------]  58% 执行时间 28s00:00:28\n",
      "\n",
      "  完成百分比 [================>-----------]  59% 执行时间 29s00:00:28\n",
      "\n",
      "  完成百分比 [================>-----------]  60% 执行时间 29s00:00:28\n",
      "\n",
      "  完成百分比 [================>-----------]  61% 执行时间 29s00:00:29\n",
      "\n",
      "  完成百分比 [================>-----------]  62% 执行时间 29s00:00:29\n",
      "\n",
      "  完成百分比 [=================>----------]  63% 执行时间 30s00:00:29\n",
      "\n",
      "  完成百分比 [=================>----------]  64% 执行时间 30s00:00:29\n",
      "\n",
      "  完成百分比 [=================>----------]  65% 执行时间 30s00:00:30\n",
      "\n",
      "  完成百分比 [==================>---------]  66% 执行时间 30s00:00:30\n",
      "\n",
      "  完成百分比 [==================>---------]  67% 执行时间 31s00:00:30\n",
      "\n",
      "  完成百分比 [==================>---------]  68% 执行时间 31s00:00:30\n",
      "\n",
      "  完成百分比 [==================>---------]  69% 执行时间 31s00:00:30\n",
      "\n",
      "  完成百分比 [===================>--------]  70% 执行时间 31s00:00:31\n",
      "\n",
      "  完成百分比 [===================>--------]  71% 执行时间 31s00:00:31\n",
      "\n",
      "  完成百分比 [===================>--------]  72% 执行时间 32s00:00:31\n",
      "\n",
      "  完成百分比 [====================>-------]  73% 执行时间 32s00:00:31\n",
      "\n",
      "  完成百分比 [====================>-------]  74% 执行时间 32s00:00:31\n",
      "\n",
      "  完成百分比 [====================>-------]  75% 执行时间 32s00:00:32\n",
      "\n",
      "  完成百分比 [====================>-------]  76% 执行时间 32s00:00:32\n",
      "\n",
      "  完成百分比 [=====================>------]  77% 执行时间 32s00:00:32\n",
      "\n",
      "  完成百分比 [=====================>------]  78% 执行时间 33s00:00:32\n",
      "\n",
      "  完成百分比 [=====================>------]  79% 执行时间 33s00:00:32\n",
      "\n",
      "  完成百分比 [=====================>------]  80% 执行时间 33s00:00:32\n",
      "\n",
      "  完成百分比 [======================>-----]  81% 执行时间 33s00:00:32\n",
      "\n",
      "  完成百分比 [======================>-----]  82% 执行时间 33s00:00:33\n",
      "\n",
      "  完成百分比 [======================>-----]  83% 执行时间 33s00:00:33\n",
      "\n",
      "  完成百分比 [=======================>----]  84% 执行时间 33s00:00:33\n",
      "\n",
      "  完成百分比 [=======================>----]  85% 执行时间 33s00:00:33\n",
      "\n",
      "  完成百分比 [=======================>----]  86% 执行时间 34s00:00:33\n",
      "\n",
      "  完成百分比 [=======================>----]  87% 执行时间 34s00:00:33\n",
      "\n",
      "  完成百分比 [========================>---]  88% 执行时间 34s00:00:33\n",
      "\n",
      "  完成百分比 [========================>---]  89% 执行时间 34s00:00:33\n",
      "\n",
      "  完成百分比 [========================>---]  90% 执行时间 34s00:00:33\n",
      "\n",
      "  完成百分比 [=========================>--]  91% 执行时间 34s00:00:34\n",
      "\n",
      "  完成百分比 [=========================>--]  92% 执行时间 34s00:00:34\n",
      "\n",
      "  完成百分比 [=========================>--]  93% 执行时间 34s00:00:34\n",
      "\n",
      "  完成百分比 [=========================>--]  94% 执行时间 34s00:00:34\n",
      "\n",
      "  完成百分比 [==========================>-]  95% 执行时间 34s00:00:34\n",
      "\n",
      "  完成百分比 [==========================>-]  96% 执行时间 34s00:00:34\n",
      "\n",
      "  完成百分比 [==========================>-]  97% 执行时间 34s00:00:34\n",
      "\n",
      "  完成百分比 [==========================>-]  98% 执行时间 34s00:00:34\n",
      "\n",
      "  完成百分比 [===========================>]  99% 执行时间 34s00:00:34\n",
      "\n",
      "  完成百分比 [============================] 100% 执行时间 34s00:00:34\n",
      "\n",
      "\n"
     ]
    }
   ],
   "source": [
    "#----------------------------------------------#\n",
    "#-----1.1当躺平人数一定时，内卷人数的稳定点----#\n",
    "#----------------------------------------------#\n",
    "\n",
    "#x+y<=1\n",
    "data<-data.frame()\n",
    "pb <- progress_bar$new(format = \"  完成百分比 [:bar] :percent 执行时间 :elapsed:elapsedfull\",total = 101, clear = FALSE, width= 60)\n",
    "for(y in seq(0,1,0.01)){\n",
    "  pb$tick()\n",
    "  for(x in seq(0,1-y,0.01)){\n",
    "    temp<-duplicate_dynamic_xy(y,x,M=100,beta1=4,beta2=2,d=4,N=50,c=1,l=0.5)\n",
    "    data<-rbind(data,temp)\n",
    "  }\n",
    "}\n",
    "\n",
    "\n",
    "data1<-data %>% \n",
    "  mutate(y=round(y,digits=2)) %>% #排序有问题，debug是浮点数的问题#第495行\n",
    "  mutate(x=round(x,digits=2)) %>%\n",
    "  arrange(x,y) %>% \n",
    "  data.table() %>% \n",
    "  .[,y1:=c(y.[-1],0),by=x] %>% \n",
    "  mutate(y0=y.*y1) %>% \n",
    "  data.table() %>% \n",
    "  .[,ystar:=y[y0<0]-0.005,by=x] %>% \n",
    "  mutate(ystar=ifelse(is.na(ystar),0,ystar)) %>% #好多NA的问题，是无0,要设置为o\n",
    "  subset(!is.na(ystar))"
   ]
  },
  {
   "cell_type": "code",
   "execution_count": 66,
   "metadata": {},
   "outputs": [
    {
     "data": {
      "image/png": "[encoded data removed]",
      "text/plain": [
       "plot without title"
      ]
     },
     "metadata": {
      "image/png": {
       "height": 420,
       "width": 420
      }
     },
     "output_type": "display_data"
    }
   ],
   "source": [
    "#ystar随x是如何变化的？\n",
    "ggplot(data1,aes(x=x,y=ystar))+\n",
    "  geom_point()\n",
    "\n",
    "#如何解释？"
   ]
  },
  {
   "cell_type": "code",
   "execution_count": 67,
   "metadata": {},
   "outputs": [
    {
     "data": {
      "image/png": "[encoded data removed]",
      "text/plain": [
       "plot without title"
      ]
     },
     "metadata": {
      "image/png": {
       "height": 420,
       "width": 420
      }
     },
     "output_type": "display_data"
    }
   ],
   "source": [
    "#当x=0.1时\n",
    "df<-data %>% \n",
    "  subset(x==0.1)%>% \n",
    "  mutate(y1=c(y.[-1],1)) %>% \n",
    "  mutate(y0=y*y1)#通过前一项与后一项相乘是否小于0，来获取临界点ystar\n",
    "\n",
    "ystar<-ifelse(sum(df$y[df$y0<0])==0,0,df$y[df$y0<0]-0.005)\n",
    "\n",
    "ggplot(df,aes(x=y,y=y.))+\n",
    "  geom_line(color=\"black\",size=0.3)+\n",
    "  theme_few() +\n",
    "  geom_point(aes(x=ystar,y=0))+\n",
    "  geom_text(aes(x=ystar,y=0),label=paste(\"y*:\",ystar),size=4,nudge_y = 0.001,nudge_x = 0.03,color=\"red\")+\n",
    "  geom_hline(aes(yintercept = 0),size=0.3)+\n",
    "  labs(x = \"y\", y = \"y.\")"
   ]
  },
  {
   "cell_type": "code",
   "execution_count": 68,
   "metadata": {},
   "outputs": [
    {
     "data": {
      "image/png": "[encoded data removed]",
      "text/plain": [
       "plot without title"
      ]
     },
     "metadata": {
      "image/png": {
       "height": 420,
       "width": 420
      }
     },
     "output_type": "display_data"
    }
   ],
   "source": [
    "#当x=0.2时\n",
    "df<-data %>% \n",
    "  subset(x==0.2)%>% \n",
    "  mutate(y1=c(y.[-1],1)) %>% \n",
    "  mutate(y0=y*y1)#通过前一项与后一项相乘是否小于0，来获取临界点ystar\n",
    "\n",
    "ystar<-ifelse(sum(df$y[df$y0<0])==0,0,df$y[df$y0<0]+0.005)\n",
    "\n",
    "ggplot(df,aes(x=y,y=y.))+\n",
    "  geom_line(color=\"black\",size=0.3)+\n",
    "  theme_few() +\n",
    "  geom_point(aes(x=ystar,y=0))+\n",
    "  geom_text(aes(x=ystar,y=0),label=paste(\"y*:\",ystar),size=4,nudge_y = 0.001,nudge_x = 0.03,color=\"red\")+\n",
    "  geom_hline(aes(yintercept = 0),size=0.3)+\n",
    "  labs(x = \"y\", y = \"y.\")"
   ]
  },
  {
   "cell_type": "code",
   "execution_count": 69,
   "metadata": {
    "scrolled": true
   },
   "outputs": [
    {
     "data": {
      "text/html": [
       "<table class=\"dataframe\">\n",
       "<caption>A data.table: 5151 × 14</caption>\n",
       "<thead>\n",
       "\t<tr><th scope=col>y</th><th scope=col>x</th><th scope=col>M</th><th scope=col>beta1</th><th scope=col>beta2</th><th scope=col>d</th><th scope=col>N</th><th scope=col>c</th><th scope=col>l</th><th scope=col>y.</th><th scope=col>x.</th><th scope=col>y1</th><th scope=col>y0</th><th scope=col>ystar</th></tr>\n",
       "\t<tr><th scope=col>&lt;dbl&gt;</th><th scope=col>&lt;dbl&gt;</th><th scope=col>&lt;dbl&gt;</th><th scope=col>&lt;dbl&gt;</th><th scope=col>&lt;dbl&gt;</th><th scope=col>&lt;dbl&gt;</th><th scope=col>&lt;dbl&gt;</th><th scope=col>&lt;dbl&gt;</th><th scope=col>&lt;dbl&gt;</th><th scope=col>&lt;dbl&gt;</th><th scope=col>&lt;dbl&gt;</th><th scope=col>&lt;dbl&gt;</th><th scope=col>&lt;dbl&gt;</th><th scope=col>&lt;dbl&gt;</th></tr>\n",
       "</thead>\n",
       "<tbody>\n",
       "\t<tr><td>0.00</td><td>0</td><td>100</td><td>4</td><td>2</td><td>4</td><td>50</td><td>1</td><td>0.5</td><td>0.00000000</td><td>0</td><td>0.08347045</td><td>0.00000000</td><td>0.505</td></tr>\n",
       "\t<tr><td>0.01</td><td>0</td><td>100</td><td>4</td><td>2</td><td>4</td><td>50</td><td>1</td><td>0.5</td><td>0.08347045</td><td>0</td><td>0.15443857</td><td>0.01289106</td><td>0.505</td></tr>\n",
       "\t<tr><td>0.02</td><td>0</td><td>100</td><td>4</td><td>2</td><td>4</td><td>50</td><td>1</td><td>0.5</td><td>0.15443857</td><td>0</td><td>0.21457544</td><td>0.03313872</td><td>0.505</td></tr>\n",
       "\t<tr><td>0.03</td><td>0</td><td>100</td><td>4</td><td>2</td><td>4</td><td>50</td><td>1</td><td>0.5</td><td>0.21457544</td><td>0</td><td>0.26530240</td><td>0.05692738</td><td>0.505</td></tr>\n",
       "\t<tr><td>0.04</td><td>0</td><td>100</td><td>4</td><td>2</td><td>4</td><td>50</td><td>1</td><td>0.5</td><td>0.26530240</td><td>0</td><td>0.30783254</td><td>0.08166871</td><td>0.505</td></tr>\n",
       "\t<tr><td>0.05</td><td>0</td><td>100</td><td>4</td><td>2</td><td>4</td><td>50</td><td>1</td><td>0.5</td><td>0.30783254</td><td>0</td><td>0.34320484</td><td>0.10564962</td><td>0.505</td></tr>\n",
       "\t<tr><td>0.06</td><td>0</td><td>100</td><td>4</td><td>2</td><td>4</td><td>50</td><td>1</td><td>0.5</td><td>0.34320484</td><td>0</td><td>0.37231215</td><td>0.12777933</td><td>0.505</td></tr>\n",
       "\t<tr><td>0.07</td><td>0</td><td>100</td><td>4</td><td>2</td><td>4</td><td>50</td><td>1</td><td>0.5</td><td>0.37231215</td><td>0</td><td>0.39592441</td><td>0.14740747</td><td>0.505</td></tr>\n",
       "\t<tr><td>0.08</td><td>0</td><td>100</td><td>4</td><td>2</td><td>4</td><td>50</td><td>1</td><td>0.5</td><td>0.39592441</td><td>0</td><td>0.41470771</td><td>0.16419290</td><td>0.505</td></tr>\n",
       "\t<tr><td>0.09</td><td>0</td><td>100</td><td>4</td><td>2</td><td>4</td><td>50</td><td>1</td><td>0.5</td><td>0.41470771</td><td>0</td><td>0.42924024</td><td>0.17800924</td><td>0.505</td></tr>\n",
       "\t<tr><td>0.10</td><td>0</td><td>100</td><td>4</td><td>2</td><td>4</td><td>50</td><td>1</td><td>0.5</td><td>0.42924024</td><td>0</td><td>0.44002550</td><td>0.18887666</td><td>0.505</td></tr>\n",
       "\t<tr><td>0.11</td><td>0</td><td>100</td><td>4</td><td>2</td><td>4</td><td>50</td><td>1</td><td>0.5</td><td>0.44002550</td><td>0</td><td>0.44750332</td><td>0.19691287</td><td>0.505</td></tr>\n",
       "\t<tr><td>0.12</td><td>0</td><td>100</td><td>4</td><td>2</td><td>4</td><td>50</td><td>1</td><td>0.5</td><td>0.44750332</td><td>0</td><td>0.45205910</td><td>0.20229795</td><td>0.505</td></tr>\n",
       "\t<tr><td>0.13</td><td>0</td><td>100</td><td>4</td><td>2</td><td>4</td><td>50</td><td>1</td><td>0.5</td><td>0.45205910</td><td>0</td><td>0.45403158</td><td>0.20524911</td><td>0.505</td></tr>\n",
       "\t<tr><td>0.14</td><td>0</td><td>100</td><td>4</td><td>2</td><td>4</td><td>50</td><td>1</td><td>0.5</td><td>0.45403158</td><td>0</td><td>0.45371935</td><td>0.20600291</td><td>0.505</td></tr>\n",
       "\t<tr><td>0.15</td><td>0</td><td>100</td><td>4</td><td>2</td><td>4</td><td>50</td><td>1</td><td>0.5</td><td>0.45371935</td><td>0</td><td>0.45138638</td><td>0.20480273</td><td>0.505</td></tr>\n",
       "\t<tr><td>0.16</td><td>0</td><td>100</td><td>4</td><td>2</td><td>4</td><td>50</td><td>1</td><td>0.5</td><td>0.45138638</td><td>0</td><td>0.44726667</td><td>0.20189008</td><td>0.505</td></tr>\n",
       "\t<tr><td>0.17</td><td>0</td><td>100</td><td>4</td><td>2</td><td>4</td><td>50</td><td>1</td><td>0.5</td><td>0.44726667</td><td>0</td><td>0.44156824</td><td>0.19749876</td><td>0.505</td></tr>\n",
       "\t<tr><td>0.18</td><td>0</td><td>100</td><td>4</td><td>2</td><td>4</td><td>50</td><td>1</td><td>0.5</td><td>0.44156824</td><td>0</td><td>0.43447647</td><td>0.19185101</td><td>0.505</td></tr>\n",
       "\t<tr><td>0.19</td><td>0</td><td>100</td><td>4</td><td>2</td><td>4</td><td>50</td><td>1</td><td>0.5</td><td>0.43447647</td><td>0</td><td>0.42615701</td><td>0.18515519</td><td>0.505</td></tr>\n",
       "\t<tr><td>0.20</td><td>0</td><td>100</td><td>4</td><td>2</td><td>4</td><td>50</td><td>1</td><td>0.5</td><td>0.42615701</td><td>0</td><td>0.41675825</td><td>0.17760445</td><td>0.505</td></tr>\n",
       "\t<tr><td>0.21</td><td>0</td><td>100</td><td>4</td><td>2</td><td>4</td><td>50</td><td>1</td><td>0.5</td><td>0.41675825</td><td>0</td><td>0.40641341</td><td>0.16937614</td><td>0.505</td></tr>\n",
       "\t<tr><td>0.22</td><td>0</td><td>100</td><td>4</td><td>2</td><td>4</td><td>50</td><td>1</td><td>0.5</td><td>0.40641341</td><td>0</td><td>0.39524240</td><td>0.16063181</td><td>0.505</td></tr>\n",
       "\t<tr><td>0.23</td><td>0</td><td>100</td><td>4</td><td>2</td><td>4</td><td>50</td><td>1</td><td>0.5</td><td>0.39524240</td><td>0</td><td>0.38335339</td><td>0.15151752</td><td>0.505</td></tr>\n",
       "\t<tr><td>0.24</td><td>0</td><td>100</td><td>4</td><td>2</td><td>4</td><td>50</td><td>1</td><td>0.5</td><td>0.38335339</td><td>0</td><td>0.37084415</td><td>0.14216436</td><td>0.505</td></tr>\n",
       "\t<tr><td>0.25</td><td>0</td><td>100</td><td>4</td><td>2</td><td>4</td><td>50</td><td>1</td><td>0.5</td><td>0.37084415</td><td>0</td><td>0.35780327</td><td>0.13268925</td><td>0.505</td></tr>\n",
       "\t<tr><td>0.26</td><td>0</td><td>100</td><td>4</td><td>2</td><td>4</td><td>50</td><td>1</td><td>0.5</td><td>0.35780327</td><td>0</td><td>0.34431114</td><td>0.12319565</td><td>0.505</td></tr>\n",
       "\t<tr><td>0.27</td><td>0</td><td>100</td><td>4</td><td>2</td><td>4</td><td>50</td><td>1</td><td>0.5</td><td>0.34431114</td><td>0</td><td>0.33044091</td><td>0.11377449</td><td>0.505</td></tr>\n",
       "\t<tr><td>0.28</td><td>0</td><td>100</td><td>4</td><td>2</td><td>4</td><td>50</td><td>1</td><td>0.5</td><td>0.33044091</td><td>0</td><td>0.31625923</td><td>0.10450499</td><td>0.505</td></tr>\n",
       "\t<tr><td>0.29</td><td>0</td><td>100</td><td>4</td><td>2</td><td>4</td><td>50</td><td>1</td><td>0.5</td><td>0.31625923</td><td>0</td><td>0.30182695</td><td>0.09545556</td><td>0.505</td></tr>\n",
       "\t<tr><td>...</td><td>...</td><td>...</td><td>...</td><td>...</td><td>...</td><td>...</td><td>...</td><td>...</td><td>...</td><td>...</td><td>...</td><td>...</td><td>...</td></tr>\n",
       "\t<tr><td>0.06</td><td>0.93</td><td>100</td><td>4</td><td>2</td><td>4</td><td>50</td><td>1</td><td>0.5</td><td>0.8955648</td><td>-0.90431038</td><td>0.9446069</td><td>0.8459567</td><td>0</td></tr>\n",
       "\t<tr><td>0.07</td><td>0.93</td><td>100</td><td>4</td><td>2</td><td>4</td><td>50</td><td>1</td><td>0.5</td><td>0.9446069</td><td>-0.94460693</td><td>0.0000000</td><td>0.0000000</td><td>0</td></tr>\n",
       "\t<tr><td>0.00</td><td>0.94</td><td>100</td><td>4</td><td>2</td><td>4</td><td>50</td><td>1</td><td>0.5</td><td>0.0000000</td><td>-0.24249066</td><td>0.2665286</td><td>0.0000000</td><td>0</td></tr>\n",
       "\t<tr><td>0.01</td><td>0.94</td><td>100</td><td>4</td><td>2</td><td>4</td><td>50</td><td>1</td><td>0.5</td><td>0.2665286</td><td>-0.42808565</td><td>0.4717938</td><td>0.1257465</td><td>0</td></tr>\n",
       "\t<tr><td>0.02</td><td>0.94</td><td>100</td><td>4</td><td>2</td><td>4</td><td>50</td><td>1</td><td>0.5</td><td>0.4717938</td><td>-0.57464017</td><td>0.6293164</td><td>0.2969076</td><td>0</td></tr>\n",
       "\t<tr><td>0.03</td><td>0.94</td><td>100</td><td>4</td><td>2</td><td>4</td><td>50</td><td>1</td><td>0.5</td><td>0.6293164</td><td>-0.69024278</td><td>0.7494706</td><td>0.4716541</td><td>0</td></tr>\n",
       "\t<tr><td>0.04</td><td>0.94</td><td>100</td><td>4</td><td>2</td><td>4</td><td>50</td><td>1</td><td>0.5</td><td>0.7494706</td><td>-0.78119687</td><td>0.8402420</td><td>0.6297367</td><td>0</td></tr>\n",
       "\t<tr><td>0.05</td><td>0.94</td><td>100</td><td>4</td><td>2</td><td>4</td><td>50</td><td>1</td><td>0.5</td><td>0.8402420</td><td>-0.85242841</td><td>0.9077987</td><td>0.7627706</td><td>0</td></tr>\n",
       "\t<tr><td>0.06</td><td>0.94</td><td>100</td><td>4</td><td>2</td><td>4</td><td>50</td><td>1</td><td>0.5</td><td>0.9077987</td><td>-0.90779868</td><td>0.0000000</td><td>0.0000000</td><td>0</td></tr>\n",
       "\t<tr><td>0.00</td><td>0.95</td><td>100</td><td>4</td><td>2</td><td>4</td><td>50</td><td>1</td><td>0.5</td><td>0.0000000</td><td>-0.20950338</td><td>0.2713147</td><td>0.0000000</td><td>0</td></tr>\n",
       "\t<tr><td>0.01</td><td>0.95</td><td>100</td><td>4</td><td>2</td><td>4</td><td>50</td><td>1</td><td>0.5</td><td>0.2713147</td><td>-0.40527810</td><td>0.4798058</td><td>0.1301783</td><td>0</td></tr>\n",
       "\t<tr><td>0.02</td><td>0.95</td><td>100</td><td>4</td><td>2</td><td>4</td><td>50</td><td>1</td><td>0.5</td><td>0.4798058</td><td>-0.55976269</td><td>0.6394350</td><td>0.3068046</td><td>0</td></tr>\n",
       "\t<tr><td>0.03</td><td>0.95</td><td>100</td><td>4</td><td>2</td><td>4</td><td>50</td><td>1</td><td>0.5</td><td>0.6394350</td><td>-0.68156029</td><td>0.7608976</td><td>0.4865445</td><td>0</td></tr>\n",
       "\t<tr><td>0.04</td><td>0.95</td><td>100</td><td>4</td><td>2</td><td>4</td><td>50</td><td>1</td><td>0.5</td><td>0.7608976</td><td>-0.77736764</td><td>0.8524117</td><td>0.6485980</td><td>0</td></tr>\n",
       "\t<tr><td>0.05</td><td>0.95</td><td>100</td><td>4</td><td>2</td><td>4</td><td>50</td><td>1</td><td>0.5</td><td>0.8524117</td><td>-0.85241167</td><td>0.0000000</td><td>0.0000000</td><td>0</td></tr>\n",
       "\t<tr><td>0.00</td><td>0.96</td><td>100</td><td>4</td><td>2</td><td>4</td><td>50</td><td>1</td><td>0.5</td><td>0.0000000</td><td>-0.17382391</td><td>0.2762454</td><td>0.0000000</td><td>0</td></tr>\n",
       "\t<tr><td>0.01</td><td>0.96</td><td>100</td><td>4</td><td>2</td><td>4</td><td>50</td><td>1</td><td>0.5</td><td>0.2762454</td><td>-0.38041609</td><td>0.4880480</td><td>0.1348210</td><td>0</td></tr>\n",
       "\t<tr><td>0.02</td><td>0.96</td><td>100</td><td>4</td><td>2</td><td>4</td><td>50</td><td>1</td><td>0.5</td><td>0.4880480</td><td>-0.54331572</td><td>0.6498300</td><td>0.3171482</td><td>0</td></tr>\n",
       "\t<tr><td>0.03</td><td>0.96</td><td>100</td><td>4</td><td>2</td><td>4</td><td>50</td><td>1</td><td>0.5</td><td>0.6498300</td><td>-0.67167787</td><td>0.7726207</td><td>0.5020721</td><td>0</td></tr>\n",
       "\t<tr><td>0.04</td><td>0.96</td><td>100</td><td>4</td><td>2</td><td>4</td><td>50</td><td>1</td><td>0.5</td><td>0.7726207</td><td>-0.77262071</td><td>0.0000000</td><td>0.0000000</td><td>0</td></tr>\n",
       "\t<tr><td>0.00</td><td>0.97</td><td>100</td><td>4</td><td>2</td><td>4</td><td>50</td><td>1</td><td>0.5</td><td>0.0000000</td><td>-0.13525672</td><td>0.2813270</td><td>0.0000000</td><td>0</td></tr>\n",
       "\t<tr><td>0.01</td><td>0.97</td><td>100</td><td>4</td><td>2</td><td>4</td><td>50</td><td>1</td><td>0.5</td><td>0.2813270</td><td>-0.35335298</td><td>0.4965304</td><td>0.1396874</td><td>0</td></tr>\n",
       "\t<tr><td>0.02</td><td>0.97</td><td>100</td><td>4</td><td>2</td><td>4</td><td>50</td><td>1</td><td>0.5</td><td>0.4965304</td><td>-0.52518918</td><td>0.6605128</td><td>0.3279647</td><td>0</td></tr>\n",
       "\t<tr><td>0.03</td><td>0.97</td><td>100</td><td>4</td><td>2</td><td>4</td><td>50</td><td>1</td><td>0.5</td><td>0.6605128</td><td>-0.66051277</td><td>0.0000000</td><td>0.0000000</td><td>0</td></tr>\n",
       "\t<tr><td>0.00</td><td>0.98</td><td>100</td><td>4</td><td>2</td><td>4</td><td>50</td><td>1</td><td>0.5</td><td>0.0000000</td><td>-0.09358882</td><td>0.2865664</td><td>0.0000000</td><td>0</td></tr>\n",
       "\t<tr><td>0.01</td><td>0.98</td><td>100</td><td>4</td><td>2</td><td>4</td><td>50</td><td>1</td><td>0.5</td><td>0.2865664</td><td>-0.32392915</td><td>0.5052634</td><td>0.1447915</td><td>0</td></tr>\n",
       "\t<tr><td>0.02</td><td>0.98</td><td>100</td><td>4</td><td>2</td><td>4</td><td>50</td><td>1</td><td>0.5</td><td>0.5052634</td><td>-0.50526339</td><td>0.0000000</td><td>0.0000000</td><td>0</td></tr>\n",
       "\t<tr><td>0.00</td><td>0.99</td><td>100</td><td>4</td><td>2</td><td>4</td><td>50</td><td>1</td><td>0.5</td><td>0.0000000</td><td>-0.04858784</td><td>0.2919706</td><td>0.0000000</td><td>0</td></tr>\n",
       "\t<tr><td>0.01</td><td>0.99</td><td>100</td><td>4</td><td>2</td><td>4</td><td>50</td><td>1</td><td>0.5</td><td>0.2919706</td><td>-0.29197062</td><td>0.0000000</td><td>0.0000000</td><td>0</td></tr>\n",
       "\t<tr><td>0.00</td><td>1.00</td><td>100</td><td>4</td><td>2</td><td>4</td><td>50</td><td>1</td><td>0.5</td><td>0.0000000</td><td> 0.00000000</td><td>0.0000000</td><td>0.0000000</td><td>0</td></tr>\n",
       "</tbody>\n",
       "</table>\n"
      ],
      "text/latex": [
       "A data.table: 5151 × 14\n",
       "\\begin{tabular}{llllllllllllll}\n",
       " y & x & M & beta1 & beta2 & d & N & c & l & y. & x. & y1 & y0 & ystar\\\\\n",
       " <dbl> & <dbl> & <dbl> & <dbl> & <dbl> & <dbl> & <dbl> & <dbl> & <dbl> & <dbl> & <dbl> & <dbl> & <dbl> & <dbl>\\\\\n",
       "\\hline\n",
       "\t 0.00 & 0 & 100 & 4 & 2 & 4 & 50 & 1 & 0.5 & 0.00000000 & 0 & 0.08347045 & 0.00000000 & 0.505\\\\\n",
       "\t 0.01 & 0 & 100 & 4 & 2 & 4 & 50 & 1 & 0.5 & 0.08347045 & 0 & 0.15443857 & 0.01289106 & 0.505\\\\\n",
       "\t 0.02 & 0 & 100 & 4 & 2 & 4 & 50 & 1 & 0.5 & 0.15443857 & 0 & 0.21457544 & 0.03313872 & 0.505\\\\\n",
       "\t 0.03 & 0 & 100 & 4 & 2 & 4 & 50 & 1 & 0.5 & 0.21457544 & 0 & 0.26530240 & 0.05692738 & 0.505\\\\\n",
       "\t 0.04 & 0 & 100 & 4 & 2 & 4 & 50 & 1 & 0.5 & 0.26530240 & 0 & 0.30783254 & 0.08166871 & 0.505\\\\\n",
       "\t 0.05 & 0 & 100 & 4 & 2 & 4 & 50 & 1 & 0.5 & 0.30783254 & 0 & 0.34320484 & 0.10564962 & 0.505\\\\\n",
       "\t 0.06 & 0 & 100 & 4 & 2 & 4 & 50 & 1 & 0.5 & 0.34320484 & 0 & 0.37231215 & 0.12777933 & 0.505\\\\\n",
       "\t 0.07 & 0 & 100 & 4 & 2 & 4 & 50 & 1 & 0.5 & 0.37231215 & 0 & 0.39592441 & 0.14740747 & 0.505\\\\\n",
       "\t 0.08 & 0 & 100 & 4 & 2 & 4 & 50 & 1 & 0.5 & 0.39592441 & 0 & 0.41470771 & 0.16419290 & 0.505\\\\\n",
       "\t 0.09 & 0 & 100 & 4 & 2 & 4 & 50 & 1 & 0.5 & 0.41470771 & 0 & 0.42924024 & 0.17800924 & 0.505\\\\\n",
       "\t 0.10 & 0 & 100 & 4 & 2 & 4 & 50 & 1 & 0.5 & 0.42924024 & 0 & 0.44002550 & 0.18887666 & 0.505\\\\\n",
       "\t 0.11 & 0 & 100 & 4 & 2 & 4 & 50 & 1 & 0.5 & 0.44002550 & 0 & 0.44750332 & 0.19691287 & 0.505\\\\\n",
       "\t 0.12 & 0 & 100 & 4 & 2 & 4 & 50 & 1 & 0.5 & 0.44750332 & 0 & 0.45205910 & 0.20229795 & 0.505\\\\\n",
       "\t 0.13 & 0 & 100 & 4 & 2 & 4 & 50 & 1 & 0.5 & 0.45205910 & 0 & 0.45403158 & 0.20524911 & 0.505\\\\\n",
       "\t 0.14 & 0 & 100 & 4 & 2 & 4 & 50 & 1 & 0.5 & 0.45403158 & 0 & 0.45371935 & 0.20600291 & 0.505\\\\\n",
       "\t 0.15 & 0 & 100 & 4 & 2 & 4 & 50 & 1 & 0.5 & 0.45371935 & 0 & 0.45138638 & 0.20480273 & 0.505\\\\\n",
       "\t 0.16 & 0 & 100 & 4 & 2 & 4 & 50 & 1 & 0.5 & 0.45138638 & 0 & 0.44726667 & 0.20189008 & 0.505\\\\\n",
       "\t 0.17 & 0 & 100 & 4 & 2 & 4 & 50 & 1 & 0.5 & 0.44726667 & 0 & 0.44156824 & 0.19749876 & 0.505\\\\\n",
       "\t 0.18 & 0 & 100 & 4 & 2 & 4 & 50 & 1 & 0.5 & 0.44156824 & 0 & 0.43447647 & 0.19185101 & 0.505\\\\\n",
       "\t 0.19 & 0 & 100 & 4 & 2 & 4 & 50 & 1 & 0.5 & 0.43447647 & 0 & 0.42615701 & 0.18515519 & 0.505\\\\\n",
       "\t 0.20 & 0 & 100 & 4 & 2 & 4 & 50 & 1 & 0.5 & 0.42615701 & 0 & 0.41675825 & 0.17760445 & 0.505\\\\\n",
       "\t 0.21 & 0 & 100 & 4 & 2 & 4 & 50 & 1 & 0.5 & 0.41675825 & 0 & 0.40641341 & 0.16937614 & 0.505\\\\\n",
       "\t 0.22 & 0 & 100 & 4 & 2 & 4 & 50 & 1 & 0.5 & 0.40641341 & 0 & 0.39524240 & 0.16063181 & 0.505\\\\\n",
       "\t 0.23 & 0 & 100 & 4 & 2 & 4 & 50 & 1 & 0.5 & 0.39524240 & 0 & 0.38335339 & 0.15151752 & 0.505\\\\\n",
       "\t 0.24 & 0 & 100 & 4 & 2 & 4 & 50 & 1 & 0.5 & 0.38335339 & 0 & 0.37084415 & 0.14216436 & 0.505\\\\\n",
       "\t 0.25 & 0 & 100 & 4 & 2 & 4 & 50 & 1 & 0.5 & 0.37084415 & 0 & 0.35780327 & 0.13268925 & 0.505\\\\\n",
       "\t 0.26 & 0 & 100 & 4 & 2 & 4 & 50 & 1 & 0.5 & 0.35780327 & 0 & 0.34431114 & 0.12319565 & 0.505\\\\\n",
       "\t 0.27 & 0 & 100 & 4 & 2 & 4 & 50 & 1 & 0.5 & 0.34431114 & 0 & 0.33044091 & 0.11377449 & 0.505\\\\\n",
       "\t 0.28 & 0 & 100 & 4 & 2 & 4 & 50 & 1 & 0.5 & 0.33044091 & 0 & 0.31625923 & 0.10450499 & 0.505\\\\\n",
       "\t 0.29 & 0 & 100 & 4 & 2 & 4 & 50 & 1 & 0.5 & 0.31625923 & 0 & 0.30182695 & 0.09545556 & 0.505\\\\\n",
       "\t ... & ... & ... & ... & ... & ... & ... & ... & ... & ... & ... & ... & ... & ...\\\\\n",
       "\t 0.06 & 0.93 & 100 & 4 & 2 & 4 & 50 & 1 & 0.5 & 0.8955648 & -0.90431038 & 0.9446069 & 0.8459567 & 0\\\\\n",
       "\t 0.07 & 0.93 & 100 & 4 & 2 & 4 & 50 & 1 & 0.5 & 0.9446069 & -0.94460693 & 0.0000000 & 0.0000000 & 0\\\\\n",
       "\t 0.00 & 0.94 & 100 & 4 & 2 & 4 & 50 & 1 & 0.5 & 0.0000000 & -0.24249066 & 0.2665286 & 0.0000000 & 0\\\\\n",
       "\t 0.01 & 0.94 & 100 & 4 & 2 & 4 & 50 & 1 & 0.5 & 0.2665286 & -0.42808565 & 0.4717938 & 0.1257465 & 0\\\\\n",
       "\t 0.02 & 0.94 & 100 & 4 & 2 & 4 & 50 & 1 & 0.5 & 0.4717938 & -0.57464017 & 0.6293164 & 0.2969076 & 0\\\\\n",
       "\t 0.03 & 0.94 & 100 & 4 & 2 & 4 & 50 & 1 & 0.5 & 0.6293164 & -0.69024278 & 0.7494706 & 0.4716541 & 0\\\\\n",
       "\t 0.04 & 0.94 & 100 & 4 & 2 & 4 & 50 & 1 & 0.5 & 0.7494706 & -0.78119687 & 0.8402420 & 0.6297367 & 0\\\\\n",
       "\t 0.05 & 0.94 & 100 & 4 & 2 & 4 & 50 & 1 & 0.5 & 0.8402420 & -0.85242841 & 0.9077987 & 0.7627706 & 0\\\\\n",
       "\t 0.06 & 0.94 & 100 & 4 & 2 & 4 & 50 & 1 & 0.5 & 0.9077987 & -0.90779868 & 0.0000000 & 0.0000000 & 0\\\\\n",
       "\t 0.00 & 0.95 & 100 & 4 & 2 & 4 & 50 & 1 & 0.5 & 0.0000000 & -0.20950338 & 0.2713147 & 0.0000000 & 0\\\\\n",
       "\t 0.01 & 0.95 & 100 & 4 & 2 & 4 & 50 & 1 & 0.5 & 0.2713147 & -0.40527810 & 0.4798058 & 0.1301783 & 0\\\\\n",
       "\t 0.02 & 0.95 & 100 & 4 & 2 & 4 & 50 & 1 & 0.5 & 0.4798058 & -0.55976269 & 0.6394350 & 0.3068046 & 0\\\\\n",
       "\t 0.03 & 0.95 & 100 & 4 & 2 & 4 & 50 & 1 & 0.5 & 0.6394350 & -0.68156029 & 0.7608976 & 0.4865445 & 0\\\\\n",
       "\t 0.04 & 0.95 & 100 & 4 & 2 & 4 & 50 & 1 & 0.5 & 0.7608976 & -0.77736764 & 0.8524117 & 0.6485980 & 0\\\\\n",
       "\t 0.05 & 0.95 & 100 & 4 & 2 & 4 & 50 & 1 & 0.5 & 0.8524117 & -0.85241167 & 0.0000000 & 0.0000000 & 0\\\\\n",
       "\t 0.00 & 0.96 & 100 & 4 & 2 & 4 & 50 & 1 & 0.5 & 0.0000000 & -0.17382391 & 0.2762454 & 0.0000000 & 0\\\\\n",
       "\t 0.01 & 0.96 & 100 & 4 & 2 & 4 & 50 & 1 & 0.5 & 0.2762454 & -0.38041609 & 0.4880480 & 0.1348210 & 0\\\\\n",
       "\t 0.02 & 0.96 & 100 & 4 & 2 & 4 & 50 & 1 & 0.5 & 0.4880480 & -0.54331572 & 0.6498300 & 0.3171482 & 0\\\\\n",
       "\t 0.03 & 0.96 & 100 & 4 & 2 & 4 & 50 & 1 & 0.5 & 0.6498300 & -0.67167787 & 0.7726207 & 0.5020721 & 0\\\\\n",
       "\t 0.04 & 0.96 & 100 & 4 & 2 & 4 & 50 & 1 & 0.5 & 0.7726207 & -0.77262071 & 0.0000000 & 0.0000000 & 0\\\\\n",
       "\t 0.00 & 0.97 & 100 & 4 & 2 & 4 & 50 & 1 & 0.5 & 0.0000000 & -0.13525672 & 0.2813270 & 0.0000000 & 0\\\\\n",
       "\t 0.01 & 0.97 & 100 & 4 & 2 & 4 & 50 & 1 & 0.5 & 0.2813270 & -0.35335298 & 0.4965304 & 0.1396874 & 0\\\\\n",
       "\t 0.02 & 0.97 & 100 & 4 & 2 & 4 & 50 & 1 & 0.5 & 0.4965304 & -0.52518918 & 0.6605128 & 0.3279647 & 0\\\\\n",
       "\t 0.03 & 0.97 & 100 & 4 & 2 & 4 & 50 & 1 & 0.5 & 0.6605128 & -0.66051277 & 0.0000000 & 0.0000000 & 0\\\\\n",
       "\t 0.00 & 0.98 & 100 & 4 & 2 & 4 & 50 & 1 & 0.5 & 0.0000000 & -0.09358882 & 0.2865664 & 0.0000000 & 0\\\\\n",
       "\t 0.01 & 0.98 & 100 & 4 & 2 & 4 & 50 & 1 & 0.5 & 0.2865664 & -0.32392915 & 0.5052634 & 0.1447915 & 0\\\\\n",
       "\t 0.02 & 0.98 & 100 & 4 & 2 & 4 & 50 & 1 & 0.5 & 0.5052634 & -0.50526339 & 0.0000000 & 0.0000000 & 0\\\\\n",
       "\t 0.00 & 0.99 & 100 & 4 & 2 & 4 & 50 & 1 & 0.5 & 0.0000000 & -0.04858784 & 0.2919706 & 0.0000000 & 0\\\\\n",
       "\t 0.01 & 0.99 & 100 & 4 & 2 & 4 & 50 & 1 & 0.5 & 0.2919706 & -0.29197062 & 0.0000000 & 0.0000000 & 0\\\\\n",
       "\t 0.00 & 1.00 & 100 & 4 & 2 & 4 & 50 & 1 & 0.5 & 0.0000000 &  0.00000000 & 0.0000000 & 0.0000000 & 0\\\\\n",
       "\\end{tabular}\n"
      ],
      "text/markdown": [
       "\n",
       "A data.table: 5151 × 14\n",
       "\n",
       "| y &lt;dbl&gt; | x &lt;dbl&gt; | M &lt;dbl&gt; | beta1 &lt;dbl&gt; | beta2 &lt;dbl&gt; | d &lt;dbl&gt; | N &lt;dbl&gt; | c &lt;dbl&gt; | l &lt;dbl&gt; | y. &lt;dbl&gt; | x. &lt;dbl&gt; | y1 &lt;dbl&gt; | y0 &lt;dbl&gt; | ystar &lt;dbl&gt; |\n",
       "|---|---|---|---|---|---|---|---|---|---|---|---|---|---|\n",
       "| 0.00 | 0 | 100 | 4 | 2 | 4 | 50 | 1 | 0.5 | 0.00000000 | 0 | 0.08347045 | 0.00000000 | 0.505 |\n",
       "| 0.01 | 0 | 100 | 4 | 2 | 4 | 50 | 1 | 0.5 | 0.08347045 | 0 | 0.15443857 | 0.01289106 | 0.505 |\n",
       "| 0.02 | 0 | 100 | 4 | 2 | 4 | 50 | 1 | 0.5 | 0.15443857 | 0 | 0.21457544 | 0.03313872 | 0.505 |\n",
       "| 0.03 | 0 | 100 | 4 | 2 | 4 | 50 | 1 | 0.5 | 0.21457544 | 0 | 0.26530240 | 0.05692738 | 0.505 |\n",
       "| 0.04 | 0 | 100 | 4 | 2 | 4 | 50 | 1 | 0.5 | 0.26530240 | 0 | 0.30783254 | 0.08166871 | 0.505 |\n",
       "| 0.05 | 0 | 100 | 4 | 2 | 4 | 50 | 1 | 0.5 | 0.30783254 | 0 | 0.34320484 | 0.10564962 | 0.505 |\n",
       "| 0.06 | 0 | 100 | 4 | 2 | 4 | 50 | 1 | 0.5 | 0.34320484 | 0 | 0.37231215 | 0.12777933 | 0.505 |\n",
       "| 0.07 | 0 | 100 | 4 | 2 | 4 | 50 | 1 | 0.5 | 0.37231215 | 0 | 0.39592441 | 0.14740747 | 0.505 |\n",
       "| 0.08 | 0 | 100 | 4 | 2 | 4 | 50 | 1 | 0.5 | 0.39592441 | 0 | 0.41470771 | 0.16419290 | 0.505 |\n",
       "| 0.09 | 0 | 100 | 4 | 2 | 4 | 50 | 1 | 0.5 | 0.41470771 | 0 | 0.42924024 | 0.17800924 | 0.505 |\n",
       "| 0.10 | 0 | 100 | 4 | 2 | 4 | 50 | 1 | 0.5 | 0.42924024 | 0 | 0.44002550 | 0.18887666 | 0.505 |\n",
       "| 0.11 | 0 | 100 | 4 | 2 | 4 | 50 | 1 | 0.5 | 0.44002550 | 0 | 0.44750332 | 0.19691287 | 0.505 |\n",
       "| 0.12 | 0 | 100 | 4 | 2 | 4 | 50 | 1 | 0.5 | 0.44750332 | 0 | 0.45205910 | 0.20229795 | 0.505 |\n",
       "| 0.13 | 0 | 100 | 4 | 2 | 4 | 50 | 1 | 0.5 | 0.45205910 | 0 | 0.45403158 | 0.20524911 | 0.505 |\n",
       "| 0.14 | 0 | 100 | 4 | 2 | 4 | 50 | 1 | 0.5 | 0.45403158 | 0 | 0.45371935 | 0.20600291 | 0.505 |\n",
       "| 0.15 | 0 | 100 | 4 | 2 | 4 | 50 | 1 | 0.5 | 0.45371935 | 0 | 0.45138638 | 0.20480273 | 0.505 |\n",
       "| 0.16 | 0 | 100 | 4 | 2 | 4 | 50 | 1 | 0.5 | 0.45138638 | 0 | 0.44726667 | 0.20189008 | 0.505 |\n",
       "| 0.17 | 0 | 100 | 4 | 2 | 4 | 50 | 1 | 0.5 | 0.44726667 | 0 | 0.44156824 | 0.19749876 | 0.505 |\n",
       "| 0.18 | 0 | 100 | 4 | 2 | 4 | 50 | 1 | 0.5 | 0.44156824 | 0 | 0.43447647 | 0.19185101 | 0.505 |\n",
       "| 0.19 | 0 | 100 | 4 | 2 | 4 | 50 | 1 | 0.5 | 0.43447647 | 0 | 0.42615701 | 0.18515519 | 0.505 |\n",
       "| 0.20 | 0 | 100 | 4 | 2 | 4 | 50 | 1 | 0.5 | 0.42615701 | 0 | 0.41675825 | 0.17760445 | 0.505 |\n",
       "| 0.21 | 0 | 100 | 4 | 2 | 4 | 50 | 1 | 0.5 | 0.41675825 | 0 | 0.40641341 | 0.16937614 | 0.505 |\n",
       "| 0.22 | 0 | 100 | 4 | 2 | 4 | 50 | 1 | 0.5 | 0.40641341 | 0 | 0.39524240 | 0.16063181 | 0.505 |\n",
       "| 0.23 | 0 | 100 | 4 | 2 | 4 | 50 | 1 | 0.5 | 0.39524240 | 0 | 0.38335339 | 0.15151752 | 0.505 |\n",
       "| 0.24 | 0 | 100 | 4 | 2 | 4 | 50 | 1 | 0.5 | 0.38335339 | 0 | 0.37084415 | 0.14216436 | 0.505 |\n",
       "| 0.25 | 0 | 100 | 4 | 2 | 4 | 50 | 1 | 0.5 | 0.37084415 | 0 | 0.35780327 | 0.13268925 | 0.505 |\n",
       "| 0.26 | 0 | 100 | 4 | 2 | 4 | 50 | 1 | 0.5 | 0.35780327 | 0 | 0.34431114 | 0.12319565 | 0.505 |\n",
       "| 0.27 | 0 | 100 | 4 | 2 | 4 | 50 | 1 | 0.5 | 0.34431114 | 0 | 0.33044091 | 0.11377449 | 0.505 |\n",
       "| 0.28 | 0 | 100 | 4 | 2 | 4 | 50 | 1 | 0.5 | 0.33044091 | 0 | 0.31625923 | 0.10450499 | 0.505 |\n",
       "| 0.29 | 0 | 100 | 4 | 2 | 4 | 50 | 1 | 0.5 | 0.31625923 | 0 | 0.30182695 | 0.09545556 | 0.505 |\n",
       "| ... | ... | ... | ... | ... | ... | ... | ... | ... | ... | ... | ... | ... | ... |\n",
       "| 0.06 | 0.93 | 100 | 4 | 2 | 4 | 50 | 1 | 0.5 | 0.8955648 | -0.90431038 | 0.9446069 | 0.8459567 | 0 |\n",
       "| 0.07 | 0.93 | 100 | 4 | 2 | 4 | 50 | 1 | 0.5 | 0.9446069 | -0.94460693 | 0.0000000 | 0.0000000 | 0 |\n",
       "| 0.00 | 0.94 | 100 | 4 | 2 | 4 | 50 | 1 | 0.5 | 0.0000000 | -0.24249066 | 0.2665286 | 0.0000000 | 0 |\n",
       "| 0.01 | 0.94 | 100 | 4 | 2 | 4 | 50 | 1 | 0.5 | 0.2665286 | -0.42808565 | 0.4717938 | 0.1257465 | 0 |\n",
       "| 0.02 | 0.94 | 100 | 4 | 2 | 4 | 50 | 1 | 0.5 | 0.4717938 | -0.57464017 | 0.6293164 | 0.2969076 | 0 |\n",
       "| 0.03 | 0.94 | 100 | 4 | 2 | 4 | 50 | 1 | 0.5 | 0.6293164 | -0.69024278 | 0.7494706 | 0.4716541 | 0 |\n",
       "| 0.04 | 0.94 | 100 | 4 | 2 | 4 | 50 | 1 | 0.5 | 0.7494706 | -0.78119687 | 0.8402420 | 0.6297367 | 0 |\n",
       "| 0.05 | 0.94 | 100 | 4 | 2 | 4 | 50 | 1 | 0.5 | 0.8402420 | -0.85242841 | 0.9077987 | 0.7627706 | 0 |\n",
       "| 0.06 | 0.94 | 100 | 4 | 2 | 4 | 50 | 1 | 0.5 | 0.9077987 | -0.90779868 | 0.0000000 | 0.0000000 | 0 |\n",
       "| 0.00 | 0.95 | 100 | 4 | 2 | 4 | 50 | 1 | 0.5 | 0.0000000 | -0.20950338 | 0.2713147 | 0.0000000 | 0 |\n",
       "| 0.01 | 0.95 | 100 | 4 | 2 | 4 | 50 | 1 | 0.5 | 0.2713147 | -0.40527810 | 0.4798058 | 0.1301783 | 0 |\n",
       "| 0.02 | 0.95 | 100 | 4 | 2 | 4 | 50 | 1 | 0.5 | 0.4798058 | -0.55976269 | 0.6394350 | 0.3068046 | 0 |\n",
       "| 0.03 | 0.95 | 100 | 4 | 2 | 4 | 50 | 1 | 0.5 | 0.6394350 | -0.68156029 | 0.7608976 | 0.4865445 | 0 |\n",
       "| 0.04 | 0.95 | 100 | 4 | 2 | 4 | 50 | 1 | 0.5 | 0.7608976 | -0.77736764 | 0.8524117 | 0.6485980 | 0 |\n",
       "| 0.05 | 0.95 | 100 | 4 | 2 | 4 | 50 | 1 | 0.5 | 0.8524117 | -0.85241167 | 0.0000000 | 0.0000000 | 0 |\n",
       "| 0.00 | 0.96 | 100 | 4 | 2 | 4 | 50 | 1 | 0.5 | 0.0000000 | -0.17382391 | 0.2762454 | 0.0000000 | 0 |\n",
       "| 0.01 | 0.96 | 100 | 4 | 2 | 4 | 50 | 1 | 0.5 | 0.2762454 | -0.38041609 | 0.4880480 | 0.1348210 | 0 |\n",
       "| 0.02 | 0.96 | 100 | 4 | 2 | 4 | 50 | 1 | 0.5 | 0.4880480 | -0.54331572 | 0.6498300 | 0.3171482 | 0 |\n",
       "| 0.03 | 0.96 | 100 | 4 | 2 | 4 | 50 | 1 | 0.5 | 0.6498300 | -0.67167787 | 0.7726207 | 0.5020721 | 0 |\n",
       "| 0.04 | 0.96 | 100 | 4 | 2 | 4 | 50 | 1 | 0.5 | 0.7726207 | -0.77262071 | 0.0000000 | 0.0000000 | 0 |\n",
       "| 0.00 | 0.97 | 100 | 4 | 2 | 4 | 50 | 1 | 0.5 | 0.0000000 | -0.13525672 | 0.2813270 | 0.0000000 | 0 |\n",
       "| 0.01 | 0.97 | 100 | 4 | 2 | 4 | 50 | 1 | 0.5 | 0.2813270 | -0.35335298 | 0.4965304 | 0.1396874 | 0 |\n",
       "| 0.02 | 0.97 | 100 | 4 | 2 | 4 | 50 | 1 | 0.5 | 0.4965304 | -0.52518918 | 0.6605128 | 0.3279647 | 0 |\n",
       "| 0.03 | 0.97 | 100 | 4 | 2 | 4 | 50 | 1 | 0.5 | 0.6605128 | -0.66051277 | 0.0000000 | 0.0000000 | 0 |\n",
       "| 0.00 | 0.98 | 100 | 4 | 2 | 4 | 50 | 1 | 0.5 | 0.0000000 | -0.09358882 | 0.2865664 | 0.0000000 | 0 |\n",
       "| 0.01 | 0.98 | 100 | 4 | 2 | 4 | 50 | 1 | 0.5 | 0.2865664 | -0.32392915 | 0.5052634 | 0.1447915 | 0 |\n",
       "| 0.02 | 0.98 | 100 | 4 | 2 | 4 | 50 | 1 | 0.5 | 0.5052634 | -0.50526339 | 0.0000000 | 0.0000000 | 0 |\n",
       "| 0.00 | 0.99 | 100 | 4 | 2 | 4 | 50 | 1 | 0.5 | 0.0000000 | -0.04858784 | 0.2919706 | 0.0000000 | 0 |\n",
       "| 0.01 | 0.99 | 100 | 4 | 2 | 4 | 50 | 1 | 0.5 | 0.2919706 | -0.29197062 | 0.0000000 | 0.0000000 | 0 |\n",
       "| 0.00 | 1.00 | 100 | 4 | 2 | 4 | 50 | 1 | 0.5 | 0.0000000 |  0.00000000 | 0.0000000 | 0.0000000 | 0 |\n",
       "\n"
      ],
      "text/plain": [
       "     y    x    M   beta1 beta2 d   N   c   l   y.         x.         \n",
       "1    0.00 0    100 4     2     4   50  1   0.5 0.00000000 0          \n",
       "2    0.01 0    100 4     2     4   50  1   0.5 0.08347045 0          \n",
       "3    0.02 0    100 4     2     4   50  1   0.5 0.15443857 0          \n",
       "4    0.03 0    100 4     2     4   50  1   0.5 0.21457544 0          \n",
       "5    0.04 0    100 4     2     4   50  1   0.5 0.26530240 0          \n",
       "6    0.05 0    100 4     2     4   50  1   0.5 0.30783254 0          \n",
       "7    0.06 0    100 4     2     4   50  1   0.5 0.34320484 0          \n",
       "8    0.07 0    100 4     2     4   50  1   0.5 0.37231215 0          \n",
       "9    0.08 0    100 4     2     4   50  1   0.5 0.39592441 0          \n",
       "10   0.09 0    100 4     2     4   50  1   0.5 0.41470771 0          \n",
       "11   0.10 0    100 4     2     4   50  1   0.5 0.42924024 0          \n",
       "12   0.11 0    100 4     2     4   50  1   0.5 0.44002550 0          \n",
       "13   0.12 0    100 4     2     4   50  1   0.5 0.44750332 0          \n",
       "14   0.13 0    100 4     2     4   50  1   0.5 0.45205910 0          \n",
       "15   0.14 0    100 4     2     4   50  1   0.5 0.45403158 0          \n",
       "16   0.15 0    100 4     2     4   50  1   0.5 0.45371935 0          \n",
       "17   0.16 0    100 4     2     4   50  1   0.5 0.45138638 0          \n",
       "18   0.17 0    100 4     2     4   50  1   0.5 0.44726667 0          \n",
       "19   0.18 0    100 4     2     4   50  1   0.5 0.44156824 0          \n",
       "20   0.19 0    100 4     2     4   50  1   0.5 0.43447647 0          \n",
       "21   0.20 0    100 4     2     4   50  1   0.5 0.42615701 0          \n",
       "22   0.21 0    100 4     2     4   50  1   0.5 0.41675825 0          \n",
       "23   0.22 0    100 4     2     4   50  1   0.5 0.40641341 0          \n",
       "24   0.23 0    100 4     2     4   50  1   0.5 0.39524240 0          \n",
       "25   0.24 0    100 4     2     4   50  1   0.5 0.38335339 0          \n",
       "26   0.25 0    100 4     2     4   50  1   0.5 0.37084415 0          \n",
       "27   0.26 0    100 4     2     4   50  1   0.5 0.35780327 0          \n",
       "28   0.27 0    100 4     2     4   50  1   0.5 0.34431114 0          \n",
       "29   0.28 0    100 4     2     4   50  1   0.5 0.33044091 0          \n",
       "30   0.29 0    100 4     2     4   50  1   0.5 0.31625923 0          \n",
       "...  ...  ...  ... ...   ...   ... ... ... ... ...        ...        \n",
       "5122 0.06 0.93 100 4     2     4   50  1   0.5 0.8955648  -0.90431038\n",
       "5123 0.07 0.93 100 4     2     4   50  1   0.5 0.9446069  -0.94460693\n",
       "5124 0.00 0.94 100 4     2     4   50  1   0.5 0.0000000  -0.24249066\n",
       "5125 0.01 0.94 100 4     2     4   50  1   0.5 0.2665286  -0.42808565\n",
       "5126 0.02 0.94 100 4     2     4   50  1   0.5 0.4717938  -0.57464017\n",
       "5127 0.03 0.94 100 4     2     4   50  1   0.5 0.6293164  -0.69024278\n",
       "5128 0.04 0.94 100 4     2     4   50  1   0.5 0.7494706  -0.78119687\n",
       "5129 0.05 0.94 100 4     2     4   50  1   0.5 0.8402420  -0.85242841\n",
       "5130 0.06 0.94 100 4     2     4   50  1   0.5 0.9077987  -0.90779868\n",
       "5131 0.00 0.95 100 4     2     4   50  1   0.5 0.0000000  -0.20950338\n",
       "5132 0.01 0.95 100 4     2     4   50  1   0.5 0.2713147  -0.40527810\n",
       "5133 0.02 0.95 100 4     2     4   50  1   0.5 0.4798058  -0.55976269\n",
       "5134 0.03 0.95 100 4     2     4   50  1   0.5 0.6394350  -0.68156029\n",
       "5135 0.04 0.95 100 4     2     4   50  1   0.5 0.7608976  -0.77736764\n",
       "5136 0.05 0.95 100 4     2     4   50  1   0.5 0.8524117  -0.85241167\n",
       "5137 0.00 0.96 100 4     2     4   50  1   0.5 0.0000000  -0.17382391\n",
       "5138 0.01 0.96 100 4     2     4   50  1   0.5 0.2762454  -0.38041609\n",
       "5139 0.02 0.96 100 4     2     4   50  1   0.5 0.4880480  -0.54331572\n",
       "5140 0.03 0.96 100 4     2     4   50  1   0.5 0.6498300  -0.67167787\n",
       "5141 0.04 0.96 100 4     2     4   50  1   0.5 0.7726207  -0.77262071\n",
       "5142 0.00 0.97 100 4     2     4   50  1   0.5 0.0000000  -0.13525672\n",
       "5143 0.01 0.97 100 4     2     4   50  1   0.5 0.2813270  -0.35335298\n",
       "5144 0.02 0.97 100 4     2     4   50  1   0.5 0.4965304  -0.52518918\n",
       "5145 0.03 0.97 100 4     2     4   50  1   0.5 0.6605128  -0.66051277\n",
       "5146 0.00 0.98 100 4     2     4   50  1   0.5 0.0000000  -0.09358882\n",
       "5147 0.01 0.98 100 4     2     4   50  1   0.5 0.2865664  -0.32392915\n",
       "5148 0.02 0.98 100 4     2     4   50  1   0.5 0.5052634  -0.50526339\n",
       "5149 0.00 0.99 100 4     2     4   50  1   0.5 0.0000000  -0.04858784\n",
       "5150 0.01 0.99 100 4     2     4   50  1   0.5 0.2919706  -0.29197062\n",
       "5151 0.00 1.00 100 4     2     4   50  1   0.5 0.0000000   0.00000000\n",
       "     y1         y0         ystar\n",
       "1    0.08347045 0.00000000 0.505\n",
       "2    0.15443857 0.01289106 0.505\n",
       "3    0.21457544 0.03313872 0.505\n",
       "4    0.26530240 0.05692738 0.505\n",
       "5    0.30783254 0.08166871 0.505\n",
       "6    0.34320484 0.10564962 0.505\n",
       "7    0.37231215 0.12777933 0.505\n",
       "8    0.39592441 0.14740747 0.505\n",
       "9    0.41470771 0.16419290 0.505\n",
       "10   0.42924024 0.17800924 0.505\n",
       "11   0.44002550 0.18887666 0.505\n",
       "12   0.44750332 0.19691287 0.505\n",
       "13   0.45205910 0.20229795 0.505\n",
       "14   0.45403158 0.20524911 0.505\n",
       "15   0.45371935 0.20600291 0.505\n",
       "16   0.45138638 0.20480273 0.505\n",
       "17   0.44726667 0.20189008 0.505\n",
       "18   0.44156824 0.19749876 0.505\n",
       "19   0.43447647 0.19185101 0.505\n",
       "20   0.42615701 0.18515519 0.505\n",
       "21   0.41675825 0.17760445 0.505\n",
       "22   0.40641341 0.16937614 0.505\n",
       "23   0.39524240 0.16063181 0.505\n",
       "24   0.38335339 0.15151752 0.505\n",
       "25   0.37084415 0.14216436 0.505\n",
       "26   0.35780327 0.13268925 0.505\n",
       "27   0.34431114 0.12319565 0.505\n",
       "28   0.33044091 0.11377449 0.505\n",
       "29   0.31625923 0.10450499 0.505\n",
       "30   0.30182695 0.09545556 0.505\n",
       "...  ...        ...        ...  \n",
       "5122 0.9446069  0.8459567  0    \n",
       "5123 0.0000000  0.0000000  0    \n",
       "5124 0.2665286  0.0000000  0    \n",
       "5125 0.4717938  0.1257465  0    \n",
       "5126 0.6293164  0.2969076  0    \n",
       "5127 0.7494706  0.4716541  0    \n",
       "5128 0.8402420  0.6297367  0    \n",
       "5129 0.9077987  0.7627706  0    \n",
       "5130 0.0000000  0.0000000  0    \n",
       "5131 0.2713147  0.0000000  0    \n",
       "5132 0.4798058  0.1301783  0    \n",
       "5133 0.6394350  0.3068046  0    \n",
       "5134 0.7608976  0.4865445  0    \n",
       "5135 0.8524117  0.6485980  0    \n",
       "5136 0.0000000  0.0000000  0    \n",
       "5137 0.2762454  0.0000000  0    \n",
       "5138 0.4880480  0.1348210  0    \n",
       "5139 0.6498300  0.3171482  0    \n",
       "5140 0.7726207  0.5020721  0    \n",
       "5141 0.0000000  0.0000000  0    \n",
       "5142 0.2813270  0.0000000  0    \n",
       "5143 0.4965304  0.1396874  0    \n",
       "5144 0.6605128  0.3279647  0    \n",
       "5145 0.0000000  0.0000000  0    \n",
       "5146 0.2865664  0.0000000  0    \n",
       "5147 0.5052634  0.1447915  0    \n",
       "5148 0.0000000  0.0000000  0    \n",
       "5149 0.2919706  0.0000000  0    \n",
       "5150 0.0000000  0.0000000  0    \n",
       "5151 0.0000000  0.0000000  0    "
      ]
     },
     "metadata": {},
     "output_type": "display_data"
    }
   ],
   "source": [
    "data1"
   ]
  },
  {
   "cell_type": "code",
   "execution_count": 70,
   "metadata": {},
   "outputs": [
    {
     "data": {
      "image/png": "[encoded data removed]",
      "text/plain": [
       "plot without title"
      ]
     },
     "metadata": {
      "image/png": {
       "height": 420,
       "width": 420
      }
     },
     "output_type": "display_data"
    }
   ],
   "source": [
    "#x与y对ystar的影响？\n",
    "#.x,y, fill=y.  然后把y.=0的点标记红色\n",
    "data2<-data1 %>% \n",
    "  subset(y0<0) %>% \n",
    "  dplyr::select(y,x)\n",
    "\n",
    "data3<-data1 %>% \n",
    "  mutate(x2=c(data2$x,rep(0,nrow(data1)-nrow(data2)))) %>% \n",
    "  mutate(y2=c(data2$y,rep(0,nrow(data1)-nrow(data2))))\n",
    "\n",
    "ggplot(data3,aes(x=y,y=x))+\n",
    "  geom_raster(aes(fill=y.))+\n",
    "  scale_fill_gradient(high = \"red\", low =\"yellow\")+ #解决灰块问题\n",
    "  geom_point(aes(x=y2,y=x2),color=\"red\")"
   ]
  },
  {
   "cell_type": "code",
   "execution_count": 54,
   "metadata": {},
   "outputs": [
    {
     "data": {
      "image/png": "[encoded data removed]",
      "text/plain": [
       "plot without title"
      ]
     },
     "metadata": {
      "image/png": {
       "height": 420,
       "width": 420
      }
     },
     "output_type": "display_data"
    }
   ],
   "source": [
    "#x与y对ystar的影响？\n",
    "#.x,y, fill=y.  然后把y.=0的点标记红色\n",
    "data2<-data1 %>% \n",
    "  subset(y0<0) %>% \n",
    "  dplyr::select(y,x)\n",
    "\n",
    "data3<-data1 %>% \n",
    "  mutate(x2=c(data2$x,rep(0,nrow(data1)-nrow(data2)))) %>% \n",
    "  mutate(y2=c(data2$y,rep(0,nrow(data1)-nrow(data2))))\n",
    "\n",
    "ggplot(data3,aes(x=y,y=x))+\n",
    "  geom_raster(aes(fill=y.))+\n",
    "  scale_fill_gradientn(values = c(round(min(data3$y.),digits = 2)-0.1,0,round(max(data3$y.),digits = 2)+0.1),\n",
    "                       colors = c('yellow','red'))+\n",
    "  geom_point(aes(x=y2,y=x2),color=\"red\")\n",
    "\n",
    "#左上角有点异常点，什么原因？\n",
    "#如何配色更适合凸显0的分界线？\n",
    "#如何解释？"
   ]
  },
  {
   "cell_type": "code",
   "execution_count": 44,
   "metadata": {},
   "outputs": [
    {
     "data": {
      "text/html": [
       "0.981610769217792"
      ],
      "text/latex": [
       "0.981610769217792"
      ],
      "text/markdown": [
       "0.981610769217792"
      ],
      "text/plain": [
       "[1] 0.9816108"
      ]
     },
     "metadata": {},
     "output_type": "display_data"
    }
   ],
   "source": [
    "max(data3$y.)"
   ]
  },
  {
   "cell_type": "code",
   "execution_count": 35,
   "metadata": {},
   "outputs": [
    {
     "data": {
      "text/html": [
       "-0.178817267415402"
      ],
      "text/latex": [
       "-0.178817267415402"
      ],
      "text/markdown": [
       "-0.178817267415402"
      ],
      "text/plain": [
       "[1] -0.1788173"
      ]
     },
     "metadata": {},
     "output_type": "display_data"
    }
   ],
   "source": [
    "min(data3$y.)"
   ]
  },
  {
   "cell_type": "code",
   "execution_count": 71,
   "metadata": {},
   "outputs": [
    {
     "data": {
      "image/png": "[encoded data removed]",
      "text/plain": [
       "plot without title"
      ]
     },
     "metadata": {
      "image/png": {
       "height": 420,
       "width": 420
      }
     },
     "output_type": "display_data"
    }
   ],
   "source": [
    "#----------------------------------------------#\n",
    "#--------1.2内卷人数比例对躺平人数的影响-------#\n",
    "#----------------------------------------------#\n",
    "\n",
    "data1<-data %>% \n",
    "  mutate(y=round(y,digits=2)) %>% #排序有问题，debug是浮点数的问题#第495行\n",
    "  mutate(x=round(x,digits=2)) %>%\n",
    "  arrange(y,x) %>% \n",
    "  data.table() %>% \n",
    "  .[,x1:=c(x.[-1],0),by=y] %>% \n",
    "  mutate(x0=x.*x1) %>% \n",
    "  data.table() %>% \n",
    "  .[,xstar:=x[x0<0]-0.005,by=y] %>% \n",
    "  mutate(xstar=ifelse(is.na(xstar),0,xstar)) %>% #好多NA的问题，是无0,要设置为o\n",
    "  subset(!is.na(ystar))\n",
    "\n",
    "#ystar随x是如何变化的？\n",
    "ggplot(data1,aes(x=y,y=xstar))+\n",
    "  geom_point()\n",
    "\n",
    "#如何解释？"
   ]
  },
  {
   "cell_type": "code",
   "execution_count": 72,
   "metadata": {},
   "outputs": [
    {
     "data": {
      "image/png": "[encoded data removed]",
      "text/plain": [
       "plot without title"
      ]
     },
     "metadata": {
      "image/png": {
       "height": 420,
       "width": 420
      }
     },
     "output_type": "display_data"
    }
   ],
   "source": [
    "#当y=0.1时\n",
    "df<-data %>% \n",
    "  subset(y==0.1)%>% \n",
    "  mutate(x1=c(x.[-1],0)) %>%                                                                          \n",
    "  mutate(x0=x.*x1)#通过前一项与后一项相乘是否小于0，来获取临界点ystar\n",
    "\n",
    "xstar<-ifelse(sum(df$x[df$x0<0])==0,0,df$x[df$x0<0]+0.005)\n",
    "\n",
    "ggplot(df,aes(x=x,y=x.))+\n",
    "  geom_line(color=\"black\",size=0.3)+\n",
    "  theme_few() +\n",
    "  geom_point(aes(x=xstar,y=0))+\n",
    "  geom_text(aes(x=xstar,y=0),label=paste(\"x*:\",xstar),size=4,nudge_y = 0.001,nudge_x = 0.03,color=\"red\")+\n",
    "  geom_hline(aes(yintercept = 0),size=0.3)+\n",
    "  labs(x = \"x\", y = \"x.\")"
   ]
  },
  {
   "cell_type": "code",
   "execution_count": 63,
   "metadata": {},
   "outputs": [
    {
     "data": {
      "image/png": "[encoded data removed]",
      "text/plain": [
       "plot without title"
      ]
     },
     "metadata": {
      "image/png": {
       "height": 420,
       "width": 420
      }
     },
     "output_type": "display_data"
    }
   ],
   "source": [
    "#x与y对xstar的影响？\n",
    "#.x,y, fill=y.  然后把y.=0的点标记红色\n",
    "data2<-data1 %>% \n",
    "  subset(x0<0) %>% \n",
    "  dplyr::select(y,x)\n",
    "\n",
    "data3<-data1 %>% \n",
    "  mutate(x2=c(data2$x,rep(0,nrow(data1)-nrow(data2)))) %>% \n",
    "  mutate(y2=c(data2$y,rep(0,nrow(data1)-nrow(data2))))\n",
    "\n",
    "ggplot(data3,aes(x=y,y=x))+\n",
    "  scale_fill_gradientn(values = c(round(min(data3$x.),digits = 2)-0.1,round(max(data3$x.),digits = 2)+0.1),\n",
    "                       colors = c('yellow','red'))+\n",
    "  geom_raster(aes(fill=x.))+\n",
    "  geom_point(aes(x=y2,y=x2),color=\"red\")\n",
    "\n",
    "#大片异常点，什么原因？\n",
    "#如何配色更适合凸显0的分界线？\n",
    "#如何解释？"
   ]
  },
  {
   "cell_type": "code",
   "execution_count": 75,
   "metadata": {},
   "outputs": [
    {
     "data": {
      "image/png": "[encoded data removed]",
      "text/plain": [
       "plot without title"
      ]
     },
     "metadata": {
      "image/png": {
       "height": 420,
       "width": 420
      }
     },
     "output_type": "display_data"
    }
   ],
   "source": [
    "#x与y对xstar的影响？\n",
    "#.x,y, fill=y.  然后把y.=0的点标记红色\n",
    "data2<-data1 %>% \n",
    "  subset(x0<0) %>% \n",
    "  dplyr::select(y,x)\n",
    "\n",
    "data3<-data1 %>% \n",
    "  mutate(x2=c(data2$x,rep(0,nrow(data1)-nrow(data2)))) %>% \n",
    "  mutate(y2=c(data2$y,rep(0,nrow(data1)-nrow(data2))))\n",
    "\n",
    "ggplot(data3,aes(x=y,y=x))+\n",
    "  scale_fill_gradient(high = \"red\" , low =\"yellow\")+\n",
    "  geom_raster(aes(fill=x.))+\n",
    "  geom_point(aes(x=y2,y=x2),color=\"black\")\n",
    "\n",
    "#大片异常点，什么原因？\n",
    "#如何配色更适合凸显0的分界线？\n",
    "#如何解释？"
   ]
  },
  {
   "cell_type": "code",
   "execution_count": 73,
   "metadata": {},
   "outputs": [
    {
     "data": {
      "image/png": "[encoded data removed]",
      "text/plain": [
       "plot without title"
      ]
     },
     "metadata": {
      "image/png": {
       "height": 420,
       "width": 420
      }
     },
     "output_type": "display_data"
    }
   ],
   "source": [
    "#当y=0.7时\n",
    "df<-data %>% \n",
    "  subset(y==0.2)%>% \n",
    "  mutate(x1=c(x.[-1],0)) %>% \n",
    "  mutate(x0=x.*x1)#通过前一项与后一项相乘是否小于0，来获取临界点ystar\n",
    "\n",
    "xstar<-ifelse(sum(df$x[df$x0<0])==0,0,df$x[df$x0<0]+0.005)\n",
    "\n",
    "ggplot(df,aes(x=x,y=x.))+\n",
    "  geom_line(color=\"black\",size=0.3)+\n",
    "  theme_few() +\n",
    "  geom_point(aes(x=xstar,y=0))+\n",
    "  geom_text(aes(x=xstar,y=0),label=paste(\"x*:\",xstar),size=4,nudge_y = 0.001,nudge_x = 0.03,color=\"red\")+\n",
    "  geom_hline(aes(yintercept = 0),size=0.3)+\n",
    "  labs(x = \"x\", y = \"x.\")"
   ]
  },
  {
   "cell_type": "code",
   "execution_count": 3,
   "metadata": {},
   "outputs": [],
   "source": [
    "#------------------------------#\n",
    "#--------2.1资源量的影响-------#\n",
    "#------------------------------#\n",
    "\n",
    "# #x+y<=1\n",
    "# data<-data.frame()\n",
    "# pb <- progress_bar$new(format = \"  完成百分比 [:bar] :percent 执行时间 :elapsed:elapsedfull\",total = 46, clear = FALSE, width= 60)\n",
    "# \n",
    "# for(M in seq(50,500,10)){\n",
    "#   pb$tick()\n",
    "#   for(y in seq(0,1,0.01)){\n",
    "#     for(x in seq(0,1-y,0.01)){\n",
    "#       temp<-duplicate_dynamic_xy(y,x,M=M,beta1=4,beta2=2,d=4,N=50,c=1,l=0.5)\n",
    "#       data<-rbind(data,temp)\n",
    "#     }\n",
    "#   }\n",
    "# }\n",
    "# \n",
    "# fwrite(data,\"data_beta1=4_beta2=2.csv\",row.names = F)"
   ]
  },
  {
   "cell_type": "code",
   "execution_count": 5,
   "metadata": {},
   "outputs": [
    {
     "data": {
      "text/html": [
       "<table class=\"dataframe\">\n",
       "<caption>A data.table: 6 × 11</caption>\n",
       "<thead>\n",
       "\t<tr><th scope=col>y</th><th scope=col>x</th><th scope=col>M</th><th scope=col>beta1</th><th scope=col>beta2</th><th scope=col>d</th><th scope=col>N</th><th scope=col>c</th><th scope=col>l</th><th scope=col>y.</th><th scope=col>x.</th></tr>\n",
       "\t<tr><th scope=col>&lt;dbl&gt;</th><th scope=col>&lt;dbl&gt;</th><th scope=col>&lt;int&gt;</th><th scope=col>&lt;int&gt;</th><th scope=col>&lt;int&gt;</th><th scope=col>&lt;int&gt;</th><th scope=col>&lt;int&gt;</th><th scope=col>&lt;int&gt;</th><th scope=col>&lt;dbl&gt;</th><th scope=col>&lt;dbl&gt;</th><th scope=col>&lt;dbl&gt;</th></tr>\n",
       "</thead>\n",
       "<tbody>\n",
       "\t<tr><td>0</td><td>0.00</td><td>50</td><td>4</td><td>2</td><td>4</td><td>50</td><td>1</td><td>0.5</td><td>0</td><td> 0.000000000</td></tr>\n",
       "\t<tr><td>0</td><td>0.01</td><td>50</td><td>4</td><td>2</td><td>4</td><td>50</td><td>1</td><td>0.5</td><td>0</td><td>-0.002492551</td></tr>\n",
       "\t<tr><td>0</td><td>0.02</td><td>50</td><td>4</td><td>2</td><td>4</td><td>50</td><td>1</td><td>0.5</td><td>0</td><td>-0.005045753</td></tr>\n",
       "\t<tr><td>0</td><td>0.03</td><td>50</td><td>4</td><td>2</td><td>4</td><td>50</td><td>1</td><td>0.5</td><td>0</td><td>-0.007658696</td></tr>\n",
       "\t<tr><td>0</td><td>0.04</td><td>50</td><td>4</td><td>2</td><td>4</td><td>50</td><td>1</td><td>0.5</td><td>0</td><td>-0.010330441</td></tr>\n",
       "\t<tr><td>0</td><td>0.05</td><td>50</td><td>4</td><td>2</td><td>4</td><td>50</td><td>1</td><td>0.5</td><td>0</td><td>-0.013060020</td></tr>\n",
       "</tbody>\n",
       "</table>\n"
      ],
      "text/latex": [
       "A data.table: 6 × 11\n",
       "\\begin{tabular}{lllllllllll}\n",
       " y & x & M & beta1 & beta2 & d & N & c & l & y. & x.\\\\\n",
       " <dbl> & <dbl> & <int> & <int> & <int> & <int> & <int> & <int> & <dbl> & <dbl> & <dbl>\\\\\n",
       "\\hline\n",
       "\t 0 & 0.00 & 50 & 4 & 2 & 4 & 50 & 1 & 0.5 & 0 &  0.000000000\\\\\n",
       "\t 0 & 0.01 & 50 & 4 & 2 & 4 & 50 & 1 & 0.5 & 0 & -0.002492551\\\\\n",
       "\t 0 & 0.02 & 50 & 4 & 2 & 4 & 50 & 1 & 0.5 & 0 & -0.005045753\\\\\n",
       "\t 0 & 0.03 & 50 & 4 & 2 & 4 & 50 & 1 & 0.5 & 0 & -0.007658696\\\\\n",
       "\t 0 & 0.04 & 50 & 4 & 2 & 4 & 50 & 1 & 0.5 & 0 & -0.010330441\\\\\n",
       "\t 0 & 0.05 & 50 & 4 & 2 & 4 & 50 & 1 & 0.5 & 0 & -0.013060020\\\\\n",
       "\\end{tabular}\n"
      ],
      "text/markdown": [
       "\n",
       "A data.table: 6 × 11\n",
       "\n",
       "| y &lt;dbl&gt; | x &lt;dbl&gt; | M &lt;int&gt; | beta1 &lt;int&gt; | beta2 &lt;int&gt; | d &lt;int&gt; | N &lt;int&gt; | c &lt;int&gt; | l &lt;dbl&gt; | y. &lt;dbl&gt; | x. &lt;dbl&gt; |\n",
       "|---|---|---|---|---|---|---|---|---|---|---|\n",
       "| 0 | 0.00 | 50 | 4 | 2 | 4 | 50 | 1 | 0.5 | 0 |  0.000000000 |\n",
       "| 0 | 0.01 | 50 | 4 | 2 | 4 | 50 | 1 | 0.5 | 0 | -0.002492551 |\n",
       "| 0 | 0.02 | 50 | 4 | 2 | 4 | 50 | 1 | 0.5 | 0 | -0.005045753 |\n",
       "| 0 | 0.03 | 50 | 4 | 2 | 4 | 50 | 1 | 0.5 | 0 | -0.007658696 |\n",
       "| 0 | 0.04 | 50 | 4 | 2 | 4 | 50 | 1 | 0.5 | 0 | -0.010330441 |\n",
       "| 0 | 0.05 | 50 | 4 | 2 | 4 | 50 | 1 | 0.5 | 0 | -0.013060020 |\n",
       "\n"
      ],
      "text/plain": [
       "  y x    M  beta1 beta2 d N  c l   y. x.          \n",
       "1 0 0.00 50 4     2     4 50 1 0.5 0   0.000000000\n",
       "2 0 0.01 50 4     2     4 50 1 0.5 0  -0.002492551\n",
       "3 0 0.02 50 4     2     4 50 1 0.5 0  -0.005045753\n",
       "4 0 0.03 50 4     2     4 50 1 0.5 0  -0.007658696\n",
       "5 0 0.04 50 4     2     4 50 1 0.5 0  -0.010330441\n",
       "6 0 0.05 50 4     2     4 50 1 0.5 0  -0.013060020"
      ]
     },
     "metadata": {},
     "output_type": "display_data"
    }
   ],
   "source": [
    "data <- fread(\"data_beta1=4_beta2=2.csv\")\n",
    "head(data)"
   ]
  },
  {
   "cell_type": "code",
   "execution_count": 6,
   "metadata": {},
   "outputs": [
    {
     "data": {
      "text/html": [
       "<table class=\"dataframe\">\n",
       "<caption>A data.table: 6 × 14</caption>\n",
       "<thead>\n",
       "\t<tr><th scope=col>y</th><th scope=col>x</th><th scope=col>M</th><th scope=col>beta1</th><th scope=col>beta2</th><th scope=col>d</th><th scope=col>N</th><th scope=col>c</th><th scope=col>l</th><th scope=col>y.</th><th scope=col>x.</th><th scope=col>y1</th><th scope=col>y0</th><th scope=col>ystar</th></tr>\n",
       "\t<tr><th scope=col>&lt;dbl&gt;</th><th scope=col>&lt;dbl&gt;</th><th scope=col>&lt;int&gt;</th><th scope=col>&lt;int&gt;</th><th scope=col>&lt;int&gt;</th><th scope=col>&lt;int&gt;</th><th scope=col>&lt;int&gt;</th><th scope=col>&lt;int&gt;</th><th scope=col>&lt;dbl&gt;</th><th scope=col>&lt;dbl&gt;</th><th scope=col>&lt;dbl&gt;</th><th scope=col>&lt;dbl&gt;</th><th scope=col>&lt;dbl&gt;</th><th scope=col>&lt;dbl&gt;</th></tr>\n",
       "</thead>\n",
       "<tbody>\n",
       "\t<tr><td>0.00</td><td>0</td><td>50</td><td>4</td><td>2</td><td>4</td><td>50</td><td>1</td><td>0.5</td><td>0.00000000</td><td>0</td><td>0.02688523</td><td>0.000000000</td><td>0.165</td></tr>\n",
       "\t<tr><td>0.01</td><td>0</td><td>50</td><td>4</td><td>2</td><td>4</td><td>50</td><td>1</td><td>0.5</td><td>0.02688523</td><td>0</td><td>0.04781928</td><td>0.001285632</td><td>0.165</td></tr>\n",
       "\t<tr><td>0.02</td><td>0</td><td>50</td><td>4</td><td>2</td><td>4</td><td>50</td><td>1</td><td>0.5</td><td>0.04781928</td><td>0</td><td>0.06363772</td><td>0.003043110</td><td>0.165</td></tr>\n",
       "\t<tr><td>0.03</td><td>0</td><td>50</td><td>4</td><td>2</td><td>4</td><td>50</td><td>1</td><td>0.5</td><td>0.06363772</td><td>0</td><td>0.07505120</td><td>0.004776087</td><td>0.165</td></tr>\n",
       "\t<tr><td>0.04</td><td>0</td><td>50</td><td>4</td><td>2</td><td>4</td><td>50</td><td>1</td><td>0.5</td><td>0.07505120</td><td>0</td><td>0.08266627</td><td>0.006204203</td><td>0.165</td></tr>\n",
       "\t<tr><td>0.05</td><td>0</td><td>50</td><td>4</td><td>2</td><td>4</td><td>50</td><td>1</td><td>0.5</td><td>0.08266627</td><td>0</td><td>0.08700242</td><td>0.007192166</td><td>0.165</td></tr>\n",
       "</tbody>\n",
       "</table>\n"
      ],
      "text/latex": [
       "A data.table: 6 × 14\n",
       "\\begin{tabular}{llllllllllllll}\n",
       " y & x & M & beta1 & beta2 & d & N & c & l & y. & x. & y1 & y0 & ystar\\\\\n",
       " <dbl> & <dbl> & <int> & <int> & <int> & <int> & <int> & <int> & <dbl> & <dbl> & <dbl> & <dbl> & <dbl> & <dbl>\\\\\n",
       "\\hline\n",
       "\t 0.00 & 0 & 50 & 4 & 2 & 4 & 50 & 1 & 0.5 & 0.00000000 & 0 & 0.02688523 & 0.000000000 & 0.165\\\\\n",
       "\t 0.01 & 0 & 50 & 4 & 2 & 4 & 50 & 1 & 0.5 & 0.02688523 & 0 & 0.04781928 & 0.001285632 & 0.165\\\\\n",
       "\t 0.02 & 0 & 50 & 4 & 2 & 4 & 50 & 1 & 0.5 & 0.04781928 & 0 & 0.06363772 & 0.003043110 & 0.165\\\\\n",
       "\t 0.03 & 0 & 50 & 4 & 2 & 4 & 50 & 1 & 0.5 & 0.06363772 & 0 & 0.07505120 & 0.004776087 & 0.165\\\\\n",
       "\t 0.04 & 0 & 50 & 4 & 2 & 4 & 50 & 1 & 0.5 & 0.07505120 & 0 & 0.08266627 & 0.006204203 & 0.165\\\\\n",
       "\t 0.05 & 0 & 50 & 4 & 2 & 4 & 50 & 1 & 0.5 & 0.08266627 & 0 & 0.08700242 & 0.007192166 & 0.165\\\\\n",
       "\\end{tabular}\n"
      ],
      "text/markdown": [
       "\n",
       "A data.table: 6 × 14\n",
       "\n",
       "| y &lt;dbl&gt; | x &lt;dbl&gt; | M &lt;int&gt; | beta1 &lt;int&gt; | beta2 &lt;int&gt; | d &lt;int&gt; | N &lt;int&gt; | c &lt;int&gt; | l &lt;dbl&gt; | y. &lt;dbl&gt; | x. &lt;dbl&gt; | y1 &lt;dbl&gt; | y0 &lt;dbl&gt; | ystar &lt;dbl&gt; |\n",
       "|---|---|---|---|---|---|---|---|---|---|---|---|---|---|\n",
       "| 0.00 | 0 | 50 | 4 | 2 | 4 | 50 | 1 | 0.5 | 0.00000000 | 0 | 0.02688523 | 0.000000000 | 0.165 |\n",
       "| 0.01 | 0 | 50 | 4 | 2 | 4 | 50 | 1 | 0.5 | 0.02688523 | 0 | 0.04781928 | 0.001285632 | 0.165 |\n",
       "| 0.02 | 0 | 50 | 4 | 2 | 4 | 50 | 1 | 0.5 | 0.04781928 | 0 | 0.06363772 | 0.003043110 | 0.165 |\n",
       "| 0.03 | 0 | 50 | 4 | 2 | 4 | 50 | 1 | 0.5 | 0.06363772 | 0 | 0.07505120 | 0.004776087 | 0.165 |\n",
       "| 0.04 | 0 | 50 | 4 | 2 | 4 | 50 | 1 | 0.5 | 0.07505120 | 0 | 0.08266627 | 0.006204203 | 0.165 |\n",
       "| 0.05 | 0 | 50 | 4 | 2 | 4 | 50 | 1 | 0.5 | 0.08266627 | 0 | 0.08700242 | 0.007192166 | 0.165 |\n",
       "\n"
      ],
      "text/plain": [
       "  y    x M  beta1 beta2 d N  c l   y.         x. y1         y0          ystar\n",
       "1 0.00 0 50 4     2     4 50 1 0.5 0.00000000 0  0.02688523 0.000000000 0.165\n",
       "2 0.01 0 50 4     2     4 50 1 0.5 0.02688523 0  0.04781928 0.001285632 0.165\n",
       "3 0.02 0 50 4     2     4 50 1 0.5 0.04781928 0  0.06363772 0.003043110 0.165\n",
       "4 0.03 0 50 4     2     4 50 1 0.5 0.06363772 0  0.07505120 0.004776087 0.165\n",
       "5 0.04 0 50 4     2     4 50 1 0.5 0.07505120 0  0.08266627 0.006204203 0.165\n",
       "6 0.05 0 50 4     2     4 50 1 0.5 0.08266627 0  0.08700242 0.007192166 0.165"
      ]
     },
     "metadata": {},
     "output_type": "display_data"
    }
   ],
   "source": [
    "#求ystar\n",
    "data1<-data %>% \n",
    "  mutate(y=round(y,digits=2)) %>% #排序有问题，debug是浮点数的问题#第495行\n",
    "  mutate(x=round(x,digits=2)) %>%\n",
    "  arrange(M,x,y) %>% \n",
    "  data.table() %>% \n",
    "  .[,y1:=c(y.[-1],0),by=c(\"M\",\"x\")] %>% \n",
    "  mutate(y0=y.*y1) %>% \n",
    "  data.table() %>% \n",
    "  .[,ystar:=y[y0<0]-0.005,by=c(\"M\",\"x\")] %>% \n",
    "  mutate(ystar=ifelse(is.na(ystar),0,ystar)) %>% #好多NA的问题，是无0,要设置为o\n",
    "  subset(!is.na(ystar))\n",
    "\n",
    "head(data1)"
   ]
  },
  {
   "cell_type": "code",
   "execution_count": 7,
   "metadata": {},
   "outputs": [
    {
     "data": {
      "image/png": "[encoded data removed]",
      "text/plain": [
       "plot without title"
      ]
     },
     "metadata": {
      "image/png": {
       "height": 420,
       "width": 420
      }
     },
     "output_type": "display_data"
    }
   ],
   "source": [
    "#ystar随M是如何变化的？\n",
    "ggplot(data1,aes(x=M,y=ystar))+\n",
    "  geom_point()\n",
    "\n",
    "#如何解释？"
   ]
  },
  {
   "cell_type": "code",
   "execution_count": 8,
   "metadata": {},
   "outputs": [
    {
     "data": {
      "image/png": "[encoded data removed]",
      "text/plain": [
       "plot without title"
      ]
     },
     "metadata": {
      "image/png": {
       "height": 420,
       "width": 420
      }
     },
     "output_type": "display_data"
    }
   ],
   "source": [
    "#ystar随M和x是如何变化的？\n",
    "ggplot(data1,aes(x=x,y=M))+\n",
    "  geom_raster(aes(fill=ystar))"
   ]
  },
  {
   "cell_type": "code",
   "execution_count": 9,
   "metadata": {},
   "outputs": [
    {
     "data": {
      "text/html": [
       "<table class=\"dataframe\">\n",
       "<caption>A data.table: 6 × 14</caption>\n",
       "<thead>\n",
       "\t<tr><th scope=col>y</th><th scope=col>x</th><th scope=col>M</th><th scope=col>beta1</th><th scope=col>beta2</th><th scope=col>d</th><th scope=col>N</th><th scope=col>c</th><th scope=col>l</th><th scope=col>y.</th><th scope=col>x.</th><th scope=col>x1</th><th scope=col>x0</th><th scope=col>xstar</th></tr>\n",
       "\t<tr><th scope=col>&lt;dbl&gt;</th><th scope=col>&lt;dbl&gt;</th><th scope=col>&lt;int&gt;</th><th scope=col>&lt;int&gt;</th><th scope=col>&lt;int&gt;</th><th scope=col>&lt;int&gt;</th><th scope=col>&lt;int&gt;</th><th scope=col>&lt;int&gt;</th><th scope=col>&lt;dbl&gt;</th><th scope=col>&lt;dbl&gt;</th><th scope=col>&lt;dbl&gt;</th><th scope=col>&lt;dbl&gt;</th><th scope=col>&lt;dbl&gt;</th><th scope=col>&lt;dbl&gt;</th></tr>\n",
       "</thead>\n",
       "<tbody>\n",
       "\t<tr><td>0</td><td>0.00</td><td>50</td><td>4</td><td>2</td><td>4</td><td>50</td><td>1</td><td>0.5</td><td>0</td><td> 0.000000000</td><td>-0.002492551</td><td>0.000000e+00</td><td>0</td></tr>\n",
       "\t<tr><td>0</td><td>0.01</td><td>50</td><td>4</td><td>2</td><td>4</td><td>50</td><td>1</td><td>0.5</td><td>0</td><td>-0.002492551</td><td>-0.005045753</td><td>1.257680e-05</td><td>0</td></tr>\n",
       "\t<tr><td>0</td><td>0.02</td><td>50</td><td>4</td><td>2</td><td>4</td><td>50</td><td>1</td><td>0.5</td><td>0</td><td>-0.005045753</td><td>-0.007658696</td><td>3.864389e-05</td><td>0</td></tr>\n",
       "\t<tr><td>0</td><td>0.03</td><td>50</td><td>4</td><td>2</td><td>4</td><td>50</td><td>1</td><td>0.5</td><td>0</td><td>-0.007658696</td><td>-0.010330441</td><td>7.911770e-05</td><td>0</td></tr>\n",
       "\t<tr><td>0</td><td>0.04</td><td>50</td><td>4</td><td>2</td><td>4</td><td>50</td><td>1</td><td>0.5</td><td>0</td><td>-0.010330441</td><td>-0.013060020</td><td>1.349158e-04</td><td>0</td></tr>\n",
       "\t<tr><td>0</td><td>0.05</td><td>50</td><td>4</td><td>2</td><td>4</td><td>50</td><td>1</td><td>0.5</td><td>0</td><td>-0.013060020</td><td>-0.015846436</td><td>2.069548e-04</td><td>0</td></tr>\n",
       "</tbody>\n",
       "</table>\n"
      ],
      "text/latex": [
       "A data.table: 6 × 14\n",
       "\\begin{tabular}{llllllllllllll}\n",
       " y & x & M & beta1 & beta2 & d & N & c & l & y. & x. & x1 & x0 & xstar\\\\\n",
       " <dbl> & <dbl> & <int> & <int> & <int> & <int> & <int> & <int> & <dbl> & <dbl> & <dbl> & <dbl> & <dbl> & <dbl>\\\\\n",
       "\\hline\n",
       "\t 0 & 0.00 & 50 & 4 & 2 & 4 & 50 & 1 & 0.5 & 0 &  0.000000000 & -0.002492551 & 0.000000e+00 & 0\\\\\n",
       "\t 0 & 0.01 & 50 & 4 & 2 & 4 & 50 & 1 & 0.5 & 0 & -0.002492551 & -0.005045753 & 1.257680e-05 & 0\\\\\n",
       "\t 0 & 0.02 & 50 & 4 & 2 & 4 & 50 & 1 & 0.5 & 0 & -0.005045753 & -0.007658696 & 3.864389e-05 & 0\\\\\n",
       "\t 0 & 0.03 & 50 & 4 & 2 & 4 & 50 & 1 & 0.5 & 0 & -0.007658696 & -0.010330441 & 7.911770e-05 & 0\\\\\n",
       "\t 0 & 0.04 & 50 & 4 & 2 & 4 & 50 & 1 & 0.5 & 0 & -0.010330441 & -0.013060020 & 1.349158e-04 & 0\\\\\n",
       "\t 0 & 0.05 & 50 & 4 & 2 & 4 & 50 & 1 & 0.5 & 0 & -0.013060020 & -0.015846436 & 2.069548e-04 & 0\\\\\n",
       "\\end{tabular}\n"
      ],
      "text/markdown": [
       "\n",
       "A data.table: 6 × 14\n",
       "\n",
       "| y &lt;dbl&gt; | x &lt;dbl&gt; | M &lt;int&gt; | beta1 &lt;int&gt; | beta2 &lt;int&gt; | d &lt;int&gt; | N &lt;int&gt; | c &lt;int&gt; | l &lt;dbl&gt; | y. &lt;dbl&gt; | x. &lt;dbl&gt; | x1 &lt;dbl&gt; | x0 &lt;dbl&gt; | xstar &lt;dbl&gt; |\n",
       "|---|---|---|---|---|---|---|---|---|---|---|---|---|---|\n",
       "| 0 | 0.00 | 50 | 4 | 2 | 4 | 50 | 1 | 0.5 | 0 |  0.000000000 | -0.002492551 | 0.000000e+00 | 0 |\n",
       "| 0 | 0.01 | 50 | 4 | 2 | 4 | 50 | 1 | 0.5 | 0 | -0.002492551 | -0.005045753 | 1.257680e-05 | 0 |\n",
       "| 0 | 0.02 | 50 | 4 | 2 | 4 | 50 | 1 | 0.5 | 0 | -0.005045753 | -0.007658696 | 3.864389e-05 | 0 |\n",
       "| 0 | 0.03 | 50 | 4 | 2 | 4 | 50 | 1 | 0.5 | 0 | -0.007658696 | -0.010330441 | 7.911770e-05 | 0 |\n",
       "| 0 | 0.04 | 50 | 4 | 2 | 4 | 50 | 1 | 0.5 | 0 | -0.010330441 | -0.013060020 | 1.349158e-04 | 0 |\n",
       "| 0 | 0.05 | 50 | 4 | 2 | 4 | 50 | 1 | 0.5 | 0 | -0.013060020 | -0.015846436 | 2.069548e-04 | 0 |\n",
       "\n"
      ],
      "text/plain": [
       "  y x    M  beta1 beta2 d N  c l   y. x.           x1           x0          \n",
       "1 0 0.00 50 4     2     4 50 1 0.5 0   0.000000000 -0.002492551 0.000000e+00\n",
       "2 0 0.01 50 4     2     4 50 1 0.5 0  -0.002492551 -0.005045753 1.257680e-05\n",
       "3 0 0.02 50 4     2     4 50 1 0.5 0  -0.005045753 -0.007658696 3.864389e-05\n",
       "4 0 0.03 50 4     2     4 50 1 0.5 0  -0.007658696 -0.010330441 7.911770e-05\n",
       "5 0 0.04 50 4     2     4 50 1 0.5 0  -0.010330441 -0.013060020 1.349158e-04\n",
       "6 0 0.05 50 4     2     4 50 1 0.5 0  -0.013060020 -0.015846436 2.069548e-04\n",
       "  xstar\n",
       "1 0    \n",
       "2 0    \n",
       "3 0    \n",
       "4 0    \n",
       "5 0    \n",
       "6 0    "
      ]
     },
     "metadata": {},
     "output_type": "display_data"
    }
   ],
   "source": [
    "#求xstar\n",
    "data2<-data %>% \n",
    "  mutate(y=round(y,digits=2)) %>% #排序有问题，debug是浮点数的问题#第495行\n",
    "  mutate(x=round(x,digits=2)) %>%\n",
    "  arrange(M,y,x) %>% \n",
    "  data.table() %>% \n",
    "  .[,x1:=c(x.[-1],0),by=c(\"M\",\"y\")] %>% \n",
    "  mutate(x0=x.*x1) %>% \n",
    "  data.table() %>% \n",
    "  .[,xstar:=x[x0<0]-0.005,by=c(\"M\",\"y\")] %>% \n",
    "  mutate(xstar=ifelse(is.na(xstar),0,xstar)) %>% #好多NA的问题，是无0,要设置为o\n",
    "  subset(!is.na(xstar))\n",
    "\n",
    "head(data2)"
   ]
  },
  {
   "cell_type": "code",
   "execution_count": 10,
   "metadata": {},
   "outputs": [
    {
     "data": {
      "image/png": "[encoded data removed]",
      "text/plain": [
       "plot without title"
      ]
     },
     "metadata": {
      "image/png": {
       "height": 420,
       "width": 420
      }
     },
     "output_type": "display_data"
    }
   ],
   "source": [
    "#xstar随M是如何变化的？\n",
    "ggplot(data2,aes(x=M,y=xstar))+\n",
    "  geom_point()"
   ]
  },
  {
   "cell_type": "code",
   "execution_count": 17,
   "metadata": {
    "scrolled": true
   },
   "outputs": [
    {
     "data": {
      "text/html": [
       "68664550.78125"
      ],
      "text/latex": [
       "68664550.78125"
      ],
      "text/markdown": [
       "68664550.78125"
      ],
      "text/plain": [
       "[1] 68664551"
      ]
     },
     "metadata": {},
     "output_type": "display_data"
    }
   ],
   "source": [
    "24*6000*4000*10^6/1024/1024/8"
   ]
  },
  {
   "cell_type": "code",
   "execution_count": null,
   "metadata": {},
   "outputs": [],
   "source": [
    "#xstar随M和x是如何变化的？\n",
    "ggplot(data2,aes(x=x,y=M))+\n",
    "  geom_raster(aes(fill=xstar))"
   ]
  },
  {
   "cell_type": "code",
   "execution_count": 11,
   "metadata": {},
   "outputs": [],
   "source": [
    "#----------------------------#\n",
    "#--------3.beta1的影响-------#\n",
    "#----------------------------#\n",
    "\n",
    "# data<-data.frame()\n",
    "# pb <- progress_bar$new(format = \"  完成百分比 [:bar] :percent 执行时间 :elapsed:elapsedfull\",total = 46, clear = FALSE, width= 60)\n",
    "# \n",
    "# for(M in seq(50,500,10)){\n",
    "#   pb$tick()\n",
    "#   for(beta1 in c(6,8,10)){\n",
    "#     for(y in seq(0,1,0.01)){\n",
    "#       for(x in seq(0,1-y,0.01)){\n",
    "#         temp<-duplicate_dynamic_xy(y,x,M=M,beta1,beta2=2,d=4,N=50,c=1,l=0.5)\n",
    "#         data<-rbind(data,temp)\n",
    "#       }\n",
    "#     }\n",
    "#   }\n",
    "# }\n",
    "# \n",
    "# fwrite(data,\"data_beta1=6-8-10_beta2=2.csv\",row.names = F)"
   ]
  },
  {
   "cell_type": "code",
   "execution_count": 12,
   "metadata": {},
   "outputs": [
    {
     "ename": "ERROR",
     "evalue": "Error in fread(\"data_beta1=6-8-10_beta2=2.csv\"): File 'data_beta1=6-8-10_beta2=2.csv' does not exist or is non-readable. getwd()=='F:/Code/R'\n",
     "output_type": "error",
     "traceback": [
      "Error in fread(\"data_beta1=6-8-10_beta2=2.csv\"): File 'data_beta1=6-8-10_beta2=2.csv' does not exist or is non-readable. getwd()=='F:/Code/R'\nTraceback:\n",
      "1. fread(\"data_beta1=6-8-10_beta2=2.csv\") %>% rbind(fread(\"data_beta1=4_beta2=2.csv\")) %>% \n .     mutate(y = round(y, digits = 2)) %>% mutate(x = round(x, \n .     digits = 2)) %>% arrange(M, beta1, y, x) %>% data.table() %>% \n .     .[, `:=`(y1, c(y.[-1], 0)), by = c(\"M\", \"x\", \"beta1\")] %>% \n .     mutate(y0 = y. * y1) %>% data.table() %>% .[, `:=`(ystar, \n .     y[y0 < 0] - 0.005), by = c(\"M\", \"x\", \"beta1\")] %>% mutate(ystar = ifelse(is.na(ystar), \n .     0, ystar)) %>% subset(!is.na(ystar))",
      "2. subset(., !is.na(ystar))",
      "3. mutate(., ystar = ifelse(is.na(ystar), 0, ystar))",
      "4. data.table(.)",
      "5. mutate(., y0 = y. * y1)",
      "6. data.table(.)",
      "7. arrange(., M, beta1, y, x)",
      "8. mutate(., x = round(x, digits = 2))",
      "9. mutate(., y = round(y, digits = 2))",
      "10. rbind(., fread(\"data_beta1=4_beta2=2.csv\"))",
      "11. fread(\"data_beta1=6-8-10_beta2=2.csv\")",
      "12. stop(\"File '\", file, \"' does not exist or is non-readable. getwd()=='\", \n  .     getwd(), \"'\")"
     ]
    }
   ],
   "source": [
    "#求ystar\n",
    "data<-fread(\"data_beta1=6-8-10_beta2=2.csv\")%>%\n",
    "    rbind(fread(\"data_beta1=4_beta2=2.csv\")) %>% \n",
    "    mutate(y=round(y,digits=2)) %>% #排序有问题，debug是浮点数的问题#第495行\n",
    "    mutate(x=round(x,digits=2)) %>%\n",
    "    arrange(M,beta1,y,x) %>% \n",
    "    data.table()%>% \n",
    "    .[,y1:=c(y.[-1],0),by=c(\"M\",\"x\",\"beta1\")] %>% \n",
    "    mutate(y0=y.*y1) %>% \n",
    "    data.table() %>% \n",
    "    .[,ystar:=y[y0<0]-0.005,by=c(\"M\",\"x\",\"beta1\")] %>% \n",
    "    mutate(ystar=ifelse(is.na(ystar),0,ystar)) %>% #好多NA的问题，是无0,要设置为o\n",
    "    subset(!is.na(ystar))\n",
    "head(data)"
   ]
  },
  {
   "cell_type": "code",
   "execution_count": null,
   "metadata": {},
   "outputs": [],
   "source": [
    "library(\"plot3D\")"
   ]
  },
  {
   "cell_type": "code",
   "execution_count": null,
   "metadata": {},
   "outputs": [],
   "source": [
    "scatter3D(x, y, z, phi = 0, bty = \"g\",\n",
    "        pch = 20, cex = 2, ticktype = \"detailed\")"
   ]
  },
  {
   "cell_type": "code",
   "execution_count": null,
   "metadata": {},
   "outputs": [],
   "source": [
    "#求xstar\n",
    "data<-fread(\"data_beta1=6-8-10_beta2=2.csv\")%>%\n",
    "    rbind(fread(\"data_beta1=4_beta2=2.csv\")) %>% \n",
    "    mutate(y=round(y,digits=2)) %>% #排序有问题，debug是浮点数的问题#第495行\n",
    "    mutate(x=round(x,digits=2)) %>%\n",
    "    arrange(M,beta1,x,y) %>% \n",
    "    data.table()%>% \n",
    "    .[,x1:=c(x.[-1],0),by=c(\"M\",\"y\",\"beta1\")] %>% \n",
    "    mutate(x0=x.*x1) %>% \n",
    "    data.table() %>% \n",
    "    .[,xstar:=x[x0<0]-0.005,by=c(\"M\",\"y\",\"beta1\")] %>% \n",
    "    mutate(xstar=ifelse(is.na(xstar),0,xstar)) %>% #好多NA的问题，是无0,要设置为o\n",
    "    subset(!is.na(xstar))\n",
    "head(data)"
   ]
  },
  {
   "cell_type": "code",
   "execution_count": null,
   "metadata": {},
   "outputs": [],
   "source": [
    "#----------------------------#\n",
    "#--------4.beta2的影响-------#\n",
    "#----------------------------#\n",
    "# #用多线程试试\n",
    "# data<-data.frame()\n",
    "# pb <- progress_bar$new(format = \"  完成百分比 [:bar] :percent 执行时间 :elapsed:elapsedfull\",total = 46, clear = FALSE, width= 60)\n",
    "# \n",
    "# for(M in seq(50,500,10)){\n",
    "#   pb$tick()\n",
    "#   for(beta2 in 3:7){\n",
    "#     for(y in seq(0,1,0.01)){\n",
    "#       for(x in seq(0,1-y,0.01)){\n",
    "#         temp<-duplicate_dynamic_xy(y,x,M=M,beta1=8,beta2=beta2,d=4,N=50,c=1,l=0.5)\n",
    "#         data<-rbind(data,temp)\n",
    "#       }\n",
    "#     }\n",
    "#   }\n",
    "# }\n",
    "# \n",
    "# fwrite(data,\"data_beta1=8_beta2=3-4-5-6-7.csv\",row.names = F)\n"
   ]
  },
  {
   "cell_type": "code",
   "execution_count": null,
   "metadata": {},
   "outputs": [],
   "source": []
  },
  {
   "cell_type": "code",
   "execution_count": null,
   "metadata": {},
   "outputs": [],
   "source": []
  },
  {
   "cell_type": "code",
   "execution_count": null,
   "metadata": {},
   "outputs": [],
   "source": []
  }
 ],
 "metadata": {
  "kernelspec": {
   "display_name": "R",
   "language": "R",
   "name": "ir"
  },
  "language_info": {
   "codemirror_mode": "r",
   "file_extension": ".r",
   "mimetype": "text/x-r-source",
   "name": "R",
   "pygments_lexer": "r",
   "version": "4.1.3"
  }
 },
 "nbformat": 4,
 "nbformat_minor": 2
}
