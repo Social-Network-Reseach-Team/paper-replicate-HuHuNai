{
 "cells": [
  {
   "cell_type": "code",
   "execution_count": 8,
   "id": "b9930072",
   "metadata": {},
   "outputs": [],
   "source": [
    "library(tidyverse)\n",
    "library(data.table)\n",
    "library(EvolutionaryGames)\n",
    "library(ggthemes)\n",
    "library(latex2exp)\n",
    "library(ggtext)"
   ]
  },
  {
   "cell_type": "code",
   "execution_count": 2,
   "id": "419cd07f",
   "metadata": {},
   "outputs": [],
   "source": [
    "duplicate_dynamic<-function(y,M,beta,d,N,c){\n",
    "  \n",
    "  #-----参数解释说明------#\n",
    "  # #N个个体\n",
    "  # N<-4\n",
    "  # #M资源 c(5,15,25)\n",
    "  # M<-5\n",
    "  # #less effort的成本\n",
    "  # c<-1\n",
    "  # #投入效用\n",
    "  # beta<-1\n",
    "  # #more effort的成本\n",
    "  # d<-4\n",
    "  #-----------------------#\n",
    "  \n",
    "  #这里决定用N-1\n",
    "  #需要取整\n",
    "  Nd<-floor(y*(N-1)) \n",
    "  Nc<-N-1-Nd\n",
    "  \n",
    "  #策略c（cooperate, less effort）和策略d(defect，more effort)的收益\n",
    "  #（1）个体选择策略c的期望收益\n",
    "  pai_c<-(c*M)/((Nc+1)*c+Nd*beta*d)-c\n",
    "  #（2）个体选择策略d的期望收益\n",
    "  pai_d<-(beta*d*M)/(Nc*c+(Nd+1)*beta*d)-d\n",
    "  \n",
    "  #群体体选择策略c或d的收益  = 概率*pai\n",
    "  #等价Pc<(choose(N-1, Nc)*((1-y)^Nc)*(y^Nd))*pai_c\n",
    "  Pc<-(choose(N-1, Nd)*(y^Nd)*((1-y)^Nc))*pai_c\n",
    "  Pd<-(choose(N-1, Nd)*(y^Nd)*((1-y)^Nc))*pai_d #choose计算组合数\n",
    "  \n",
    "  #（3）群体选择策略d的平均收益\n",
    "  R_<-y*Pd+(1-y)*Pc\n",
    "  \n",
    "  #(4)复制动态方程\n",
    "  #y.<-y(Pd-R_) = y(Pd-y*Pd-(1-y)*Pc) = y(1-y)(Pd-Pc)\n",
    "  y.<-y*(1-y)*(Pd-Pc)\n",
    "}"
   ]
  },
  {
   "cell_type": "code",
   "execution_count": 3,
   "id": "9737236a",
   "metadata": {},
   "outputs": [],
   "source": [
    "plot_y._y<-function(M){\n",
    "  y.<-c()\n",
    "  \n",
    "  for(y in seq(0, 1, 0.01)){\n",
    "    temp<-duplicate_dynamic(y,M,beta=1,d=4,N=100,c=1)\n",
    "    \n",
    "    # N: 个体数\n",
    "    # M: 资源 c(5,15,25)\n",
    "    # c: less effort的成本\n",
    "    # beta: 投入效用\n",
    "    # d: more effort的成本\n",
    "    \n",
    "    y.<-c(y.,temp)\n",
    "  }\n",
    "  \n",
    "  df <- data.frame(x = seq(0, 1, 0.01), y = y.) %>% \n",
    "    mutate(y1=c(y.[-1],1)) %>% \n",
    "    mutate(y0=y*y1)\n",
    "  \n",
    "  #ystar<-df$x[df$y0<0]+0.005 #即横坐标\n",
    "  \n",
    "  ystar<-ifelse(sum(df$x[df$y0<0])==0,0,df$x[df$y0<0]+0.005)\n",
    "  \n",
    "  ggplot(df,aes(x=x,y=y))+\n",
    "    geom_line(color=\"black\",size=0.3)+\n",
    "    theme_few() +\n",
    "    geom_point(aes(x=ystar,y=0))+\n",
    "    geom_text(aes(x=ystar,y=0),label=paste(\"y*:\",ystar),size=4,nudge_y = 0.001,nudge_x = 0.03,color=\"red\")+\n",
    "    geom_hline(aes(yintercept = 0),size=0.3)+\n",
    "    labs(x = \"y\", y = \"y.\")\n",
    "}"
   ]
  },
  {
   "cell_type": "code",
   "execution_count": 43,
   "id": "044e5353",
   "metadata": {},
   "outputs": [
    {
     "data": {
      "text/html": [
       "<table class=\"dataframe\">\n",
       "<caption>A data.frame: 101 × 4</caption>\n",
       "<thead>\n",
       "\t<tr><th scope=col>x</th><th scope=col>y</th><th scope=col>y1</th><th scope=col>y0</th></tr>\n",
       "\t<tr><th scope=col>&lt;dbl&gt;</th><th scope=col>&lt;dbl&gt;</th><th scope=col>&lt;dbl&gt;</th><th scope=col>&lt;dbl&gt;</th></tr>\n",
       "</thead>\n",
       "<tbody>\n",
       "\t<tr><td>0.00</td><td>0.000000000</td><td>0.010128079</td><td>0.000000e+00</td></tr>\n",
       "\t<tr><td>0.01</td><td>0.010128079</td><td>0.013962230</td><td>1.414106e-04</td></tr>\n",
       "\t<tr><td>0.02</td><td>0.013962230</td><td>0.016235357</td><td>2.266818e-04</td></tr>\n",
       "\t<tr><td>0.03</td><td>0.016235357</td><td>0.017671204</td><td>2.868983e-04</td></tr>\n",
       "\t<tr><td>0.04</td><td>0.017671204</td><td>0.018562242</td><td>3.280172e-04</td></tr>\n",
       "\t<tr><td>0.05</td><td>0.018562242</td><td>0.019065285</td><td>3.538944e-04</td></tr>\n",
       "\t<tr><td>0.06</td><td>0.019065285</td><td>0.019277495</td><td>3.675309e-04</td></tr>\n",
       "\t<tr><td>0.07</td><td>0.019277495</td><td>0.019264582</td><td>3.713729e-04</td></tr>\n",
       "\t<tr><td>0.08</td><td>0.019264582</td><td>0.019073653</td><td>3.674460e-04</td></tr>\n",
       "\t<tr><td>0.09</td><td>0.019073653</td><td>0.018739895</td><td>3.574383e-04</td></tr>\n",
       "\t<tr><td>0.10</td><td>0.018739895</td><td>0.018290404</td><td>3.427602e-04</td></tr>\n",
       "\t<tr><td>0.11</td><td>0.018290404</td><td>0.017746539</td><td>3.245914e-04</td></tr>\n",
       "\t<tr><td>0.12</td><td>0.017746539</td><td>0.017125448</td><td>3.039174e-04</td></tr>\n",
       "\t<tr><td>0.13</td><td>0.017125448</td><td>0.016441101</td><td>2.815612e-04</td></tr>\n",
       "\t<tr><td>0.14</td><td>0.016441101</td><td>0.015705019</td><td>2.582078e-04</td></tr>\n",
       "\t<tr><td>0.15</td><td>0.015705019</td><td>0.014926800</td><td>2.344257e-04</td></tr>\n",
       "\t<tr><td>0.16</td><td>0.014926800</td><td>0.014114506</td><td>2.106844e-04</td></tr>\n",
       "\t<tr><td>0.17</td><td>0.014114506</td><td>0.013274963</td><td>1.873695e-04</td></tr>\n",
       "\t<tr><td>0.18</td><td>0.013274963</td><td>0.012413980</td><td>1.647951e-04</td></tr>\n",
       "\t<tr><td>0.19</td><td>0.012413980</td><td>0.011536535</td><td>1.432143e-04</td></tr>\n",
       "\t<tr><td>0.20</td><td>0.011536535</td><td>0.010646908</td><td>1.228284e-04</td></tr>\n",
       "\t<tr><td>0.21</td><td>0.010646908</td><td>0.009748799</td><td>1.037946e-04</td></tr>\n",
       "\t<tr><td>0.22</td><td>0.009748799</td><td>0.008845419</td><td>8.623221e-05</td></tr>\n",
       "\t<tr><td>0.23</td><td>0.008845419</td><td>0.007939558</td><td>7.022871e-05</td></tr>\n",
       "\t<tr><td>0.24</td><td>0.007939558</td><td>0.007033656</td><td>5.584412e-05</td></tr>\n",
       "\t<tr><td>0.25</td><td>0.007033656</td><td>0.006129847</td><td>4.311523e-05</td></tr>\n",
       "\t<tr><td>0.26</td><td>0.006129847</td><td>0.005230004</td><td>3.205912e-05</td></tr>\n",
       "\t<tr><td>0.27</td><td>0.005230004</td><td>0.004335776</td><td>2.267613e-05</td></tr>\n",
       "\t<tr><td>0.28</td><td>0.004335776</td><td>0.003448616</td><td>1.495243e-05</td></tr>\n",
       "\t<tr><td>0.29</td><td>0.003448616</td><td>0.002569809</td><td>8.862284e-06</td></tr>\n",
       "\t<tr><td>...</td><td>...</td><td>...</td><td>...</td></tr>\n",
       "\t<tr><td>0.71</td><td>-0.019654878</td><td>-0.019769695</td><td>3.885710e-04</td></tr>\n",
       "\t<tr><td>0.72</td><td>-0.019769695</td><td>-0.019859139</td><td>3.926091e-04</td></tr>\n",
       "\t<tr><td>0.73</td><td>-0.019859139</td><td>-0.019922548</td><td>3.956446e-04</td></tr>\n",
       "\t<tr><td>0.74</td><td>-0.019922548</td><td>-0.019959196</td><td>3.976380e-04</td></tr>\n",
       "\t<tr><td>0.75</td><td>-0.019959196</td><td>-0.019968280</td><td>3.985508e-04</td></tr>\n",
       "\t<tr><td>0.76</td><td>-0.019968280</td><td>-0.019948909</td><td>3.983454e-04</td></tr>\n",
       "\t<tr><td>0.77</td><td>-0.019948909</td><td>-0.019900097</td><td>3.969852e-04</td></tr>\n",
       "\t<tr><td>0.78</td><td>-0.019900097</td><td>-0.019820737</td><td>3.944346e-04</td></tr>\n",
       "\t<tr><td>0.79</td><td>-0.019820737</td><td>-0.019709593</td><td>3.906587e-04</td></tr>\n",
       "\t<tr><td>0.80</td><td>-0.019709593</td><td>-0.019565270</td><td>3.856235e-04</td></tr>\n",
       "\t<tr><td>0.81</td><td>-0.019565270</td><td>-0.019386188</td><td>3.792960e-04</td></tr>\n",
       "\t<tr><td>0.82</td><td>-0.019386188</td><td>-0.019170544</td><td>3.716438e-04</td></tr>\n",
       "\t<tr><td>0.83</td><td>-0.019170544</td><td>-0.018916273</td><td>3.626353e-04</td></tr>\n",
       "\t<tr><td>0.84</td><td>-0.018916273</td><td>-0.018620982</td><td>3.522396e-04</td></tr>\n",
       "\t<tr><td>0.85</td><td>-0.018620982</td><td>-0.018281881</td><td>3.404266e-04</td></tr>\n",
       "\t<tr><td>0.86</td><td>-0.018281881</td><td>-0.017895679</td><td>3.271667e-04</td></tr>\n",
       "\t<tr><td>0.87</td><td>-0.017895679</td><td>-0.017458454</td><td>3.124309e-04</td></tr>\n",
       "\t<tr><td>0.88</td><td>-0.017458454</td><td>-0.016965461</td><td>2.961907e-04</td></tr>\n",
       "\t<tr><td>0.89</td><td>-0.016965461</td><td>-0.016410870</td><td>2.784180e-04</td></tr>\n",
       "\t<tr><td>0.90</td><td>-0.016410870</td><td>-0.015787378</td><td>2.590846e-04</td></tr>\n",
       "\t<tr><td>0.91</td><td>-0.015787378</td><td>-0.015085618</td><td>2.381624e-04</td></tr>\n",
       "\t<tr><td>0.92</td><td>-0.015085618</td><td>-0.014293229</td><td>2.156222e-04</td></tr>\n",
       "\t<tr><td>0.93</td><td>-0.014293229</td><td>-0.013393278</td><td>1.914332e-04</td></tr>\n",
       "\t<tr><td>0.94</td><td>-0.013393278</td><td>-0.012361430</td><td>1.655601e-04</td></tr>\n",
       "\t<tr><td>0.95</td><td>-0.012361430</td><td>-0.011160331</td><td>1.379577e-04</td></tr>\n",
       "\t<tr><td>0.96</td><td>-0.011160331</td><td>-0.009726875</td><td>1.085551e-04</td></tr>\n",
       "\t<tr><td>0.97</td><td>-0.009726875</td><td>-0.007936829</td><td>7.720054e-05</td></tr>\n",
       "\t<tr><td>0.98</td><td>-0.007936829</td><td>-0.005463036</td><td>4.335918e-05</td></tr>\n",
       "\t<tr><td>0.99</td><td>-0.005463036</td><td> 0.000000000</td><td>0.000000e+00</td></tr>\n",
       "\t<tr><td>1.00</td><td> 0.000000000</td><td> 1.000000000</td><td>0.000000e+00</td></tr>\n",
       "</tbody>\n",
       "</table>\n"
      ],
      "text/latex": [
       "A data.frame: 101 × 4\n",
       "\\begin{tabular}{llll}\n",
       " x & y & y1 & y0\\\\\n",
       " <dbl> & <dbl> & <dbl> & <dbl>\\\\\n",
       "\\hline\n",
       "\t 0.00 & 0.000000000 & 0.010128079 & 0.000000e+00\\\\\n",
       "\t 0.01 & 0.010128079 & 0.013962230 & 1.414106e-04\\\\\n",
       "\t 0.02 & 0.013962230 & 0.016235357 & 2.266818e-04\\\\\n",
       "\t 0.03 & 0.016235357 & 0.017671204 & 2.868983e-04\\\\\n",
       "\t 0.04 & 0.017671204 & 0.018562242 & 3.280172e-04\\\\\n",
       "\t 0.05 & 0.018562242 & 0.019065285 & 3.538944e-04\\\\\n",
       "\t 0.06 & 0.019065285 & 0.019277495 & 3.675309e-04\\\\\n",
       "\t 0.07 & 0.019277495 & 0.019264582 & 3.713729e-04\\\\\n",
       "\t 0.08 & 0.019264582 & 0.019073653 & 3.674460e-04\\\\\n",
       "\t 0.09 & 0.019073653 & 0.018739895 & 3.574383e-04\\\\\n",
       "\t 0.10 & 0.018739895 & 0.018290404 & 3.427602e-04\\\\\n",
       "\t 0.11 & 0.018290404 & 0.017746539 & 3.245914e-04\\\\\n",
       "\t 0.12 & 0.017746539 & 0.017125448 & 3.039174e-04\\\\\n",
       "\t 0.13 & 0.017125448 & 0.016441101 & 2.815612e-04\\\\\n",
       "\t 0.14 & 0.016441101 & 0.015705019 & 2.582078e-04\\\\\n",
       "\t 0.15 & 0.015705019 & 0.014926800 & 2.344257e-04\\\\\n",
       "\t 0.16 & 0.014926800 & 0.014114506 & 2.106844e-04\\\\\n",
       "\t 0.17 & 0.014114506 & 0.013274963 & 1.873695e-04\\\\\n",
       "\t 0.18 & 0.013274963 & 0.012413980 & 1.647951e-04\\\\\n",
       "\t 0.19 & 0.012413980 & 0.011536535 & 1.432143e-04\\\\\n",
       "\t 0.20 & 0.011536535 & 0.010646908 & 1.228284e-04\\\\\n",
       "\t 0.21 & 0.010646908 & 0.009748799 & 1.037946e-04\\\\\n",
       "\t 0.22 & 0.009748799 & 0.008845419 & 8.623221e-05\\\\\n",
       "\t 0.23 & 0.008845419 & 0.007939558 & 7.022871e-05\\\\\n",
       "\t 0.24 & 0.007939558 & 0.007033656 & 5.584412e-05\\\\\n",
       "\t 0.25 & 0.007033656 & 0.006129847 & 4.311523e-05\\\\\n",
       "\t 0.26 & 0.006129847 & 0.005230004 & 3.205912e-05\\\\\n",
       "\t 0.27 & 0.005230004 & 0.004335776 & 2.267613e-05\\\\\n",
       "\t 0.28 & 0.004335776 & 0.003448616 & 1.495243e-05\\\\\n",
       "\t 0.29 & 0.003448616 & 0.002569809 & 8.862284e-06\\\\\n",
       "\t ... & ... & ... & ...\\\\\n",
       "\t 0.71 & -0.019654878 & -0.019769695 & 3.885710e-04\\\\\n",
       "\t 0.72 & -0.019769695 & -0.019859139 & 3.926091e-04\\\\\n",
       "\t 0.73 & -0.019859139 & -0.019922548 & 3.956446e-04\\\\\n",
       "\t 0.74 & -0.019922548 & -0.019959196 & 3.976380e-04\\\\\n",
       "\t 0.75 & -0.019959196 & -0.019968280 & 3.985508e-04\\\\\n",
       "\t 0.76 & -0.019968280 & -0.019948909 & 3.983454e-04\\\\\n",
       "\t 0.77 & -0.019948909 & -0.019900097 & 3.969852e-04\\\\\n",
       "\t 0.78 & -0.019900097 & -0.019820737 & 3.944346e-04\\\\\n",
       "\t 0.79 & -0.019820737 & -0.019709593 & 3.906587e-04\\\\\n",
       "\t 0.80 & -0.019709593 & -0.019565270 & 3.856235e-04\\\\\n",
       "\t 0.81 & -0.019565270 & -0.019386188 & 3.792960e-04\\\\\n",
       "\t 0.82 & -0.019386188 & -0.019170544 & 3.716438e-04\\\\\n",
       "\t 0.83 & -0.019170544 & -0.018916273 & 3.626353e-04\\\\\n",
       "\t 0.84 & -0.018916273 & -0.018620982 & 3.522396e-04\\\\\n",
       "\t 0.85 & -0.018620982 & -0.018281881 & 3.404266e-04\\\\\n",
       "\t 0.86 & -0.018281881 & -0.017895679 & 3.271667e-04\\\\\n",
       "\t 0.87 & -0.017895679 & -0.017458454 & 3.124309e-04\\\\\n",
       "\t 0.88 & -0.017458454 & -0.016965461 & 2.961907e-04\\\\\n",
       "\t 0.89 & -0.016965461 & -0.016410870 & 2.784180e-04\\\\\n",
       "\t 0.90 & -0.016410870 & -0.015787378 & 2.590846e-04\\\\\n",
       "\t 0.91 & -0.015787378 & -0.015085618 & 2.381624e-04\\\\\n",
       "\t 0.92 & -0.015085618 & -0.014293229 & 2.156222e-04\\\\\n",
       "\t 0.93 & -0.014293229 & -0.013393278 & 1.914332e-04\\\\\n",
       "\t 0.94 & -0.013393278 & -0.012361430 & 1.655601e-04\\\\\n",
       "\t 0.95 & -0.012361430 & -0.011160331 & 1.379577e-04\\\\\n",
       "\t 0.96 & -0.011160331 & -0.009726875 & 1.085551e-04\\\\\n",
       "\t 0.97 & -0.009726875 & -0.007936829 & 7.720054e-05\\\\\n",
       "\t 0.98 & -0.007936829 & -0.005463036 & 4.335918e-05\\\\\n",
       "\t 0.99 & -0.005463036 &  0.000000000 & 0.000000e+00\\\\\n",
       "\t 1.00 &  0.000000000 &  1.000000000 & 0.000000e+00\\\\\n",
       "\\end{tabular}\n"
      ],
      "text/markdown": [
       "\n",
       "A data.frame: 101 × 4\n",
       "\n",
       "| x &lt;dbl&gt; | y &lt;dbl&gt; | y1 &lt;dbl&gt; | y0 &lt;dbl&gt; |\n",
       "|---|---|---|---|\n",
       "| 0.00 | 0.000000000 | 0.010128079 | 0.000000e+00 |\n",
       "| 0.01 | 0.010128079 | 0.013962230 | 1.414106e-04 |\n",
       "| 0.02 | 0.013962230 | 0.016235357 | 2.266818e-04 |\n",
       "| 0.03 | 0.016235357 | 0.017671204 | 2.868983e-04 |\n",
       "| 0.04 | 0.017671204 | 0.018562242 | 3.280172e-04 |\n",
       "| 0.05 | 0.018562242 | 0.019065285 | 3.538944e-04 |\n",
       "| 0.06 | 0.019065285 | 0.019277495 | 3.675309e-04 |\n",
       "| 0.07 | 0.019277495 | 0.019264582 | 3.713729e-04 |\n",
       "| 0.08 | 0.019264582 | 0.019073653 | 3.674460e-04 |\n",
       "| 0.09 | 0.019073653 | 0.018739895 | 3.574383e-04 |\n",
       "| 0.10 | 0.018739895 | 0.018290404 | 3.427602e-04 |\n",
       "| 0.11 | 0.018290404 | 0.017746539 | 3.245914e-04 |\n",
       "| 0.12 | 0.017746539 | 0.017125448 | 3.039174e-04 |\n",
       "| 0.13 | 0.017125448 | 0.016441101 | 2.815612e-04 |\n",
       "| 0.14 | 0.016441101 | 0.015705019 | 2.582078e-04 |\n",
       "| 0.15 | 0.015705019 | 0.014926800 | 2.344257e-04 |\n",
       "| 0.16 | 0.014926800 | 0.014114506 | 2.106844e-04 |\n",
       "| 0.17 | 0.014114506 | 0.013274963 | 1.873695e-04 |\n",
       "| 0.18 | 0.013274963 | 0.012413980 | 1.647951e-04 |\n",
       "| 0.19 | 0.012413980 | 0.011536535 | 1.432143e-04 |\n",
       "| 0.20 | 0.011536535 | 0.010646908 | 1.228284e-04 |\n",
       "| 0.21 | 0.010646908 | 0.009748799 | 1.037946e-04 |\n",
       "| 0.22 | 0.009748799 | 0.008845419 | 8.623221e-05 |\n",
       "| 0.23 | 0.008845419 | 0.007939558 | 7.022871e-05 |\n",
       "| 0.24 | 0.007939558 | 0.007033656 | 5.584412e-05 |\n",
       "| 0.25 | 0.007033656 | 0.006129847 | 4.311523e-05 |\n",
       "| 0.26 | 0.006129847 | 0.005230004 | 3.205912e-05 |\n",
       "| 0.27 | 0.005230004 | 0.004335776 | 2.267613e-05 |\n",
       "| 0.28 | 0.004335776 | 0.003448616 | 1.495243e-05 |\n",
       "| 0.29 | 0.003448616 | 0.002569809 | 8.862284e-06 |\n",
       "| ... | ... | ... | ... |\n",
       "| 0.71 | -0.019654878 | -0.019769695 | 3.885710e-04 |\n",
       "| 0.72 | -0.019769695 | -0.019859139 | 3.926091e-04 |\n",
       "| 0.73 | -0.019859139 | -0.019922548 | 3.956446e-04 |\n",
       "| 0.74 | -0.019922548 | -0.019959196 | 3.976380e-04 |\n",
       "| 0.75 | -0.019959196 | -0.019968280 | 3.985508e-04 |\n",
       "| 0.76 | -0.019968280 | -0.019948909 | 3.983454e-04 |\n",
       "| 0.77 | -0.019948909 | -0.019900097 | 3.969852e-04 |\n",
       "| 0.78 | -0.019900097 | -0.019820737 | 3.944346e-04 |\n",
       "| 0.79 | -0.019820737 | -0.019709593 | 3.906587e-04 |\n",
       "| 0.80 | -0.019709593 | -0.019565270 | 3.856235e-04 |\n",
       "| 0.81 | -0.019565270 | -0.019386188 | 3.792960e-04 |\n",
       "| 0.82 | -0.019386188 | -0.019170544 | 3.716438e-04 |\n",
       "| 0.83 | -0.019170544 | -0.018916273 | 3.626353e-04 |\n",
       "| 0.84 | -0.018916273 | -0.018620982 | 3.522396e-04 |\n",
       "| 0.85 | -0.018620982 | -0.018281881 | 3.404266e-04 |\n",
       "| 0.86 | -0.018281881 | -0.017895679 | 3.271667e-04 |\n",
       "| 0.87 | -0.017895679 | -0.017458454 | 3.124309e-04 |\n",
       "| 0.88 | -0.017458454 | -0.016965461 | 2.961907e-04 |\n",
       "| 0.89 | -0.016965461 | -0.016410870 | 2.784180e-04 |\n",
       "| 0.90 | -0.016410870 | -0.015787378 | 2.590846e-04 |\n",
       "| 0.91 | -0.015787378 | -0.015085618 | 2.381624e-04 |\n",
       "| 0.92 | -0.015085618 | -0.014293229 | 2.156222e-04 |\n",
       "| 0.93 | -0.014293229 | -0.013393278 | 1.914332e-04 |\n",
       "| 0.94 | -0.013393278 | -0.012361430 | 1.655601e-04 |\n",
       "| 0.95 | -0.012361430 | -0.011160331 | 1.379577e-04 |\n",
       "| 0.96 | -0.011160331 | -0.009726875 | 1.085551e-04 |\n",
       "| 0.97 | -0.009726875 | -0.007936829 | 7.720054e-05 |\n",
       "| 0.98 | -0.007936829 | -0.005463036 | 4.335918e-05 |\n",
       "| 0.99 | -0.005463036 |  0.000000000 | 0.000000e+00 |\n",
       "| 1.00 |  0.000000000 |  1.000000000 | 0.000000e+00 |\n",
       "\n"
      ],
      "text/plain": [
       "    x    y            y1           y0          \n",
       "1   0.00 0.000000000  0.010128079  0.000000e+00\n",
       "2   0.01 0.010128079  0.013962230  1.414106e-04\n",
       "3   0.02 0.013962230  0.016235357  2.266818e-04\n",
       "4   0.03 0.016235357  0.017671204  2.868983e-04\n",
       "5   0.04 0.017671204  0.018562242  3.280172e-04\n",
       "6   0.05 0.018562242  0.019065285  3.538944e-04\n",
       "7   0.06 0.019065285  0.019277495  3.675309e-04\n",
       "8   0.07 0.019277495  0.019264582  3.713729e-04\n",
       "9   0.08 0.019264582  0.019073653  3.674460e-04\n",
       "10  0.09 0.019073653  0.018739895  3.574383e-04\n",
       "11  0.10 0.018739895  0.018290404  3.427602e-04\n",
       "12  0.11 0.018290404  0.017746539  3.245914e-04\n",
       "13  0.12 0.017746539  0.017125448  3.039174e-04\n",
       "14  0.13 0.017125448  0.016441101  2.815612e-04\n",
       "15  0.14 0.016441101  0.015705019  2.582078e-04\n",
       "16  0.15 0.015705019  0.014926800  2.344257e-04\n",
       "17  0.16 0.014926800  0.014114506  2.106844e-04\n",
       "18  0.17 0.014114506  0.013274963  1.873695e-04\n",
       "19  0.18 0.013274963  0.012413980  1.647951e-04\n",
       "20  0.19 0.012413980  0.011536535  1.432143e-04\n",
       "21  0.20 0.011536535  0.010646908  1.228284e-04\n",
       "22  0.21 0.010646908  0.009748799  1.037946e-04\n",
       "23  0.22 0.009748799  0.008845419  8.623221e-05\n",
       "24  0.23 0.008845419  0.007939558  7.022871e-05\n",
       "25  0.24 0.007939558  0.007033656  5.584412e-05\n",
       "26  0.25 0.007033656  0.006129847  4.311523e-05\n",
       "27  0.26 0.006129847  0.005230004  3.205912e-05\n",
       "28  0.27 0.005230004  0.004335776  2.267613e-05\n",
       "29  0.28 0.004335776  0.003448616  1.495243e-05\n",
       "30  0.29 0.003448616  0.002569809  8.862284e-06\n",
       "... ...  ...          ...          ...         \n",
       "72  0.71 -0.019654878 -0.019769695 3.885710e-04\n",
       "73  0.72 -0.019769695 -0.019859139 3.926091e-04\n",
       "74  0.73 -0.019859139 -0.019922548 3.956446e-04\n",
       "75  0.74 -0.019922548 -0.019959196 3.976380e-04\n",
       "76  0.75 -0.019959196 -0.019968280 3.985508e-04\n",
       "77  0.76 -0.019968280 -0.019948909 3.983454e-04\n",
       "78  0.77 -0.019948909 -0.019900097 3.969852e-04\n",
       "79  0.78 -0.019900097 -0.019820737 3.944346e-04\n",
       "80  0.79 -0.019820737 -0.019709593 3.906587e-04\n",
       "81  0.80 -0.019709593 -0.019565270 3.856235e-04\n",
       "82  0.81 -0.019565270 -0.019386188 3.792960e-04\n",
       "83  0.82 -0.019386188 -0.019170544 3.716438e-04\n",
       "84  0.83 -0.019170544 -0.018916273 3.626353e-04\n",
       "85  0.84 -0.018916273 -0.018620982 3.522396e-04\n",
       "86  0.85 -0.018620982 -0.018281881 3.404266e-04\n",
       "87  0.86 -0.018281881 -0.017895679 3.271667e-04\n",
       "88  0.87 -0.017895679 -0.017458454 3.124309e-04\n",
       "89  0.88 -0.017458454 -0.016965461 2.961907e-04\n",
       "90  0.89 -0.016965461 -0.016410870 2.784180e-04\n",
       "91  0.90 -0.016410870 -0.015787378 2.590846e-04\n",
       "92  0.91 -0.015787378 -0.015085618 2.381624e-04\n",
       "93  0.92 -0.015085618 -0.014293229 2.156222e-04\n",
       "94  0.93 -0.014293229 -0.013393278 1.914332e-04\n",
       "95  0.94 -0.013393278 -0.012361430 1.655601e-04\n",
       "96  0.95 -0.012361430 -0.011160331 1.379577e-04\n",
       "97  0.96 -0.011160331 -0.009726875 1.085551e-04\n",
       "98  0.97 -0.009726875 -0.007936829 7.720054e-05\n",
       "99  0.98 -0.007936829 -0.005463036 4.335918e-05\n",
       "100 0.99 -0.005463036  0.000000000 0.000000e+00\n",
       "101 1.00  0.000000000  1.000000000 0.000000e+00"
      ]
     },
     "metadata": {},
     "output_type": "display_data"
    }
   ],
   "source": [
    "M = 200\n",
    "y.<-c()\n",
    "  \n",
    "  for(y in seq(0, 1, 0.01)){\n",
    "    temp<-duplicate_dynamic(y,M,beta=1,d=4,N=100,c=1)\n",
    "    \n",
    "    # N: 个体数\n",
    "    # M: 资源 c(5,15,25)\n",
    "    # c: less effort的成本\n",
    "    # beta: 投入效用\n",
    "    # d: more effort的成本\n",
    "    \n",
    "    y.<-c(y.,temp)\n",
    "  }\n",
    "  \n",
    "  df <- data.frame(x = seq(0, 1, 0.01), y = y.) %>% \n",
    "    mutate(y1=c(y.[-1],1)) %>% \n",
    "    mutate(y0=y*y1)\n",
    "  \n",
    "  #ystar<-df$x[df$y0<0]+0.005 #即横坐标\n",
    "  \n",
    "  ystar<-ifelse(sum(df$x[df$y0<0])==0,0,df$x[df$y0<0]+0.005)\n",
    "\n",
    "#   ggplot(df,aes(x=x,y=y))+\n",
    "#     geom_line(color=\"black\",size=0.3)+\n",
    "#     theme_few() +\n",
    "#     geom_point(aes(x=ystar,y=0))+\n",
    "#     geom_text(aes(x=ystar,y=0),label=paste(\"y*:\",ystar),size=4,nudge_y = 0.001,nudge_x = 0.03,color=\"red\")+\n",
    "#     geom_hline(aes(yintercept = 0),size=0.3)+\n",
    "#     labs(x = \"y\", y = \"y.\")"
   ]
  },
  {
   "cell_type": "code",
   "execution_count": 7,
   "id": "d0531165",
   "metadata": {},
   "outputs": [
    {
     "data": {
      "image/png": "[encoded data removed]",
      "text/plain": [
       "plot without title"
      ]
     },
     "metadata": {
      "image/png": {
       "height": 420,
       "width": 420
      }
     },
     "output_type": "display_data"
    }
   ],
   "source": [
    "plot_y._y(M=100)"
   ]
  },
  {
   "cell_type": "code",
   "execution_count": 13,
   "id": "a80f4425",
   "metadata": {},
   "outputs": [
    {
     "ename": "ERROR",
     "evalue": "Error in eval(expr, envir, enclos): 找不到对象'y.'\n",
     "output_type": "error",
     "traceback": [
      "Error in eval(expr, envir, enclos): 找不到对象'y.'\nTraceback:\n"
     ]
    }
   ],
   "source": [
    "y."
   ]
  },
  {
   "cell_type": "code",
   "execution_count": 8,
   "id": "9a02efbe",
   "metadata": {},
   "outputs": [
    {
     "data": {
      "image/png": "[encoded data removed]",
      "text/plain": [
       "plot without title"
      ]
     },
     "metadata": {
      "image/png": {
       "height": 420,
       "width": 420
      }
     },
     "output_type": "display_data"
    }
   ],
   "source": [
    "plot_y._y(M=200)"
   ]
  },
  {
   "cell_type": "code",
   "execution_count": 9,
   "id": "902da452",
   "metadata": {},
   "outputs": [
    {
     "data": {
      "image/png": "[encoded data removed]",
      "text/plain": [
       "plot without title"
      ]
     },
     "metadata": {
      "image/png": {
       "height": 420,
       "width": 420
      }
     },
     "output_type": "display_data"
    }
   ],
   "source": [
    "plot_y._y(M=398)"
   ]
  },
  {
   "cell_type": "code",
   "execution_count": 85,
   "id": "edbbe2e5",
   "metadata": {},
   "outputs": [],
   "source": [
    "ystar_collect<-function(M,beta,d){\n",
    "  \n",
    "  y.<-c()\n",
    "  \n",
    "    \n",
    "    ystar = 0\n",
    "  for(y in seq(0, 1, 0.01)){\n",
    "    temp<-duplicate_dynamic(y,M,beta,d,N=100,c=1)\n",
    "    \n",
    "    # N: 个体数\n",
    "    # M: 资源 c(5,15,25)\n",
    "    # c: less effort的成本\n",
    "    # beta: 投入效用\n",
    "    # d: more effort的成本\n",
    "    \n",
    "    y.<-c(y.,temp)\n",
    "  }\n",
    "  \n",
    "  df <- data.frame(x = seq(0, 1, 0.01), y = y.) %>% \n",
    "    mutate(y1=c(y.[-1],1)) %>% \n",
    "    mutate(y0=y*y1)\n",
    "  \n",
    "  #ystar<-ifelse(sum(df$x[df$y0<0])==0,0,df$x[df$y0<0]+0.005)\n",
    "  if(all(df$y<=0)){\n",
    "    ystar<-0 \n",
    "  }else if(all(df$y>=0)){\n",
    "    ystar<-1\n",
    "  }else{\n",
    "    ystar<-df$x[df$y0<0]+0.005\n",
    "  }\n",
    "  \n",
    "  return(ystar)\n",
    "}"
   ]
  },
  {
   "cell_type": "code",
   "execution_count": 5,
   "id": "11f9a532",
   "metadata": {},
   "outputs": [],
   "source": [
    "plot_t <- function(M){\n",
    "    steps = 500\n",
    "    endings = c()\n",
    "    df = data.frame()\n",
    "    gp = ggplot(x = seq(1,steps+1,1))\n",
    "    beta = 1\n",
    "    d = 4\n",
    "    N = 100\n",
    "    c = 1\n",
    "    # 找到要跑多少步\n",
    "    for (starting in seq(0.01,0.99,0.01)){\n",
    "        t = seq(1,steps,1)\n",
    "        y = c(starting)\n",
    "\n",
    "        for (i in t){\n",
    "            y. = duplicate_dynamic(y[length(y)],M,beta,d,N,c)\n",
    "            if (abs(y.) <0.0001){\n",
    "                endings = c(endings,i)\n",
    "                break\n",
    "            }\n",
    "            y = c(y,y. + y[length(y)])\n",
    "        }\n",
    "    }\n",
    "    ending = max(endings)\n",
    "\n",
    "    # 按最大步数再跑一遍\n",
    "    for (starting in seq(0.01,0.99,0.01)){\n",
    "        t = seq(1,ending,1)\n",
    "        y = c(starting)\n",
    "        for (i in t){\n",
    "            y. = duplicate_dynamic(y[length(y)],M,beta,d,N,c)\n",
    "            y = c(y,y. + y[length(y)])\n",
    "        }\n",
    "        df = rbind(df,data.frame(label=rep(as.character(starting),length(y)),x=seq(1,ending+1,1),y=y))\n",
    "    }\n",
    "    ggplot(df,aes(x=x,y=y,color=label))+\n",
    "        geom_line()+\n",
    "        geom_point()+\n",
    "        theme(legend.position=\"none\")\n",
    "}"
   ]
  },
  {
   "cell_type": "markdown",
   "id": "80931d6e",
   "metadata": {},
   "source": [
    "# a2"
   ]
  },
  {
   "cell_type": "code",
   "execution_count": 203,
   "id": "fb1dc13f",
   "metadata": {},
   "outputs": [
    {
     "data": {
      "image/png": "[encoded data removed]",
      "text/plain": [
       "plot without title"
      ]
     },
     "metadata": {
      "image/png": {
       "height": 420,
       "width": 420
      }
     },
     "output_type": "display_data"
    }
   ],
   "source": [
    "plot_t(100)"
   ]
  },
  {
   "cell_type": "markdown",
   "id": "46f9107f",
   "metadata": {},
   "source": [
    "# b2"
   ]
  },
  {
   "cell_type": "code",
   "execution_count": 204,
   "id": "a044d32a",
   "metadata": {},
   "outputs": [
    {
     "data": {
      "image/png": "[encoded data removed]",
      "text/plain": [
       "plot without title"
      ]
     },
     "metadata": {
      "image/png": {
       "height": 420,
       "width": 420
      }
     },
     "output_type": "display_data"
    }
   ],
   "source": [
    "plot_t(200)"
   ]
  },
  {
   "cell_type": "markdown",
   "id": "b9474428",
   "metadata": {},
   "source": [
    "# c2"
   ]
  },
  {
   "cell_type": "code",
   "execution_count": 205,
   "id": "032c030d",
   "metadata": {},
   "outputs": [
    {
     "data": {
      "image/png": "[encoded data removed]",
      "text/plain": [
       "plot without title"
      ]
     },
     "metadata": {
      "image/png": {
       "height": 420,
       "width": 420
      }
     },
     "output_type": "display_data"
    }
   ],
   "source": [
    "plot_t(400)"
   ]
  },
  {
   "cell_type": "code",
   "execution_count": 106,
   "id": "b316af18",
   "metadata": {},
   "outputs": [],
   "source": [
    "help(theme_few)"
   ]
  },
  {
   "cell_type": "code",
   "execution_count": 11,
   "id": "c22d1fee",
   "metadata": {},
   "outputs": [],
   "source": [
    "#均衡ystar值收集\n",
    "parameters<-data.frame(beta=c(1,1,1,0.6,0.6,0.6),d=c(2,4,8,2,4,8))\n",
    "\n",
    "result<-data.frame()\n",
    "\n",
    "for(i in 1:6){\n",
    "  beta<-parameters$beta[i]\n",
    "  d<-parameters$d[i]\n",
    "  \n",
    "  ystars<-c()\n",
    "  \n",
    "  for (M in seq(0,1000,10)){\n",
    "    temp<-ystar_collect(M,beta,d)\n",
    "    ystars<-c(ystars,temp)\n",
    "  }\n",
    "  \n",
    "  data<-data.frame(beta=rep(beta,length(ystars)),d=rep(d,length(ystars)),M=seq(0,1000,10),ystar=ystars)\n",
    "  \n",
    "  result<-rbind(result,data)\n",
    "}"
   ]
  },
  {
   "cell_type": "code",
   "execution_count": 44,
   "id": "d6be2e13",
   "metadata": {
    "scrolled": false
   },
   "outputs": [
    {
     "data": {
      "text/html": [
       "<table class=\"dataframe\">\n",
       "<caption>A data.frame: 606 × 4</caption>\n",
       "<thead>\n",
       "\t<tr><th scope=col>beta</th><th scope=col>d</th><th scope=col>M</th><th scope=col>ystar</th></tr>\n",
       "\t<tr><th scope=col>&lt;dbl&gt;</th><th scope=col>&lt;dbl&gt;</th><th scope=col>&lt;dbl&gt;</th><th scope=col>&lt;dbl&gt;</th></tr>\n",
       "</thead>\n",
       "<tbody>\n",
       "\t<tr><td>1</td><td>2</td><td>  0</td><td>0.000</td></tr>\n",
       "\t<tr><td>1</td><td>2</td><td> 10</td><td>0.000</td></tr>\n",
       "\t<tr><td>1</td><td>2</td><td> 20</td><td>0.000</td></tr>\n",
       "\t<tr><td>1</td><td>2</td><td> 30</td><td>0.000</td></tr>\n",
       "\t<tr><td>1</td><td>2</td><td> 40</td><td>0.000</td></tr>\n",
       "\t<tr><td>1</td><td>2</td><td> 50</td><td>0.000</td></tr>\n",
       "\t<tr><td>1</td><td>2</td><td> 60</td><td>0.000</td></tr>\n",
       "\t<tr><td>1</td><td>2</td><td> 70</td><td>0.000</td></tr>\n",
       "\t<tr><td>1</td><td>2</td><td> 80</td><td>0.000</td></tr>\n",
       "\t<tr><td>1</td><td>2</td><td> 90</td><td>0.000</td></tr>\n",
       "\t<tr><td>1</td><td>2</td><td>100</td><td>0.000</td></tr>\n",
       "\t<tr><td>1</td><td>2</td><td>110</td><td>0.085</td></tr>\n",
       "\t<tr><td>1</td><td>2</td><td>120</td><td>0.185</td></tr>\n",
       "\t<tr><td>1</td><td>2</td><td>130</td><td>0.285</td></tr>\n",
       "\t<tr><td>1</td><td>2</td><td>140</td><td>0.385</td></tr>\n",
       "\t<tr><td>1</td><td>2</td><td>150</td><td>0.485</td></tr>\n",
       "\t<tr><td>1</td><td>2</td><td>160</td><td>0.585</td></tr>\n",
       "\t<tr><td>1</td><td>2</td><td>170</td><td>0.685</td></tr>\n",
       "\t<tr><td>1</td><td>2</td><td>180</td><td>0.785</td></tr>\n",
       "\t<tr><td>1</td><td>2</td><td>190</td><td>0.885</td></tr>\n",
       "\t<tr><td>1</td><td>2</td><td>200</td><td>0.985</td></tr>\n",
       "\t<tr><td>1</td><td>2</td><td>210</td><td>1.000</td></tr>\n",
       "\t<tr><td>1</td><td>2</td><td>220</td><td>1.000</td></tr>\n",
       "\t<tr><td>1</td><td>2</td><td>230</td><td>1.000</td></tr>\n",
       "\t<tr><td>1</td><td>2</td><td>240</td><td>1.000</td></tr>\n",
       "\t<tr><td>1</td><td>2</td><td>250</td><td>1.000</td></tr>\n",
       "\t<tr><td>1</td><td>2</td><td>260</td><td>1.000</td></tr>\n",
       "\t<tr><td>1</td><td>2</td><td>270</td><td>1.000</td></tr>\n",
       "\t<tr><td>1</td><td>2</td><td>280</td><td>1.000</td></tr>\n",
       "\t<tr><td>1</td><td>2</td><td>290</td><td>1.000</td></tr>\n",
       "\t<tr><td>...</td><td>...</td><td>...</td><td>...</td></tr>\n",
       "\t<tr><td>0.6</td><td>8</td><td> 710</td><td>0.745</td></tr>\n",
       "\t<tr><td>0.6</td><td>8</td><td> 720</td><td>0.765</td></tr>\n",
       "\t<tr><td>0.6</td><td>8</td><td> 730</td><td>0.775</td></tr>\n",
       "\t<tr><td>0.6</td><td>8</td><td> 740</td><td>0.795</td></tr>\n",
       "\t<tr><td>0.6</td><td>8</td><td> 750</td><td>0.805</td></tr>\n",
       "\t<tr><td>0.6</td><td>8</td><td> 760</td><td>0.815</td></tr>\n",
       "\t<tr><td>0.6</td><td>8</td><td> 770</td><td>0.835</td></tr>\n",
       "\t<tr><td>0.6</td><td>8</td><td> 780</td><td>0.845</td></tr>\n",
       "\t<tr><td>0.6</td><td>8</td><td> 790</td><td>0.865</td></tr>\n",
       "\t<tr><td>0.6</td><td>8</td><td> 800</td><td>0.875</td></tr>\n",
       "\t<tr><td>0.6</td><td>8</td><td> 810</td><td>0.895</td></tr>\n",
       "\t<tr><td>0.6</td><td>8</td><td> 820</td><td>0.905</td></tr>\n",
       "\t<tr><td>0.6</td><td>8</td><td> 830</td><td>0.915</td></tr>\n",
       "\t<tr><td>0.6</td><td>8</td><td> 840</td><td>0.935</td></tr>\n",
       "\t<tr><td>0.6</td><td>8</td><td> 850</td><td>0.945</td></tr>\n",
       "\t<tr><td>0.6</td><td>8</td><td> 860</td><td>0.965</td></tr>\n",
       "\t<tr><td>0.6</td><td>8</td><td> 870</td><td>0.975</td></tr>\n",
       "\t<tr><td>0.6</td><td>8</td><td> 880</td><td>1.000</td></tr>\n",
       "\t<tr><td>0.6</td><td>8</td><td> 890</td><td>1.000</td></tr>\n",
       "\t<tr><td>0.6</td><td>8</td><td> 900</td><td>1.000</td></tr>\n",
       "\t<tr><td>0.6</td><td>8</td><td> 910</td><td>1.000</td></tr>\n",
       "\t<tr><td>0.6</td><td>8</td><td> 920</td><td>1.000</td></tr>\n",
       "\t<tr><td>0.6</td><td>8</td><td> 930</td><td>1.000</td></tr>\n",
       "\t<tr><td>0.6</td><td>8</td><td> 940</td><td>1.000</td></tr>\n",
       "\t<tr><td>0.6</td><td>8</td><td> 950</td><td>1.000</td></tr>\n",
       "\t<tr><td>0.6</td><td>8</td><td> 960</td><td>1.000</td></tr>\n",
       "\t<tr><td>0.6</td><td>8</td><td> 970</td><td>1.000</td></tr>\n",
       "\t<tr><td>0.6</td><td>8</td><td> 980</td><td>1.000</td></tr>\n",
       "\t<tr><td>0.6</td><td>8</td><td> 990</td><td>1.000</td></tr>\n",
       "\t<tr><td>0.6</td><td>8</td><td>1000</td><td>1.000</td></tr>\n",
       "</tbody>\n",
       "</table>\n"
      ],
      "text/latex": [
       "A data.frame: 606 × 4\n",
       "\\begin{tabular}{llll}\n",
       " beta & d & M & ystar\\\\\n",
       " <dbl> & <dbl> & <dbl> & <dbl>\\\\\n",
       "\\hline\n",
       "\t 1 & 2 &   0 & 0.000\\\\\n",
       "\t 1 & 2 &  10 & 0.000\\\\\n",
       "\t 1 & 2 &  20 & 0.000\\\\\n",
       "\t 1 & 2 &  30 & 0.000\\\\\n",
       "\t 1 & 2 &  40 & 0.000\\\\\n",
       "\t 1 & 2 &  50 & 0.000\\\\\n",
       "\t 1 & 2 &  60 & 0.000\\\\\n",
       "\t 1 & 2 &  70 & 0.000\\\\\n",
       "\t 1 & 2 &  80 & 0.000\\\\\n",
       "\t 1 & 2 &  90 & 0.000\\\\\n",
       "\t 1 & 2 & 100 & 0.000\\\\\n",
       "\t 1 & 2 & 110 & 0.085\\\\\n",
       "\t 1 & 2 & 120 & 0.185\\\\\n",
       "\t 1 & 2 & 130 & 0.285\\\\\n",
       "\t 1 & 2 & 140 & 0.385\\\\\n",
       "\t 1 & 2 & 150 & 0.485\\\\\n",
       "\t 1 & 2 & 160 & 0.585\\\\\n",
       "\t 1 & 2 & 170 & 0.685\\\\\n",
       "\t 1 & 2 & 180 & 0.785\\\\\n",
       "\t 1 & 2 & 190 & 0.885\\\\\n",
       "\t 1 & 2 & 200 & 0.985\\\\\n",
       "\t 1 & 2 & 210 & 1.000\\\\\n",
       "\t 1 & 2 & 220 & 1.000\\\\\n",
       "\t 1 & 2 & 230 & 1.000\\\\\n",
       "\t 1 & 2 & 240 & 1.000\\\\\n",
       "\t 1 & 2 & 250 & 1.000\\\\\n",
       "\t 1 & 2 & 260 & 1.000\\\\\n",
       "\t 1 & 2 & 270 & 1.000\\\\\n",
       "\t 1 & 2 & 280 & 1.000\\\\\n",
       "\t 1 & 2 & 290 & 1.000\\\\\n",
       "\t ... & ... & ... & ...\\\\\n",
       "\t 0.6 & 8 &  710 & 0.745\\\\\n",
       "\t 0.6 & 8 &  720 & 0.765\\\\\n",
       "\t 0.6 & 8 &  730 & 0.775\\\\\n",
       "\t 0.6 & 8 &  740 & 0.795\\\\\n",
       "\t 0.6 & 8 &  750 & 0.805\\\\\n",
       "\t 0.6 & 8 &  760 & 0.815\\\\\n",
       "\t 0.6 & 8 &  770 & 0.835\\\\\n",
       "\t 0.6 & 8 &  780 & 0.845\\\\\n",
       "\t 0.6 & 8 &  790 & 0.865\\\\\n",
       "\t 0.6 & 8 &  800 & 0.875\\\\\n",
       "\t 0.6 & 8 &  810 & 0.895\\\\\n",
       "\t 0.6 & 8 &  820 & 0.905\\\\\n",
       "\t 0.6 & 8 &  830 & 0.915\\\\\n",
       "\t 0.6 & 8 &  840 & 0.935\\\\\n",
       "\t 0.6 & 8 &  850 & 0.945\\\\\n",
       "\t 0.6 & 8 &  860 & 0.965\\\\\n",
       "\t 0.6 & 8 &  870 & 0.975\\\\\n",
       "\t 0.6 & 8 &  880 & 1.000\\\\\n",
       "\t 0.6 & 8 &  890 & 1.000\\\\\n",
       "\t 0.6 & 8 &  900 & 1.000\\\\\n",
       "\t 0.6 & 8 &  910 & 1.000\\\\\n",
       "\t 0.6 & 8 &  920 & 1.000\\\\\n",
       "\t 0.6 & 8 &  930 & 1.000\\\\\n",
       "\t 0.6 & 8 &  940 & 1.000\\\\\n",
       "\t 0.6 & 8 &  950 & 1.000\\\\\n",
       "\t 0.6 & 8 &  960 & 1.000\\\\\n",
       "\t 0.6 & 8 &  970 & 1.000\\\\\n",
       "\t 0.6 & 8 &  980 & 1.000\\\\\n",
       "\t 0.6 & 8 &  990 & 1.000\\\\\n",
       "\t 0.6 & 8 & 1000 & 1.000\\\\\n",
       "\\end{tabular}\n"
      ],
      "text/markdown": [
       "\n",
       "A data.frame: 606 × 4\n",
       "\n",
       "| beta &lt;dbl&gt; | d &lt;dbl&gt; | M &lt;dbl&gt; | ystar &lt;dbl&gt; |\n",
       "|---|---|---|---|\n",
       "| 1 | 2 |   0 | 0.000 |\n",
       "| 1 | 2 |  10 | 0.000 |\n",
       "| 1 | 2 |  20 | 0.000 |\n",
       "| 1 | 2 |  30 | 0.000 |\n",
       "| 1 | 2 |  40 | 0.000 |\n",
       "| 1 | 2 |  50 | 0.000 |\n",
       "| 1 | 2 |  60 | 0.000 |\n",
       "| 1 | 2 |  70 | 0.000 |\n",
       "| 1 | 2 |  80 | 0.000 |\n",
       "| 1 | 2 |  90 | 0.000 |\n",
       "| 1 | 2 | 100 | 0.000 |\n",
       "| 1 | 2 | 110 | 0.085 |\n",
       "| 1 | 2 | 120 | 0.185 |\n",
       "| 1 | 2 | 130 | 0.285 |\n",
       "| 1 | 2 | 140 | 0.385 |\n",
       "| 1 | 2 | 150 | 0.485 |\n",
       "| 1 | 2 | 160 | 0.585 |\n",
       "| 1 | 2 | 170 | 0.685 |\n",
       "| 1 | 2 | 180 | 0.785 |\n",
       "| 1 | 2 | 190 | 0.885 |\n",
       "| 1 | 2 | 200 | 0.985 |\n",
       "| 1 | 2 | 210 | 1.000 |\n",
       "| 1 | 2 | 220 | 1.000 |\n",
       "| 1 | 2 | 230 | 1.000 |\n",
       "| 1 | 2 | 240 | 1.000 |\n",
       "| 1 | 2 | 250 | 1.000 |\n",
       "| 1 | 2 | 260 | 1.000 |\n",
       "| 1 | 2 | 270 | 1.000 |\n",
       "| 1 | 2 | 280 | 1.000 |\n",
       "| 1 | 2 | 290 | 1.000 |\n",
       "| ... | ... | ... | ... |\n",
       "| 0.6 | 8 |  710 | 0.745 |\n",
       "| 0.6 | 8 |  720 | 0.765 |\n",
       "| 0.6 | 8 |  730 | 0.775 |\n",
       "| 0.6 | 8 |  740 | 0.795 |\n",
       "| 0.6 | 8 |  750 | 0.805 |\n",
       "| 0.6 | 8 |  760 | 0.815 |\n",
       "| 0.6 | 8 |  770 | 0.835 |\n",
       "| 0.6 | 8 |  780 | 0.845 |\n",
       "| 0.6 | 8 |  790 | 0.865 |\n",
       "| 0.6 | 8 |  800 | 0.875 |\n",
       "| 0.6 | 8 |  810 | 0.895 |\n",
       "| 0.6 | 8 |  820 | 0.905 |\n",
       "| 0.6 | 8 |  830 | 0.915 |\n",
       "| 0.6 | 8 |  840 | 0.935 |\n",
       "| 0.6 | 8 |  850 | 0.945 |\n",
       "| 0.6 | 8 |  860 | 0.965 |\n",
       "| 0.6 | 8 |  870 | 0.975 |\n",
       "| 0.6 | 8 |  880 | 1.000 |\n",
       "| 0.6 | 8 |  890 | 1.000 |\n",
       "| 0.6 | 8 |  900 | 1.000 |\n",
       "| 0.6 | 8 |  910 | 1.000 |\n",
       "| 0.6 | 8 |  920 | 1.000 |\n",
       "| 0.6 | 8 |  930 | 1.000 |\n",
       "| 0.6 | 8 |  940 | 1.000 |\n",
       "| 0.6 | 8 |  950 | 1.000 |\n",
       "| 0.6 | 8 |  960 | 1.000 |\n",
       "| 0.6 | 8 |  970 | 1.000 |\n",
       "| 0.6 | 8 |  980 | 1.000 |\n",
       "| 0.6 | 8 |  990 | 1.000 |\n",
       "| 0.6 | 8 | 1000 | 1.000 |\n",
       "\n"
      ],
      "text/plain": [
       "    beta d   M    ystar\n",
       "1   1    2     0  0.000\n",
       "2   1    2    10  0.000\n",
       "3   1    2    20  0.000\n",
       "4   1    2    30  0.000\n",
       "5   1    2    40  0.000\n",
       "6   1    2    50  0.000\n",
       "7   1    2    60  0.000\n",
       "8   1    2    70  0.000\n",
       "9   1    2    80  0.000\n",
       "10  1    2    90  0.000\n",
       "11  1    2   100  0.000\n",
       "12  1    2   110  0.085\n",
       "13  1    2   120  0.185\n",
       "14  1    2   130  0.285\n",
       "15  1    2   140  0.385\n",
       "16  1    2   150  0.485\n",
       "17  1    2   160  0.585\n",
       "18  1    2   170  0.685\n",
       "19  1    2   180  0.785\n",
       "20  1    2   190  0.885\n",
       "21  1    2   200  0.985\n",
       "22  1    2   210  1.000\n",
       "23  1    2   220  1.000\n",
       "24  1    2   230  1.000\n",
       "25  1    2   240  1.000\n",
       "26  1    2   250  1.000\n",
       "27  1    2   260  1.000\n",
       "28  1    2   270  1.000\n",
       "29  1    2   280  1.000\n",
       "30  1    2   290  1.000\n",
       "... ...  ... ...  ...  \n",
       "577 0.6  8    710 0.745\n",
       "578 0.6  8    720 0.765\n",
       "579 0.6  8    730 0.775\n",
       "580 0.6  8    740 0.795\n",
       "581 0.6  8    750 0.805\n",
       "582 0.6  8    760 0.815\n",
       "583 0.6  8    770 0.835\n",
       "584 0.6  8    780 0.845\n",
       "585 0.6  8    790 0.865\n",
       "586 0.6  8    800 0.875\n",
       "587 0.6  8    810 0.895\n",
       "588 0.6  8    820 0.905\n",
       "589 0.6  8    830 0.915\n",
       "590 0.6  8    840 0.935\n",
       "591 0.6  8    850 0.945\n",
       "592 0.6  8    860 0.965\n",
       "593 0.6  8    870 0.975\n",
       "594 0.6  8    880 1.000\n",
       "595 0.6  8    890 1.000\n",
       "596 0.6  8    900 1.000\n",
       "597 0.6  8    910 1.000\n",
       "598 0.6  8    920 1.000\n",
       "599 0.6  8    930 1.000\n",
       "600 0.6  8    940 1.000\n",
       "601 0.6  8    950 1.000\n",
       "602 0.6  8    960 1.000\n",
       "603 0.6  8    970 1.000\n",
       "604 0.6  8    980 1.000\n",
       "605 0.6  8    990 1.000\n",
       "606 0.6  8   1000 1.000"
      ]
     },
     "metadata": {},
     "output_type": "display_data"
    }
   ],
   "source": [
    "result"
   ]
  },
  {
   "cell_type": "code",
   "execution_count": 117,
   "id": "e19d8731",
   "metadata": {},
   "outputs": [
    {
     "data": {
      "image/png": "[encoded data removed]",
      "text/plain": [
       "plot without title"
      ]
     },
     "metadata": {
      "image/png": {
       "height": 420,
       "width": 420
      }
     },
     "output_type": "display_data"
    }
   ],
   "source": [
    "#数据可视化\n",
    "df<-result %>% \n",
    "  mutate(label=paste(\"beta=\",beta,\",\",\"d=\",d,sep=\"\"))\n",
    "\n",
    "ggplot(df,aes(x=M,y=ystar,color=label))+\n",
    "  geom_line()+\n",
    "  geom_point()+\n",
    "  theme_few()"
   ]
  },
  {
   "cell_type": "code",
   "execution_count": 101,
   "id": "009a63ad",
   "metadata": {},
   "outputs": [],
   "source": [
    "ystar_collect<-function(M,beta,d){\n",
    "  \n",
    "    ystar = 0\n",
    "  y.<-c()\n",
    "  \n",
    "  for(y in seq(0, 1, 0.01)){\n",
    "    temp<-duplicate_dynamic(y,M,beta,d,N=100,c=1)\n",
    "    \n",
    "    # N: 个体数\n",
    "    # M: 资源 c(5,15,25)\n",
    "    # c: less effort的成本\n",
    "    # beta: 投入效用\n",
    "    # d: more effort的成本\n",
    "    \n",
    "    y.<-c(y.,temp)\n",
    "  }\n",
    "  \n",
    "  df <- data.frame(x = seq(0, 1, 0.01), y = y.) %>% \n",
    "    mutate(y1=c(y.[-1],1)) %>% \n",
    "    mutate(y0=y*y1)\n",
    "    df[is.na(df)] <- 0  \n",
    "  #ystar<-ifelse(sum(df$x[df$y0<0])==0,0,df$x[df$y0<0]+0.005)\n",
    "  if(all(df$y<=0)){\n",
    "    ystar<-0 \n",
    "  }else if(all(df$y>0)){\n",
    "    ystar<-1\n",
    "  }else{\n",
    "    ystar<-df$x[df$y0<0]+0.005\n",
    "  }\n",
    "  if(length(ystar) == 0){\n",
    "      ystar = 1\n",
    "  }\n",
    "  \n",
    "  return(ystar)\n",
    "}"
   ]
  },
  {
   "cell_type": "code",
   "execution_count": 106,
   "id": "aa54e478",
   "metadata": {},
   "outputs": [
    {
     "data": {
      "image/png": "[encoded data removed]",
      "text/plain": [
       "plot without title"
      ]
     },
     "metadata": {
      "image/png": {
       "height": 420,
       "width": 420
      }
     },
     "output_type": "display_data"
    }
   ],
   "source": [
    "parameters<-data.frame(M=c(500,500,500,250,250,250),d=c(2,4,8,2,4,8))\n",
    "result<-data.frame()\n",
    "for(i in 1:6){\n",
    "  M<-parameters$M[i]\n",
    "  d<-parameters$d[i]\n",
    "  \n",
    "  ystars<- c()\n",
    "  \n",
    "  for (beta in seq(0,1.2,0.2)){\n",
    "    temp<-ystar_collect(M,beta,d)\n",
    "    ystars<-c(ystars,c(temp))\n",
    "  }\n",
    "  \n",
    "  data<-data.frame(M=rep(M,length(ystars)),d=rep(d,length(ystars)),beta=seq(0,1.2,0.2),ystar=ystars)\n",
    "  \n",
    "  result<-rbind(result,data)\n",
    "}\n",
    "#数据可视化\n",
    "df<-result %>% \n",
    "  mutate(label=paste(\"M=\",M,\",\",\"d=\",d,sep=\"\"))\n",
    "\n",
    "ggplot(df,aes(x=beta,y=ystar,color=label))+\n",
    "  geom_line()+\n",
    "  geom_point()+\n",
    "  theme_few()"
   ]
  },
  {
   "cell_type": "code",
   "execution_count": 72,
   "id": "5b7d2772",
   "metadata": {},
   "outputs": [],
   "source": [
    "ystars = list()\n",
    "ystars[1] = 1"
   ]
  },
  {
   "cell_type": "code",
   "execution_count": 76,
   "id": "6729261c",
   "metadata": {},
   "outputs": [
    {
     "data": {
      "text/html": [
       "<style>\n",
       ".list-inline {list-style: none; margin:0; padding: 0}\n",
       ".list-inline>li {display: inline-block}\n",
       ".list-inline>li:not(:last-child)::after {content: \"\\00b7\"; padding: 0 .5ex}\n",
       "</style>\n",
       "<ol class=list-inline><li>1</li><li>2</li><li>3</li><li>0</li></ol>\n"
      ],
      "text/latex": [
       "\\begin{enumerate*}\n",
       "\\item 1\n",
       "\\item 2\n",
       "\\item 3\n",
       "\\item 0\n",
       "\\end{enumerate*}\n"
      ],
      "text/markdown": [
       "1. 1\n",
       "2. 2\n",
       "3. 3\n",
       "4. 0\n",
       "\n",
       "\n"
      ],
      "text/plain": [
       "[1] 1 2 3 0"
      ]
     },
     "metadata": {},
     "output_type": "display_data"
    }
   ],
   "source": [
    "c(c(1,2,3),numeric(1))"
   ]
  },
  {
   "cell_type": "code",
   "execution_count": 84,
   "id": "3e08e9d1",
   "metadata": {},
   "outputs": [
    {
     "ename": "ERROR",
     "evalue": "Error in numeric(0) = 0: 赋值目标擴充到非语言对象\n",
     "output_type": "error",
     "traceback": [
      "Error in numeric(0) = 0: 赋值目标擴充到非语言对象\nTraceback:\n"
     ]
    }
   ],
   "source": []
  }
 ],
 "metadata": {
  "kernelspec": {
   "display_name": "R",
   "language": "R",
   "name": "ir"
  },
  "language_info": {
   "codemirror_mode": "r",
   "file_extension": ".r",
   "mimetype": "text/x-r-source",
   "name": "R",
   "pygments_lexer": "r",
   "version": "4.1.3"
  }
 },
 "nbformat": 4,
 "nbformat_minor": 5
}
