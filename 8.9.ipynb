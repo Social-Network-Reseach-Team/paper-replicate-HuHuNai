{
 "cells": [
  {
   "cell_type": "code",
   "execution_count": 8,
   "id": "b9930072",
   "metadata": {},
   "outputs": [],
   "source": [
    "library(tidyverse)\n",
    "library(data.table)\n",
    "library(EvolutionaryGames)\n",
    "library(ggthemes)\n",
    "library(latex2exp)\n",
    "library(ggtext)"
   ]
  },
  {
   "cell_type": "code",
   "execution_count": 285,
   "id": "fb3f0212",
   "metadata": {},
   "outputs": [],
   "source": [
    "duplicate_dynamic<-function(y,M,beta,d,N,c){\n",
    "  \n",
    "  #-----参数解释说明------#\n",
    "  # #N个个体\n",
    "  # N<-4\n",
    "  # #M资源 c(5,15,25)\n",
    "  # M<-5\n",
    "  # #less effort的成本\n",
    "  # c<-1\n",
    "  # #投入效用\n",
    "  # beta<-1\n",
    "  # #more effort的成本\n",
    "  # d<-4\n",
    "  #-----------------------#\n",
    "    \n",
    "  #这里决定用N-1\n",
    "  #需要取整\n",
    "  Nd<-y*(N-1)  # 这里有点没懂 换成N就不行了  # floor 返回小于输入值的最大整数值 Nd最大为98，Nc最大为99\n",
    "  Nc<-N-1-Nd\n",
    "  \n",
    "  #策略c（cooperate, less effort）和策略d(defect，more effort)的收益\n",
    "  #（1）个体选择策略c的期望收益\n",
    "  pai_c<-(c*M)/((Nc+1)*c+Nd*beta*d)-c\n",
    "  #（2）个体选择策略d的期望收益\n",
    "  pai_d<-(beta*d*M)/(Nc*c+(Nd+1)*beta*d)-d\n",
    "  \n",
    "  #群体体选择策略c或d的收益  = 概率*pai\n",
    "  # 累加\n",
    "  #等价Pc<(choose(N-1, Nc)*((1-y)^Nc)*(y^Nd))*pai_c\n",
    "    Pc=0\n",
    "    Pd=0\n",
    "    for (n in 0:N-1){ \n",
    "        Pc=Pc+(choose(N-1, n)*(y^n)*((1-y)^(N-n-1)))*pai_c\n",
    "        Pd=Pd+(choose(N-1, n)*(y^n)*((1-y)^(N-n-1)))*pai_d #choose计算组合数\n",
    "  }\n",
    " #choose计算组合数\n",
    "  \n",
    "  #（3）群体选择策略d的平均收益\n",
    "  R_<-y*Pd+(1-y)*Pc\n",
    "  \n",
    "  #(4)复制动态方程\n",
    "  #y.<-y(Pd-R_) = y(Pd-y*Pd-(1-y)*Pc) = y(1-y)(Pd-Pc)\n",
    "  y.<-y*(1-y)*(Pd-Pc)\n",
    "    if (is.na(y.)){\n",
    "        y.<-0\n",
    "    }\n",
    "    return(y.)\n",
    "}"
   ]
  },
  {
   "cell_type": "code",
   "execution_count": 286,
   "id": "9737236a",
   "metadata": {},
   "outputs": [],
   "source": [
    "plot_y._y<-function(M){\n",
    "  y.<-c()\n",
    "  \n",
    "  for(y in seq(0, 1, 0.01)){\n",
    "    temp<-duplicate_dynamic(y,M,beta=1,d=4,N=5,c=1)\n",
    "    \n",
    "    # N: 个体数\n",
    "    # M: 资源 c(5,15,25)\n",
    "    # c: less effort的成本\n",
    "    # beta: 投入效用\n",
    "    # d: more effort的成本\n",
    "    \n",
    "    y.<-c(y.,temp)\n",
    "  }\n",
    "  \n",
    "  df <- data.frame(x = seq(0, 1, 0.01), y = y.) %>% \n",
    "    mutate(y1=c(y.[-1],1)) %>% \n",
    "    mutate(y0=y*y1)\n",
    "  \n",
    "  #ystar<-df$x[df$y0<0]+0.005 #即横坐标\n",
    "  \n",
    "  ystar<-ifelse(sum(df$x[df$y0<0])==0,0,df$x[df$y0<0]+0.005)\n",
    "  \n",
    "  ggplot(df,aes(x=x,y=y))+\n",
    "    geom_line(color=\"black\",size=0.3)+\n",
    "    theme_few() +\n",
    "    geom_point(aes(x=ystar,y=0))+\n",
    "    geom_text(aes(x=ystar,y=0),label=paste(\"y*:\",ystar),size=4,nudge_y = 0.001,nudge_x = 0.03,color=\"red\")+\n",
    "    geom_hline(aes(yintercept = 0),size=0.3)+\n",
    "    labs(x = \"y\", y = \"y.\")\n",
    "}"
   ]
  },
  {
   "cell_type": "code",
   "execution_count": 287,
   "id": "d0531165",
   "metadata": {
    "scrolled": false
   },
   "outputs": [
    {
     "data": {
      "image/png": "[encoded data removed]",
      "text/plain": [
       "plot without title"
      ]
     },
     "metadata": {
      "image/png": {
       "height": 420,
       "width": 420
      }
     },
     "output_type": "display_data"
    }
   ],
   "source": [
    "plot_y._y(M=5)"
   ]
  },
  {
   "cell_type": "code",
   "execution_count": 13,
   "id": "a80f4425",
   "metadata": {},
   "outputs": [
    {
     "ename": "ERROR",
     "evalue": "Error in eval(expr, envir, enclos): 找不到对象'y.'\n",
     "output_type": "error",
     "traceback": [
      "Error in eval(expr, envir, enclos): 找不到对象'y.'\nTraceback:\n"
     ]
    }
   ],
   "source": [
    "y."
   ]
  },
  {
   "cell_type": "code",
   "execution_count": 288,
   "id": "9a02efbe",
   "metadata": {},
   "outputs": [
    {
     "data": {
      "image/png": "[encoded data removed]",
      "text/plain": [
       "plot without title"
      ]
     },
     "metadata": {
      "image/png": {
       "height": 420,
       "width": 420
      }
     },
     "output_type": "display_data"
    }
   ],
   "source": [
    "plot_y._y(M=15)"
   ]
  },
  {
   "cell_type": "code",
   "execution_count": 289,
   "id": "902da452",
   "metadata": {},
   "outputs": [
    {
     "data": {
      "image/png": "[encoded data removed]",
      "text/plain": [
       "plot without title"
      ]
     },
     "metadata": {
      "image/png": {
       "height": 420,
       "width": 420
      }
     },
     "output_type": "display_data"
    }
   ],
   "source": [
    "plot_y._y(M=25)"
   ]
  },
  {
   "cell_type": "code",
   "execution_count": 271,
   "id": "edbbe2e5",
   "metadata": {},
   "outputs": [],
   "source": [
    "ystar_collect<-function(M,beta,d){\n",
    "  \n",
    "  y.<-c()\n",
    "  \n",
    "    \n",
    "    ystar = 0\n",
    "  for(y in seq(0, 1, 0.01)){\n",
    "    temp<-duplicate_dynamic(y,M,beta,d,N=5,c=1)\n",
    "    \n",
    "    # N: 个体数\n",
    "    # M: 资源 c(5,15,25)\n",
    "    # c: less effort的成本\n",
    "    # beta: 投入效用\n",
    "    # d: more effort的成本\n",
    "    \n",
    "    y.<-c(y.,temp)\n",
    "  }\n",
    "  \n",
    "  df <- data.frame(x = seq(0, 1, 0.01), y = y.) %>% \n",
    "    mutate(y1=c(y.[-1],1)) %>% \n",
    "    mutate(y0=y*y1)\n",
    "  \n",
    "  #ystar<-ifelse(sum(df$x[df$y0<0])==0,0,df$x[df$y0<0]+0.005)\n",
    "  if(all(df$y<=0)){\n",
    "    ystar<-0 \n",
    "  }else if(all(df$y>=0)){\n",
    "    ystar<-1\n",
    "  }else{\n",
    "    ystar<-df$x[df$y0<0]+0.005\n",
    "  }\n",
    "  \n",
    "  return(ystar)\n",
    "}"
   ]
  },
  {
   "cell_type": "code",
   "execution_count": 309,
   "id": "11f9a532",
   "metadata": {},
   "outputs": [],
   "source": [
    "plot_t <- function(M){\n",
    "    steps = 500\n",
    "    endings = c()\n",
    "    df = data.frame()\n",
    "    gp = ggplot(x = seq(1,steps+1,1))\n",
    "    beta = 1\n",
    "    d = 4\n",
    "    N = 5\n",
    "    c = 1\n",
    "    # 找到要跑多少步\n",
    "    for (starting in seq(0.01,0.99,0.01)){\n",
    "        t = seq(1,steps,1)\n",
    "        y = c(starting)\n",
    "\n",
    "        for (i in t){\n",
    "            y. = duplicate_dynamic(y[length(y)],M,beta,d,N,c)\n",
    "            if (abs(y.) <0.0001){\n",
    "                endings = c(endings,i)\n",
    "                break\n",
    "            }\n",
    "            y = c(y,y.*0.1 + y[length(y)])\n",
    "        }\n",
    "    }\n",
    "    ending = max(endings)\n",
    "\n",
    "    # 按最大步数再跑一遍\n",
    "    for (starting in seq(0.01,0.99,0.01)){\n",
    "        t = seq(1,ending,1)\n",
    "        y = c(starting)\n",
    "        for (i in t){\n",
    "            y. = duplicate_dynamic(y[length(y)],M,beta,d,N,c)\n",
    "            y = c(y,y. * 0.1 + y[length(y)])\n",
    "        }\n",
    "        df = rbind(df,data.frame(label=rep(as.character(starting),length(y)),x=seq(1,ending+1,1),y=y))\n",
    "    }\n",
    "    ggplot(df,aes(x=x,y=y,color=label))+\n",
    "        geom_line()+\n",
    "        geom_point()+\n",
    "        theme(legend.position=\"none\")\n",
    "}"
   ]
  },
  {
   "cell_type": "markdown",
   "id": "80931d6e",
   "metadata": {},
   "source": [
    "# a2"
   ]
  },
  {
   "cell_type": "code",
   "execution_count": 310,
   "id": "fb1dc13f",
   "metadata": {},
   "outputs": [
    {
     "data": {
      "image/png": "[encoded data removed]",
      "text/plain": [
       "plot without title"
      ]
     },
     "metadata": {
      "image/png": {
       "height": 420,
       "width": 420
      }
     },
     "output_type": "display_data"
    }
   ],
   "source": [
    "plot_t(5)"
   ]
  },
  {
   "cell_type": "markdown",
   "id": "46f9107f",
   "metadata": {},
   "source": [
    "# b2"
   ]
  },
  {
   "cell_type": "code",
   "execution_count": 311,
   "id": "a044d32a",
   "metadata": {},
   "outputs": [
    {
     "data": {
      "image/png": "[encoded data removed]",
      "text/plain": [
       "plot without title"
      ]
     },
     "metadata": {
      "image/png": {
       "height": 420,
       "width": 420
      }
     },
     "output_type": "display_data"
    }
   ],
   "source": [
    "plot_t(15)"
   ]
  },
  {
   "cell_type": "markdown",
   "id": "b9474428",
   "metadata": {},
   "source": [
    "# c2"
   ]
  },
  {
   "cell_type": "code",
   "execution_count": 312,
   "id": "032c030d",
   "metadata": {},
   "outputs": [
    {
     "data": {
      "image/png": "[encoded data removed]",
      "text/plain": [
       "plot without title"
      ]
     },
     "metadata": {
      "image/png": {
       "height": 420,
       "width": 420
      }
     },
     "output_type": "display_data"
    }
   ],
   "source": [
    "plot_t(25)"
   ]
  },
  {
   "cell_type": "code",
   "execution_count": 106,
   "id": "b316af18",
   "metadata": {},
   "outputs": [],
   "source": [
    "help(theme_few)"
   ]
  },
  {
   "cell_type": "code",
   "execution_count": 11,
   "id": "c22d1fee",
   "metadata": {},
   "outputs": [],
   "source": [
    "#均衡ystar值收集\n",
    "parameters<-data.frame(beta=c(1,1,1,0.6,0.6,0.6),d=c(2,4,8,2,4,8))\n",
    "\n",
    "result<-data.frame()\n",
    "\n",
    "for(i in 1:6){\n",
    "  beta<-parameters$beta[i]\n",
    "  d<-parameters$d[i]\n",
    "  \n",
    "  ystars<-c()\n",
    "  \n",
    "  for (M in seq(0,1000,10)){\n",
    "    temp<-ystar_collect(M,beta,d)\n",
    "    ystars<-c(ystars,temp)\n",
    "  }\n",
    "  \n",
    "  data<-data.frame(beta=rep(beta,length(ystars)),d=rep(d,length(ystars)),M=seq(0,1000,10),ystar=ystars)\n",
    "  \n",
    "  result<-rbind(result,data)\n",
    "}"
   ]
  },
  {
   "cell_type": "code",
   "execution_count": 44,
   "id": "d6be2e13",
   "metadata": {
    "scrolled": true
   },
   "outputs": [
    {
     "data": {
      "text/html": [
       "<table class=\"dataframe\">\n",
       "<caption>A data.frame: 606 × 4</caption>\n",
       "<thead>\n",
       "\t<tr><th scope=col>beta</th><th scope=col>d</th><th scope=col>M</th><th scope=col>ystar</th></tr>\n",
       "\t<tr><th scope=col>&lt;dbl&gt;</th><th scope=col>&lt;dbl&gt;</th><th scope=col>&lt;dbl&gt;</th><th scope=col>&lt;dbl&gt;</th></tr>\n",
       "</thead>\n",
       "<tbody>\n",
       "\t<tr><td>1</td><td>2</td><td>  0</td><td>0.000</td></tr>\n",
       "\t<tr><td>1</td><td>2</td><td> 10</td><td>0.000</td></tr>\n",
       "\t<tr><td>1</td><td>2</td><td> 20</td><td>0.000</td></tr>\n",
       "\t<tr><td>1</td><td>2</td><td> 30</td><td>0.000</td></tr>\n",
       "\t<tr><td>1</td><td>2</td><td> 40</td><td>0.000</td></tr>\n",
       "\t<tr><td>1</td><td>2</td><td> 50</td><td>0.000</td></tr>\n",
       "\t<tr><td>1</td><td>2</td><td> 60</td><td>0.000</td></tr>\n",
       "\t<tr><td>1</td><td>2</td><td> 70</td><td>0.000</td></tr>\n",
       "\t<tr><td>1</td><td>2</td><td> 80</td><td>0.000</td></tr>\n",
       "\t<tr><td>1</td><td>2</td><td> 90</td><td>0.000</td></tr>\n",
       "\t<tr><td>1</td><td>2</td><td>100</td><td>0.000</td></tr>\n",
       "\t<tr><td>1</td><td>2</td><td>110</td><td>0.085</td></tr>\n",
       "\t<tr><td>1</td><td>2</td><td>120</td><td>0.185</td></tr>\n",
       "\t<tr><td>1</td><td>2</td><td>130</td><td>0.285</td></tr>\n",
       "\t<tr><td>1</td><td>2</td><td>140</td><td>0.385</td></tr>\n",
       "\t<tr><td>1</td><td>2</td><td>150</td><td>0.485</td></tr>\n",
       "\t<tr><td>1</td><td>2</td><td>160</td><td>0.585</td></tr>\n",
       "\t<tr><td>1</td><td>2</td><td>170</td><td>0.685</td></tr>\n",
       "\t<tr><td>1</td><td>2</td><td>180</td><td>0.785</td></tr>\n",
       "\t<tr><td>1</td><td>2</td><td>190</td><td>0.885</td></tr>\n",
       "\t<tr><td>1</td><td>2</td><td>200</td><td>0.985</td></tr>\n",
       "\t<tr><td>1</td><td>2</td><td>210</td><td>1.000</td></tr>\n",
       "\t<tr><td>1</td><td>2</td><td>220</td><td>1.000</td></tr>\n",
       "\t<tr><td>1</td><td>2</td><td>230</td><td>1.000</td></tr>\n",
       "\t<tr><td>1</td><td>2</td><td>240</td><td>1.000</td></tr>\n",
       "\t<tr><td>1</td><td>2</td><td>250</td><td>1.000</td></tr>\n",
       "\t<tr><td>1</td><td>2</td><td>260</td><td>1.000</td></tr>\n",
       "\t<tr><td>1</td><td>2</td><td>270</td><td>1.000</td></tr>\n",
       "\t<tr><td>1</td><td>2</td><td>280</td><td>1.000</td></tr>\n",
       "\t<tr><td>1</td><td>2</td><td>290</td><td>1.000</td></tr>\n",
       "\t<tr><td>...</td><td>...</td><td>...</td><td>...</td></tr>\n",
       "\t<tr><td>0.6</td><td>8</td><td> 710</td><td>0.745</td></tr>\n",
       "\t<tr><td>0.6</td><td>8</td><td> 720</td><td>0.765</td></tr>\n",
       "\t<tr><td>0.6</td><td>8</td><td> 730</td><td>0.775</td></tr>\n",
       "\t<tr><td>0.6</td><td>8</td><td> 740</td><td>0.795</td></tr>\n",
       "\t<tr><td>0.6</td><td>8</td><td> 750</td><td>0.805</td></tr>\n",
       "\t<tr><td>0.6</td><td>8</td><td> 760</td><td>0.815</td></tr>\n",
       "\t<tr><td>0.6</td><td>8</td><td> 770</td><td>0.835</td></tr>\n",
       "\t<tr><td>0.6</td><td>8</td><td> 780</td><td>0.845</td></tr>\n",
       "\t<tr><td>0.6</td><td>8</td><td> 790</td><td>0.865</td></tr>\n",
       "\t<tr><td>0.6</td><td>8</td><td> 800</td><td>0.875</td></tr>\n",
       "\t<tr><td>0.6</td><td>8</td><td> 810</td><td>0.895</td></tr>\n",
       "\t<tr><td>0.6</td><td>8</td><td> 820</td><td>0.905</td></tr>\n",
       "\t<tr><td>0.6</td><td>8</td><td> 830</td><td>0.915</td></tr>\n",
       "\t<tr><td>0.6</td><td>8</td><td> 840</td><td>0.935</td></tr>\n",
       "\t<tr><td>0.6</td><td>8</td><td> 850</td><td>0.945</td></tr>\n",
       "\t<tr><td>0.6</td><td>8</td><td> 860</td><td>0.965</td></tr>\n",
       "\t<tr><td>0.6</td><td>8</td><td> 870</td><td>0.975</td></tr>\n",
       "\t<tr><td>0.6</td><td>8</td><td> 880</td><td>1.000</td></tr>\n",
       "\t<tr><td>0.6</td><td>8</td><td> 890</td><td>1.000</td></tr>\n",
       "\t<tr><td>0.6</td><td>8</td><td> 900</td><td>1.000</td></tr>\n",
       "\t<tr><td>0.6</td><td>8</td><td> 910</td><td>1.000</td></tr>\n",
       "\t<tr><td>0.6</td><td>8</td><td> 920</td><td>1.000</td></tr>\n",
       "\t<tr><td>0.6</td><td>8</td><td> 930</td><td>1.000</td></tr>\n",
       "\t<tr><td>0.6</td><td>8</td><td> 940</td><td>1.000</td></tr>\n",
       "\t<tr><td>0.6</td><td>8</td><td> 950</td><td>1.000</td></tr>\n",
       "\t<tr><td>0.6</td><td>8</td><td> 960</td><td>1.000</td></tr>\n",
       "\t<tr><td>0.6</td><td>8</td><td> 970</td><td>1.000</td></tr>\n",
       "\t<tr><td>0.6</td><td>8</td><td> 980</td><td>1.000</td></tr>\n",
       "\t<tr><td>0.6</td><td>8</td><td> 990</td><td>1.000</td></tr>\n",
       "\t<tr><td>0.6</td><td>8</td><td>1000</td><td>1.000</td></tr>\n",
       "</tbody>\n",
       "</table>\n"
      ],
      "text/latex": [
       "A data.frame: 606 × 4\n",
       "\\begin{tabular}{llll}\n",
       " beta & d & M & ystar\\\\\n",
       " <dbl> & <dbl> & <dbl> & <dbl>\\\\\n",
       "\\hline\n",
       "\t 1 & 2 &   0 & 0.000\\\\\n",
       "\t 1 & 2 &  10 & 0.000\\\\\n",
       "\t 1 & 2 &  20 & 0.000\\\\\n",
       "\t 1 & 2 &  30 & 0.000\\\\\n",
       "\t 1 & 2 &  40 & 0.000\\\\\n",
       "\t 1 & 2 &  50 & 0.000\\\\\n",
       "\t 1 & 2 &  60 & 0.000\\\\\n",
       "\t 1 & 2 &  70 & 0.000\\\\\n",
       "\t 1 & 2 &  80 & 0.000\\\\\n",
       "\t 1 & 2 &  90 & 0.000\\\\\n",
       "\t 1 & 2 & 100 & 0.000\\\\\n",
       "\t 1 & 2 & 110 & 0.085\\\\\n",
       "\t 1 & 2 & 120 & 0.185\\\\\n",
       "\t 1 & 2 & 130 & 0.285\\\\\n",
       "\t 1 & 2 & 140 & 0.385\\\\\n",
       "\t 1 & 2 & 150 & 0.485\\\\\n",
       "\t 1 & 2 & 160 & 0.585\\\\\n",
       "\t 1 & 2 & 170 & 0.685\\\\\n",
       "\t 1 & 2 & 180 & 0.785\\\\\n",
       "\t 1 & 2 & 190 & 0.885\\\\\n",
       "\t 1 & 2 & 200 & 0.985\\\\\n",
       "\t 1 & 2 & 210 & 1.000\\\\\n",
       "\t 1 & 2 & 220 & 1.000\\\\\n",
       "\t 1 & 2 & 230 & 1.000\\\\\n",
       "\t 1 & 2 & 240 & 1.000\\\\\n",
       "\t 1 & 2 & 250 & 1.000\\\\\n",
       "\t 1 & 2 & 260 & 1.000\\\\\n",
       "\t 1 & 2 & 270 & 1.000\\\\\n",
       "\t 1 & 2 & 280 & 1.000\\\\\n",
       "\t 1 & 2 & 290 & 1.000\\\\\n",
       "\t ... & ... & ... & ...\\\\\n",
       "\t 0.6 & 8 &  710 & 0.745\\\\\n",
       "\t 0.6 & 8 &  720 & 0.765\\\\\n",
       "\t 0.6 & 8 &  730 & 0.775\\\\\n",
       "\t 0.6 & 8 &  740 & 0.795\\\\\n",
       "\t 0.6 & 8 &  750 & 0.805\\\\\n",
       "\t 0.6 & 8 &  760 & 0.815\\\\\n",
       "\t 0.6 & 8 &  770 & 0.835\\\\\n",
       "\t 0.6 & 8 &  780 & 0.845\\\\\n",
       "\t 0.6 & 8 &  790 & 0.865\\\\\n",
       "\t 0.6 & 8 &  800 & 0.875\\\\\n",
       "\t 0.6 & 8 &  810 & 0.895\\\\\n",
       "\t 0.6 & 8 &  820 & 0.905\\\\\n",
       "\t 0.6 & 8 &  830 & 0.915\\\\\n",
       "\t 0.6 & 8 &  840 & 0.935\\\\\n",
       "\t 0.6 & 8 &  850 & 0.945\\\\\n",
       "\t 0.6 & 8 &  860 & 0.965\\\\\n",
       "\t 0.6 & 8 &  870 & 0.975\\\\\n",
       "\t 0.6 & 8 &  880 & 1.000\\\\\n",
       "\t 0.6 & 8 &  890 & 1.000\\\\\n",
       "\t 0.6 & 8 &  900 & 1.000\\\\\n",
       "\t 0.6 & 8 &  910 & 1.000\\\\\n",
       "\t 0.6 & 8 &  920 & 1.000\\\\\n",
       "\t 0.6 & 8 &  930 & 1.000\\\\\n",
       "\t 0.6 & 8 &  940 & 1.000\\\\\n",
       "\t 0.6 & 8 &  950 & 1.000\\\\\n",
       "\t 0.6 & 8 &  960 & 1.000\\\\\n",
       "\t 0.6 & 8 &  970 & 1.000\\\\\n",
       "\t 0.6 & 8 &  980 & 1.000\\\\\n",
       "\t 0.6 & 8 &  990 & 1.000\\\\\n",
       "\t 0.6 & 8 & 1000 & 1.000\\\\\n",
       "\\end{tabular}\n"
      ],
      "text/markdown": [
       "\n",
       "A data.frame: 606 × 4\n",
       "\n",
       "| beta &lt;dbl&gt; | d &lt;dbl&gt; | M &lt;dbl&gt; | ystar &lt;dbl&gt; |\n",
       "|---|---|---|---|\n",
       "| 1 | 2 |   0 | 0.000 |\n",
       "| 1 | 2 |  10 | 0.000 |\n",
       "| 1 | 2 |  20 | 0.000 |\n",
       "| 1 | 2 |  30 | 0.000 |\n",
       "| 1 | 2 |  40 | 0.000 |\n",
       "| 1 | 2 |  50 | 0.000 |\n",
       "| 1 | 2 |  60 | 0.000 |\n",
       "| 1 | 2 |  70 | 0.000 |\n",
       "| 1 | 2 |  80 | 0.000 |\n",
       "| 1 | 2 |  90 | 0.000 |\n",
       "| 1 | 2 | 100 | 0.000 |\n",
       "| 1 | 2 | 110 | 0.085 |\n",
       "| 1 | 2 | 120 | 0.185 |\n",
       "| 1 | 2 | 130 | 0.285 |\n",
       "| 1 | 2 | 140 | 0.385 |\n",
       "| 1 | 2 | 150 | 0.485 |\n",
       "| 1 | 2 | 160 | 0.585 |\n",
       "| 1 | 2 | 170 | 0.685 |\n",
       "| 1 | 2 | 180 | 0.785 |\n",
       "| 1 | 2 | 190 | 0.885 |\n",
       "| 1 | 2 | 200 | 0.985 |\n",
       "| 1 | 2 | 210 | 1.000 |\n",
       "| 1 | 2 | 220 | 1.000 |\n",
       "| 1 | 2 | 230 | 1.000 |\n",
       "| 1 | 2 | 240 | 1.000 |\n",
       "| 1 | 2 | 250 | 1.000 |\n",
       "| 1 | 2 | 260 | 1.000 |\n",
       "| 1 | 2 | 270 | 1.000 |\n",
       "| 1 | 2 | 280 | 1.000 |\n",
       "| 1 | 2 | 290 | 1.000 |\n",
       "| ... | ... | ... | ... |\n",
       "| 0.6 | 8 |  710 | 0.745 |\n",
       "| 0.6 | 8 |  720 | 0.765 |\n",
       "| 0.6 | 8 |  730 | 0.775 |\n",
       "| 0.6 | 8 |  740 | 0.795 |\n",
       "| 0.6 | 8 |  750 | 0.805 |\n",
       "| 0.6 | 8 |  760 | 0.815 |\n",
       "| 0.6 | 8 |  770 | 0.835 |\n",
       "| 0.6 | 8 |  780 | 0.845 |\n",
       "| 0.6 | 8 |  790 | 0.865 |\n",
       "| 0.6 | 8 |  800 | 0.875 |\n",
       "| 0.6 | 8 |  810 | 0.895 |\n",
       "| 0.6 | 8 |  820 | 0.905 |\n",
       "| 0.6 | 8 |  830 | 0.915 |\n",
       "| 0.6 | 8 |  840 | 0.935 |\n",
       "| 0.6 | 8 |  850 | 0.945 |\n",
       "| 0.6 | 8 |  860 | 0.965 |\n",
       "| 0.6 | 8 |  870 | 0.975 |\n",
       "| 0.6 | 8 |  880 | 1.000 |\n",
       "| 0.6 | 8 |  890 | 1.000 |\n",
       "| 0.6 | 8 |  900 | 1.000 |\n",
       "| 0.6 | 8 |  910 | 1.000 |\n",
       "| 0.6 | 8 |  920 | 1.000 |\n",
       "| 0.6 | 8 |  930 | 1.000 |\n",
       "| 0.6 | 8 |  940 | 1.000 |\n",
       "| 0.6 | 8 |  950 | 1.000 |\n",
       "| 0.6 | 8 |  960 | 1.000 |\n",
       "| 0.6 | 8 |  970 | 1.000 |\n",
       "| 0.6 | 8 |  980 | 1.000 |\n",
       "| 0.6 | 8 |  990 | 1.000 |\n",
       "| 0.6 | 8 | 1000 | 1.000 |\n",
       "\n"
      ],
      "text/plain": [
       "    beta d   M    ystar\n",
       "1   1    2     0  0.000\n",
       "2   1    2    10  0.000\n",
       "3   1    2    20  0.000\n",
       "4   1    2    30  0.000\n",
       "5   1    2    40  0.000\n",
       "6   1    2    50  0.000\n",
       "7   1    2    60  0.000\n",
       "8   1    2    70  0.000\n",
       "9   1    2    80  0.000\n",
       "10  1    2    90  0.000\n",
       "11  1    2   100  0.000\n",
       "12  1    2   110  0.085\n",
       "13  1    2   120  0.185\n",
       "14  1    2   130  0.285\n",
       "15  1    2   140  0.385\n",
       "16  1    2   150  0.485\n",
       "17  1    2   160  0.585\n",
       "18  1    2   170  0.685\n",
       "19  1    2   180  0.785\n",
       "20  1    2   190  0.885\n",
       "21  1    2   200  0.985\n",
       "22  1    2   210  1.000\n",
       "23  1    2   220  1.000\n",
       "24  1    2   230  1.000\n",
       "25  1    2   240  1.000\n",
       "26  1    2   250  1.000\n",
       "27  1    2   260  1.000\n",
       "28  1    2   270  1.000\n",
       "29  1    2   280  1.000\n",
       "30  1    2   290  1.000\n",
       "... ...  ... ...  ...  \n",
       "577 0.6  8    710 0.745\n",
       "578 0.6  8    720 0.765\n",
       "579 0.6  8    730 0.775\n",
       "580 0.6  8    740 0.795\n",
       "581 0.6  8    750 0.805\n",
       "582 0.6  8    760 0.815\n",
       "583 0.6  8    770 0.835\n",
       "584 0.6  8    780 0.845\n",
       "585 0.6  8    790 0.865\n",
       "586 0.6  8    800 0.875\n",
       "587 0.6  8    810 0.895\n",
       "588 0.6  8    820 0.905\n",
       "589 0.6  8    830 0.915\n",
       "590 0.6  8    840 0.935\n",
       "591 0.6  8    850 0.945\n",
       "592 0.6  8    860 0.965\n",
       "593 0.6  8    870 0.975\n",
       "594 0.6  8    880 1.000\n",
       "595 0.6  8    890 1.000\n",
       "596 0.6  8    900 1.000\n",
       "597 0.6  8    910 1.000\n",
       "598 0.6  8    920 1.000\n",
       "599 0.6  8    930 1.000\n",
       "600 0.6  8    940 1.000\n",
       "601 0.6  8    950 1.000\n",
       "602 0.6  8    960 1.000\n",
       "603 0.6  8    970 1.000\n",
       "604 0.6  8    980 1.000\n",
       "605 0.6  8    990 1.000\n",
       "606 0.6  8   1000 1.000"
      ]
     },
     "metadata": {},
     "output_type": "display_data"
    }
   ],
   "source": [
    "result"
   ]
  },
  {
   "cell_type": "code",
   "execution_count": 117,
   "id": "e19d8731",
   "metadata": {},
   "outputs": [
    {
     "data": {
      "image/png": "[encoded data removed]",
      "text/plain": [
       "plot without title"
      ]
     },
     "metadata": {
      "image/png": {
       "height": 420,
       "width": 420
      }
     },
     "output_type": "display_data"
    }
   ],
   "source": [
    "#数据可视化\n",
    "df<-result %>% \n",
    "  mutate(label=paste(\"beta=\",beta,\",\",\"d=\",d,sep=\"\"))\n",
    "\n",
    "ggplot(df,aes(x=M,y=ystar,color=label))+\n",
    "  geom_line()+\n",
    "  geom_point()+\n",
    "  theme_few()"
   ]
  },
  {
   "cell_type": "code",
   "execution_count": 110,
   "id": "009a63ad",
   "metadata": {},
   "outputs": [],
   "source": [
    "ystar_collect<-function(M,beta,d){\n",
    "  \n",
    "    ystar = 0\n",
    "  y.<-c()\n",
    "  \n",
    "  for(y in seq(0, 1, 0.01)){\n",
    "    temp<-duplicate_dynamic(y,M,beta,d,N=100,c=1)\n",
    "    \n",
    "    # N: 个体数\n",
    "    # M: 资源 c(5,15,25)\n",
    "    # c: less effort的成本\n",
    "    # beta: 投入效用\n",
    "    # d: more effort的成本\n",
    "    \n",
    "    y.<-c(y.,temp)\n",
    "  }\n",
    "  \n",
    "  df <- data.frame(x = seq(0, 1, 0.01), y = y.) %>% \n",
    "    mutate(y1=c(y.[-1],1)) %>% \n",
    "    mutate(y0=y*y1)\n",
    "    df[is.na(df)] <- 0  \n",
    "  #ystar<-ifelse(sum(df$x[df$y0<0])==0,0,df$x[df$y0<0]+0.005)\n",
    "  if(all(df$y<=0)){\n",
    "    ystar<-0 \n",
    "  }else if(all(df$y>0)){\n",
    "    ystar<-1\n",
    "  }else{\n",
    "    ystar<-df$x[df$y0<0]+0.005\n",
    "  }\n",
    "  if(length(ystar) == 0){\n",
    "      ystar = 1\n",
    "  }\n",
    "  \n",
    "  return(ystar)\n",
    "}"
   ]
  },
  {
   "cell_type": "code",
   "execution_count": 137,
   "id": "d7e33aea",
   "metadata": {},
   "outputs": [
    {
     "data": {
      "image/png": "[encoded data removed]",
      "text/plain": [
       "plot without title"
      ]
     },
     "metadata": {
      "image/png": {
       "height": 420,
       "width": 420
      }
     },
     "output_type": "display_data"
    }
   ],
   "source": [
    "parameters<-data.frame(M=c(50,50,50,25,25,25),d=c(2,4,8,2,4,8))\n",
    "result<-data.frame()\n",
    "for(i in 1:6){\n",
    "  M<-parameters$M[i]\n",
    "  d<-parameters$d[i]\n",
    "  \n",
    "  ystars<- c()\n",
    "  \n",
    "  for (beta in seq(0,1.2,0.02)){\n",
    "    temp<-ystar_collect(M,beta,d)\n",
    "    ystars<-c(ystars,c(temp))\n",
    "  }\n",
    "  \n",
    "  data<-data.frame(M=rep(M,length(ystars)),d=rep(d,length(ystars)),beta=seq(0,1.2,0.02),ystar=ystars)\n",
    "  \n",
    "  result<-rbind(result,data)\n",
    "}\n",
    "#数据可视化\n",
    "df<-result %>% \n",
    "  mutate(label=paste(\"M=\",M,\",\",\"d=\",d,sep=\"\"))\n",
    "\n",
    "ggplot(df,aes(x=beta,y=ystar,color=label))+\n",
    "  geom_line()+\n",
    "  geom_point()+\n",
    "  theme_few()"
   ]
  },
  {
   "cell_type": "code",
   "execution_count": 72,
   "id": "5967704a",
   "metadata": {},
   "outputs": [],
   "source": [
    "ystars = list()\n",
    "ystars[1] = 1"
   ]
  },
  {
   "cell_type": "code",
   "execution_count": 76,
   "id": "b9d5c5d4",
   "metadata": {},
   "outputs": [
    {
     "data": {
      "text/html": [
       "<style>\n",
       ".list-inline {list-style: none; margin:0; padding: 0}\n",
       ".list-inline>li {display: inline-block}\n",
       ".list-inline>li:not(:last-child)::after {content: \"\\00b7\"; padding: 0 .5ex}\n",
       "</style>\n",
       "<ol class=list-inline><li>1</li><li>2</li><li>3</li><li>0</li></ol>\n"
      ],
      "text/latex": [
       "\\begin{enumerate*}\n",
       "\\item 1\n",
       "\\item 2\n",
       "\\item 3\n",
       "\\item 0\n",
       "\\end{enumerate*}\n"
      ],
      "text/markdown": [
       "1. 1\n",
       "2. 2\n",
       "3. 3\n",
       "4. 0\n",
       "\n",
       "\n"
      ],
      "text/plain": [
       "[1] 1 2 3 0"
      ]
     },
     "metadata": {},
     "output_type": "display_data"
    }
   ],
   "source": [
    "c(c(1,2,3),numeric(1))"
   ]
  },
  {
   "cell_type": "code",
   "execution_count": 123,
   "id": "cbb3f5a7",
   "metadata": {},
   "outputs": [
    {
     "data": {
      "image/png": "[encoded data removed]",
      "text/plain": [
       "plot without title"
      ]
     },
     "metadata": {
      "image/png": {
       "height": 420,
       "width": 420
      }
     },
     "output_type": "display_data"
    }
   ],
   "source": [
    "parameters<-data.frame(M=c(200,250,200,200,250,400),beta=c(1,1,1,0.6,0.6,0.6))\n",
    "result<-data.frame()\n",
    "for(i in 1:6){\n",
    "  M<-parameters$M[i]\n",
    "  beta<-parameters$beta[i]\n",
    "  \n",
    "  ystars<-c()\n",
    "  \n",
    "  for (d in seq(0,20,1)){\n",
    "    temp<-ystar_collect(M,beta,d)\n",
    "    ystars<-c(ystars,temp)\n",
    "  }\n",
    "  \n",
    "  data<-data.frame(M=rep(M,length(ystars)),d=seq(0,20,1),beta=rep(beta,length(ystars)),ystar=ystars)\n",
    "  \n",
    "  result<-rbind(result,data)\n",
    "}\n",
    "#数据可视化\n",
    "df<-result %>% \n",
    "  mutate(label=paste(\"M=\",M,\",\",\"beta=\",beta,sep=\"\"))\n",
    "\n",
    "ggplot(df,aes(x=d,y=ystar,color=label))+\n",
    "  geom_line()+\n",
    "  geom_point()+\n",
    "  theme_few()"
   ]
  },
  {
   "cell_type": "code",
   "execution_count": 112,
   "id": "98e3bdb3",
   "metadata": {
    "scrolled": false
   },
   "outputs": [
    {
     "data": {
      "text/html": [
       "<table class=\"dataframe\">\n",
       "<caption>A data.frame: 30 × 5</caption>\n",
       "<thead>\n",
       "\t<tr><th scope=col>M</th><th scope=col>d</th><th scope=col>beta</th><th scope=col>ystar</th><th scope=col>label</th></tr>\n",
       "\t<tr><th scope=col>&lt;dbl&gt;</th><th scope=col>&lt;dbl&gt;</th><th scope=col>&lt;dbl&gt;</th><th scope=col>&lt;dbl&gt;</th><th scope=col>&lt;chr&gt;</th></tr>\n",
       "</thead>\n",
       "<tbody>\n",
       "\t<tr><td>20</td><td> 0</td><td>1.0</td><td>1</td><td>M=20,beta=1  </td></tr>\n",
       "\t<tr><td>20</td><td> 5</td><td>1.0</td><td>0</td><td>M=20,beta=1  </td></tr>\n",
       "\t<tr><td>20</td><td>10</td><td>1.0</td><td>0</td><td>M=20,beta=1  </td></tr>\n",
       "\t<tr><td>20</td><td>15</td><td>1.0</td><td>0</td><td>M=20,beta=1  </td></tr>\n",
       "\t<tr><td>20</td><td>20</td><td>1.0</td><td>0</td><td>M=20,beta=1  </td></tr>\n",
       "\t<tr><td>25</td><td> 0</td><td>1.0</td><td>1</td><td>M=25,beta=1  </td></tr>\n",
       "\t<tr><td>25</td><td> 5</td><td>1.0</td><td>0</td><td>M=25,beta=1  </td></tr>\n",
       "\t<tr><td>25</td><td>10</td><td>1.0</td><td>0</td><td>M=25,beta=1  </td></tr>\n",
       "\t<tr><td>25</td><td>15</td><td>1.0</td><td>0</td><td>M=25,beta=1  </td></tr>\n",
       "\t<tr><td>25</td><td>20</td><td>1.0</td><td>0</td><td>M=25,beta=1  </td></tr>\n",
       "\t<tr><td>40</td><td> 0</td><td>1.0</td><td>1</td><td>M=40,beta=1  </td></tr>\n",
       "\t<tr><td>40</td><td> 5</td><td>1.0</td><td>0</td><td>M=40,beta=1  </td></tr>\n",
       "\t<tr><td>40</td><td>10</td><td>1.0</td><td>0</td><td>M=40,beta=1  </td></tr>\n",
       "\t<tr><td>40</td><td>15</td><td>1.0</td><td>0</td><td>M=40,beta=1  </td></tr>\n",
       "\t<tr><td>40</td><td>20</td><td>1.0</td><td>0</td><td>M=40,beta=1  </td></tr>\n",
       "\t<tr><td>20</td><td> 0</td><td>0.6</td><td>1</td><td>M=20,beta=0.6</td></tr>\n",
       "\t<tr><td>20</td><td> 5</td><td>0.6</td><td>0</td><td>M=20,beta=0.6</td></tr>\n",
       "\t<tr><td>20</td><td>10</td><td>0.6</td><td>0</td><td>M=20,beta=0.6</td></tr>\n",
       "\t<tr><td>20</td><td>15</td><td>0.6</td><td>0</td><td>M=20,beta=0.6</td></tr>\n",
       "\t<tr><td>20</td><td>20</td><td>0.6</td><td>0</td><td>M=20,beta=0.6</td></tr>\n",
       "\t<tr><td>25</td><td> 0</td><td>0.6</td><td>1</td><td>M=25,beta=0.6</td></tr>\n",
       "\t<tr><td>25</td><td> 5</td><td>0.6</td><td>0</td><td>M=25,beta=0.6</td></tr>\n",
       "\t<tr><td>25</td><td>10</td><td>0.6</td><td>0</td><td>M=25,beta=0.6</td></tr>\n",
       "\t<tr><td>25</td><td>15</td><td>0.6</td><td>0</td><td>M=25,beta=0.6</td></tr>\n",
       "\t<tr><td>25</td><td>20</td><td>0.6</td><td>0</td><td>M=25,beta=0.6</td></tr>\n",
       "\t<tr><td>40</td><td> 0</td><td>0.6</td><td>1</td><td>M=40,beta=0.6</td></tr>\n",
       "\t<tr><td>40</td><td> 5</td><td>0.6</td><td>0</td><td>M=40,beta=0.6</td></tr>\n",
       "\t<tr><td>40</td><td>10</td><td>0.6</td><td>0</td><td>M=40,beta=0.6</td></tr>\n",
       "\t<tr><td>40</td><td>15</td><td>0.6</td><td>0</td><td>M=40,beta=0.6</td></tr>\n",
       "\t<tr><td>40</td><td>20</td><td>0.6</td><td>0</td><td>M=40,beta=0.6</td></tr>\n",
       "</tbody>\n",
       "</table>\n"
      ],
      "text/latex": [
       "A data.frame: 30 × 5\n",
       "\\begin{tabular}{lllll}\n",
       " M & d & beta & ystar & label\\\\\n",
       " <dbl> & <dbl> & <dbl> & <dbl> & <chr>\\\\\n",
       "\\hline\n",
       "\t 20 &  0 & 1.0 & 1 & M=20,beta=1  \\\\\n",
       "\t 20 &  5 & 1.0 & 0 & M=20,beta=1  \\\\\n",
       "\t 20 & 10 & 1.0 & 0 & M=20,beta=1  \\\\\n",
       "\t 20 & 15 & 1.0 & 0 & M=20,beta=1  \\\\\n",
       "\t 20 & 20 & 1.0 & 0 & M=20,beta=1  \\\\\n",
       "\t 25 &  0 & 1.0 & 1 & M=25,beta=1  \\\\\n",
       "\t 25 &  5 & 1.0 & 0 & M=25,beta=1  \\\\\n",
       "\t 25 & 10 & 1.0 & 0 & M=25,beta=1  \\\\\n",
       "\t 25 & 15 & 1.0 & 0 & M=25,beta=1  \\\\\n",
       "\t 25 & 20 & 1.0 & 0 & M=25,beta=1  \\\\\n",
       "\t 40 &  0 & 1.0 & 1 & M=40,beta=1  \\\\\n",
       "\t 40 &  5 & 1.0 & 0 & M=40,beta=1  \\\\\n",
       "\t 40 & 10 & 1.0 & 0 & M=40,beta=1  \\\\\n",
       "\t 40 & 15 & 1.0 & 0 & M=40,beta=1  \\\\\n",
       "\t 40 & 20 & 1.0 & 0 & M=40,beta=1  \\\\\n",
       "\t 20 &  0 & 0.6 & 1 & M=20,beta=0.6\\\\\n",
       "\t 20 &  5 & 0.6 & 0 & M=20,beta=0.6\\\\\n",
       "\t 20 & 10 & 0.6 & 0 & M=20,beta=0.6\\\\\n",
       "\t 20 & 15 & 0.6 & 0 & M=20,beta=0.6\\\\\n",
       "\t 20 & 20 & 0.6 & 0 & M=20,beta=0.6\\\\\n",
       "\t 25 &  0 & 0.6 & 1 & M=25,beta=0.6\\\\\n",
       "\t 25 &  5 & 0.6 & 0 & M=25,beta=0.6\\\\\n",
       "\t 25 & 10 & 0.6 & 0 & M=25,beta=0.6\\\\\n",
       "\t 25 & 15 & 0.6 & 0 & M=25,beta=0.6\\\\\n",
       "\t 25 & 20 & 0.6 & 0 & M=25,beta=0.6\\\\\n",
       "\t 40 &  0 & 0.6 & 1 & M=40,beta=0.6\\\\\n",
       "\t 40 &  5 & 0.6 & 0 & M=40,beta=0.6\\\\\n",
       "\t 40 & 10 & 0.6 & 0 & M=40,beta=0.6\\\\\n",
       "\t 40 & 15 & 0.6 & 0 & M=40,beta=0.6\\\\\n",
       "\t 40 & 20 & 0.6 & 0 & M=40,beta=0.6\\\\\n",
       "\\end{tabular}\n"
      ],
      "text/markdown": [
       "\n",
       "A data.frame: 30 × 5\n",
       "\n",
       "| M &lt;dbl&gt; | d &lt;dbl&gt; | beta &lt;dbl&gt; | ystar &lt;dbl&gt; | label &lt;chr&gt; |\n",
       "|---|---|---|---|---|\n",
       "| 20 |  0 | 1.0 | 1 | M=20,beta=1   |\n",
       "| 20 |  5 | 1.0 | 0 | M=20,beta=1   |\n",
       "| 20 | 10 | 1.0 | 0 | M=20,beta=1   |\n",
       "| 20 | 15 | 1.0 | 0 | M=20,beta=1   |\n",
       "| 20 | 20 | 1.0 | 0 | M=20,beta=1   |\n",
       "| 25 |  0 | 1.0 | 1 | M=25,beta=1   |\n",
       "| 25 |  5 | 1.0 | 0 | M=25,beta=1   |\n",
       "| 25 | 10 | 1.0 | 0 | M=25,beta=1   |\n",
       "| 25 | 15 | 1.0 | 0 | M=25,beta=1   |\n",
       "| 25 | 20 | 1.0 | 0 | M=25,beta=1   |\n",
       "| 40 |  0 | 1.0 | 1 | M=40,beta=1   |\n",
       "| 40 |  5 | 1.0 | 0 | M=40,beta=1   |\n",
       "| 40 | 10 | 1.0 | 0 | M=40,beta=1   |\n",
       "| 40 | 15 | 1.0 | 0 | M=40,beta=1   |\n",
       "| 40 | 20 | 1.0 | 0 | M=40,beta=1   |\n",
       "| 20 |  0 | 0.6 | 1 | M=20,beta=0.6 |\n",
       "| 20 |  5 | 0.6 | 0 | M=20,beta=0.6 |\n",
       "| 20 | 10 | 0.6 | 0 | M=20,beta=0.6 |\n",
       "| 20 | 15 | 0.6 | 0 | M=20,beta=0.6 |\n",
       "| 20 | 20 | 0.6 | 0 | M=20,beta=0.6 |\n",
       "| 25 |  0 | 0.6 | 1 | M=25,beta=0.6 |\n",
       "| 25 |  5 | 0.6 | 0 | M=25,beta=0.6 |\n",
       "| 25 | 10 | 0.6 | 0 | M=25,beta=0.6 |\n",
       "| 25 | 15 | 0.6 | 0 | M=25,beta=0.6 |\n",
       "| 25 | 20 | 0.6 | 0 | M=25,beta=0.6 |\n",
       "| 40 |  0 | 0.6 | 1 | M=40,beta=0.6 |\n",
       "| 40 |  5 | 0.6 | 0 | M=40,beta=0.6 |\n",
       "| 40 | 10 | 0.6 | 0 | M=40,beta=0.6 |\n",
       "| 40 | 15 | 0.6 | 0 | M=40,beta=0.6 |\n",
       "| 40 | 20 | 0.6 | 0 | M=40,beta=0.6 |\n",
       "\n"
      ],
      "text/plain": [
       "   M  d  beta ystar label        \n",
       "1  20  0 1.0  1     M=20,beta=1  \n",
       "2  20  5 1.0  0     M=20,beta=1  \n",
       "3  20 10 1.0  0     M=20,beta=1  \n",
       "4  20 15 1.0  0     M=20,beta=1  \n",
       "5  20 20 1.0  0     M=20,beta=1  \n",
       "6  25  0 1.0  1     M=25,beta=1  \n",
       "7  25  5 1.0  0     M=25,beta=1  \n",
       "8  25 10 1.0  0     M=25,beta=1  \n",
       "9  25 15 1.0  0     M=25,beta=1  \n",
       "10 25 20 1.0  0     M=25,beta=1  \n",
       "11 40  0 1.0  1     M=40,beta=1  \n",
       "12 40  5 1.0  0     M=40,beta=1  \n",
       "13 40 10 1.0  0     M=40,beta=1  \n",
       "14 40 15 1.0  0     M=40,beta=1  \n",
       "15 40 20 1.0  0     M=40,beta=1  \n",
       "16 20  0 0.6  1     M=20,beta=0.6\n",
       "17 20  5 0.6  0     M=20,beta=0.6\n",
       "18 20 10 0.6  0     M=20,beta=0.6\n",
       "19 20 15 0.6  0     M=20,beta=0.6\n",
       "20 20 20 0.6  0     M=20,beta=0.6\n",
       "21 25  0 0.6  1     M=25,beta=0.6\n",
       "22 25  5 0.6  0     M=25,beta=0.6\n",
       "23 25 10 0.6  0     M=25,beta=0.6\n",
       "24 25 15 0.6  0     M=25,beta=0.6\n",
       "25 25 20 0.6  0     M=25,beta=0.6\n",
       "26 40  0 0.6  1     M=40,beta=0.6\n",
       "27 40  5 0.6  0     M=40,beta=0.6\n",
       "28 40 10 0.6  0     M=40,beta=0.6\n",
       "29 40 15 0.6  0     M=40,beta=0.6\n",
       "30 40 20 0.6  0     M=40,beta=0.6"
      ]
     },
     "metadata": {},
     "output_type": "display_data"
    }
   ],
   "source": [
    "df"
   ]
  }
 ],
 "metadata": {
  "kernelspec": {
   "display_name": "R",
   "language": "R",
   "name": "ir"
  },
  "language_info": {
   "codemirror_mode": "r",
   "file_extension": ".r",
   "mimetype": "text/x-r-source",
   "name": "R",
   "pygments_lexer": "r",
   "version": "4.1.3"
  }
 },
 "nbformat": 4,
 "nbformat_minor": 5
}
