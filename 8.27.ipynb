{
 "cells": [
  {
   "cell_type": "code",
   "execution_count": 2,
   "id": "afc64644",
   "metadata": {},
   "outputs": [],
   "source": [
    "library(tidyverse)\n",
    "library(data.table)\n",
    "library(EvolutionaryGames)\n",
    "library(ggthemes)\n",
    "library(latex2exp)\n",
    "library(ggtext)"
   ]
  },
  {
   "cell_type": "code",
   "execution_count": 3,
   "id": "29291104",
   "metadata": {},
   "outputs": [],
   "source": [
    "duplicate_dynamic_xy<-function(y,x,M,beta1,beta2,d,N,c,l){\n",
    "  \n",
    "  #-----参数解释说明------#\n",
    "  # #N个个体\n",
    "  # N<-4\n",
    "  # #M资源 c(5,15,25)\n",
    "  # M<-5\n",
    "  \n",
    "  # y 整体内卷比例\n",
    "  # x 整体躺平比例\n",
    "  \n",
    "  # #内卷相对躺平的效用\n",
    "  # beta1<-4\n",
    "  # #合作相对躺平的效用\n",
    "  # beta2<-2\n",
    "  \n",
    "  # #more effort的成本\n",
    "  # d<-4\n",
    "  # #less effort的成本\n",
    "  # c<-1\n",
    "  # #躺平的成本\n",
    "  # l<-0.5\n",
    "  #-----------------------#\n",
    "  \n",
    "  Pc<-0\n",
    "  Pd<-0\n",
    "  Pl<-0 \n",
    "  for (Nd in 0:(N-1)){ \n",
    "    for (Nl in 0:(N-1-Nd)){\n",
    "      Nc <- N-1-Nd-Nl\n",
    "      pai_d <- beta1*d*M/(beta1*(Nd+1)*d +beta2*Nc*c     +Nl*l)-d \n",
    "      pai_c <- beta2*c*M/(beta1*Nd*d     +beta2*(Nc+1)*c +Nl*l)-c          \n",
    "      pai_l <-       l*M/(beta1*Nd*d     +beta2*Nc*c     +(Nl+1)*l)-l  \n",
    "      Pd <- Pd + choose(N-1,Nd)*choose(N-1-Nd,Nl)*y^Nd*(1-x-y)^Nc*x^Nl*pai_d\n",
    "      Pc <- Pc + choose(N-1,Nd)*choose(N-1-Nd,Nl)*y^Nd*(1-x-y)^Nc*x^Nl*pai_c\n",
    "      Pl <- Pl + choose(N-1,Nd)*choose(N-1-Nd,Nl)*y^Nd*(1-x-y)^Nc*x^Nl*pai_l\n",
    "    }\n",
    "  }\n",
    "  \n",
    "  R_ <- y*Pd+x*Pl+(1-x-y)*Pc  ##均值\n",
    "  y. <- y*(Pd-R_)\n",
    "  x. <- x*(Pl-R_)\n",
    "  \n",
    "  result<-data.frame(y=y,x=x,y.=y.,x.=x.)\n",
    "  return(result)\n",
    "}\n"
   ]
  },
  {
   "cell_type": "code",
   "execution_count": 5,
   "id": "ebba0a09",
   "metadata": {},
   "outputs": [
    {
     "data": {
      "image/png": "[encoded data removed]",
      "text/plain": [
       "plot without title"
      ]
     },
     "metadata": {
      "image/png": {
       "height": 420,
       "width": 420
      }
     },
     "output_type": "display_data"
    },
    {
     "data": {
      "image/png": "[encoded data removed]",
      "text/plain": [
       "plot without title"
      ]
     },
     "metadata": {
      "image/png": {
       "height": 420,
       "width": 420
      }
     },
     "output_type": "display_data"
    }
   ],
   "source": [
    "data<-data.frame()\n",
    "for(y in seq(0,1,0.01)){\n",
    "  for(x in seq(0,1-y,0.01)){\n",
    "    temp<-duplicate_dynamic_xy(y,x,M=100,beta1=4,beta2=2,d=4,N=50,c=1,l=0.5)\n",
    "    data<-rbind(data,temp)\n",
    "  }\n",
    "}\n",
    "\n",
    "#----------------------------------------------#\n",
    "#-----1.1当躺平人数一定时，内卷人数的稳定点-----#\n",
    "#----------------------------------------------#\n",
    "#当x=0.1时\n",
    "df<-data %>% \n",
    "  subset(x==0.1)%>% \n",
    "  mutate(y1=c(y.[-1],1)) %>% \n",
    "  mutate(y0=y*y1)#通过前一项与后一项相乘是否小于0，来获取临界点ystar\n",
    "\n",
    "ystar<-ifelse(sum(df$y[df$y0<0])==0,0,df$y[df$y0<0]+0.005)\n",
    "\n",
    "ggplot(df,aes(x=y,y=y.))+\n",
    "  geom_line(color=\"black\",size=0.3)+\n",
    "  theme_few() +\n",
    "  geom_point(aes(x=ystar,y=0))+\n",
    "  geom_text(aes(x=ystar,y=0),label=paste(\"y*:\",ystar),size=4,nudge_y = 0.001,nudge_x = 0.03,color=\"red\")+\n",
    "  geom_hline(aes(yintercept = 0),size=0.3)+\n",
    "  labs(x = \"y\", y = \"y.\")\n",
    "\n",
    "\n",
    "#当x=0.2时\n",
    "df<-data %>% \n",
    "  subset(x==0.2)%>% \n",
    "  mutate(y1=c(y.[-1],1)) %>% \n",
    "  mutate(y0=y*y1)#通过前一项与后一项相乘是否小于0，来获取临界点ystar\n",
    "\n",
    "ystar<-ifelse(sum(df$y[df$y0<0])==0,0,df$y[df$y0<0]+0.005)\n",
    "\n",
    "ggplot(df,aes(x=y,y=y.))+\n",
    "  geom_line(color=\"black\",size=0.3)+\n",
    "  theme_few() +\n",
    "  geom_point(aes(x=ystar,y=0))+\n",
    "  geom_text(aes(x=ystar,y=0),label=paste(\"y*:\",ystar),size=4,nudge_y = 0.001,nudge_x = 0.03,color=\"red\")+\n",
    "  geom_hline(aes(yintercept = 0),size=0.3)+\n",
    "  labs(x = \"y\", y = \"y.\")"
   ]
  },
  {
   "cell_type": "code",
   "execution_count": 6,
   "id": "fef17e45",
   "metadata": {},
   "outputs": [
    {
     "data": {
      "image/png": "[encoded data removed]",
      "text/plain": [
       "plot without title"
      ]
     },
     "metadata": {
      "image/png": {
       "height": 420,
       "width": 420
      }
     },
     "output_type": "display_data"
    },
    {
     "data": {
      "image/png": "[encoded data removed]",
      "text/plain": [
       "plot without title"
      ]
     },
     "metadata": {
      "image/png": {
       "height": 420,
       "width": 420
      }
     },
     "output_type": "display_data"
    }
   ],
   "source": [
    "#----------------------------------------------#\n",
    "#--------1.2内卷人数比例对躺平人数的影响--------#\n",
    "#----------------------------------------------#\n",
    "#当y=0.1时\n",
    "df<-data %>% \n",
    "  subset(y==0.1)%>% \n",
    "  mutate(x1=c(x.[-1],0)) %>% \n",
    "  mutate(x0=x.*x1)#通过前一项与后一项相乘是否小于0，来获取临界点ystar\n",
    "\n",
    "xstar<-ifelse(sum(df$x[df$x0<0])==0,0,df$x[df$x0<0]+0.005)\n",
    "\n",
    "ggplot(df,aes(x=x,y=x.))+\n",
    "  geom_line(color=\"black\",size=0.3)+\n",
    "  theme_few() +\n",
    "  geom_point(aes(x=xstar,y=0))+\n",
    "  geom_text(aes(x=xstar,y=0),label=paste(\"x*:\",xstar),size=4,nudge_y = 0.001,nudge_x = 0.03,color=\"red\")+\n",
    "  geom_hline(aes(yintercept = 0),size=0.3)+\n",
    "  labs(x = \"x\", y = \"x.\")\n",
    "\n",
    "#当y=0.7时\n",
    "df<-data %>% \n",
    "  subset(y==0.2)%>% \n",
    "  mutate(x1=c(x.[-1],0)) %>% \n",
    "  mutate(x0=x.*x1)#通过前一项与后一项相乘是否小于0，来获取临界点ystar\n",
    "\n",
    "xstar<-ifelse(sum(df$x[df$x0<0])==0,0,df$x[df$x0<0]+0.005)\n",
    "\n",
    "ggplot(df,aes(x=x,y=x.))+\n",
    "  geom_line(color=\"black\",size=0.3)+\n",
    "  theme_few() +\n",
    "  geom_point(aes(x=xstar,y=0))+\n",
    "  geom_text(aes(x=xstar,y=0),label=paste(\"x*:\",xstar),size=4,nudge_y = 0.001,nudge_x = 0.03,color=\"red\")+\n",
    "  geom_hline(aes(yintercept = 0),size=0.3)+\n",
    "  labs(x = \"x\", y = \"x.\")\n",
    "\n",
    "#内卷比例看不出来影响躺平"
   ]
  },
  {
   "cell_type": "code",
   "execution_count": 49,
   "id": "6f131854",
   "metadata": {},
   "outputs": [],
   "source": [
    "df = data.frame()\n",
    "for (y in seq(0.01,0.99,0.01)){\n",
    "    for (x in seq(0.01,0.99,0.01)){\n",
    "        if (x>=1-y){\n",
    "            df=rbind(df,data.frame(y=y,x=x,y.=NaN,x.=NaN))\n",
    "        }\n",
    "        else{\n",
    "            df=rbind(df,duplicate_dynamic_xy(y,x,M=100,beta1=1,beta2=1,d=4,N=50,c=1,l=0.5))  \n",
    "        }\n",
    "    }\n",
    "}"
   ]
  },
  {
   "cell_type": "code",
   "execution_count": 43,
   "id": "590c9476",
   "metadata": {
    "scrolled": true
   },
   "outputs": [
    {
     "data": {
      "text/html": [
       "<table class=\"dataframe\">\n",
       "<caption>A data.frame: 9801 × 4</caption>\n",
       "<thead>\n",
       "\t<tr><th scope=col>y</th><th scope=col>x</th><th scope=col>y.</th><th scope=col>x.</th></tr>\n",
       "\t<tr><th scope=col>&lt;dbl&gt;</th><th scope=col>&lt;dbl&gt;</th><th scope=col>&lt;dbl&gt;</th><th scope=col>&lt;dbl&gt;</th></tr>\n",
       "</thead>\n",
       "<tbody>\n",
       "\t<tr><td>0.01</td><td>0.01</td><td>0.08425687</td><td>-0.009933005</td></tr>\n",
       "\t<tr><td>0.01</td><td>0.02</td><td>0.08505385</td><td>-0.019895633</td></tr>\n",
       "\t<tr><td>0.01</td><td>0.03</td><td>0.08586159</td><td>-0.029886325</td></tr>\n",
       "\t<tr><td>0.01</td><td>0.04</td><td>0.08668030</td><td>-0.039903477</td></tr>\n",
       "\t<tr><td>0.01</td><td>0.05</td><td>0.08751020</td><td>-0.049945438</td></tr>\n",
       "\t<tr><td>0.01</td><td>0.06</td><td>0.08835149</td><td>-0.060010504</td></tr>\n",
       "\t<tr><td>0.01</td><td>0.07</td><td>0.08920440</td><td>-0.070096921</td></tr>\n",
       "\t<tr><td>0.01</td><td>0.08</td><td>0.09006916</td><td>-0.080202882</td></tr>\n",
       "\t<tr><td>0.01</td><td>0.09</td><td>0.09094600</td><td>-0.090326521</td></tr>\n",
       "\t<tr><td>0.01</td><td>0.10</td><td>0.09183517</td><td>-0.100465918</td></tr>\n",
       "\t<tr><td>0.01</td><td>0.11</td><td>0.09273691</td><td>-0.110619089</td></tr>\n",
       "\t<tr><td>0.01</td><td>0.12</td><td>0.09365147</td><td>-0.120783988</td></tr>\n",
       "\t<tr><td>0.01</td><td>0.13</td><td>0.09457911</td><td>-0.130958506</td></tr>\n",
       "\t<tr><td>0.01</td><td>0.14</td><td>0.09552011</td><td>-0.141140464</td></tr>\n",
       "\t<tr><td>0.01</td><td>0.15</td><td>0.09647473</td><td>-0.151327611</td></tr>\n",
       "\t<tr><td>0.01</td><td>0.16</td><td>0.09744326</td><td>-0.161517626</td></tr>\n",
       "\t<tr><td>0.01</td><td>0.17</td><td>0.09842599</td><td>-0.171708109</td></tr>\n",
       "\t<tr><td>0.01</td><td>0.18</td><td>0.09942321</td><td>-0.181896581</td></tr>\n",
       "\t<tr><td>0.01</td><td>0.19</td><td>0.10043524</td><td>-0.192080478</td></tr>\n",
       "\t<tr><td>0.01</td><td>0.20</td><td>0.10146238</td><td>-0.202257152</td></tr>\n",
       "\t<tr><td>0.01</td><td>0.21</td><td>0.10250497</td><td>-0.212423864</td></tr>\n",
       "\t<tr><td>0.01</td><td>0.22</td><td>0.10356333</td><td>-0.222577779</td></tr>\n",
       "\t<tr><td>0.01</td><td>0.23</td><td>0.10463782</td><td>-0.232715966</td></tr>\n",
       "\t<tr><td>0.01</td><td>0.24</td><td>0.10572877</td><td>-0.242835389</td></tr>\n",
       "\t<tr><td>0.01</td><td>0.25</td><td>0.10683656</td><td>-0.252932908</td></tr>\n",
       "\t<tr><td>0.01</td><td>0.26</td><td>0.10796156</td><td>-0.263005268</td></tr>\n",
       "\t<tr><td>0.01</td><td>0.27</td><td>0.10910415</td><td>-0.273049098</td></tr>\n",
       "\t<tr><td>0.01</td><td>0.28</td><td>0.11026474</td><td>-0.283060906</td></tr>\n",
       "\t<tr><td>0.01</td><td>0.29</td><td>0.11144373</td><td>-0.293037070</td></tr>\n",
       "\t<tr><td>0.01</td><td>0.30</td><td>0.11264153</td><td>-0.302973837</td></tr>\n",
       "\t<tr><td>...</td><td>...</td><td>...</td><td>...</td></tr>\n",
       "\t<tr><td>0.99</td><td>0.70</td><td>0</td><td>0</td></tr>\n",
       "\t<tr><td>0.99</td><td>0.71</td><td>0</td><td>0</td></tr>\n",
       "\t<tr><td>0.99</td><td>0.72</td><td>0</td><td>0</td></tr>\n",
       "\t<tr><td>0.99</td><td>0.73</td><td>0</td><td>0</td></tr>\n",
       "\t<tr><td>0.99</td><td>0.74</td><td>0</td><td>0</td></tr>\n",
       "\t<tr><td>0.99</td><td>0.75</td><td>0</td><td>0</td></tr>\n",
       "\t<tr><td>0.99</td><td>0.76</td><td>0</td><td>0</td></tr>\n",
       "\t<tr><td>0.99</td><td>0.77</td><td>0</td><td>0</td></tr>\n",
       "\t<tr><td>0.99</td><td>0.78</td><td>0</td><td>0</td></tr>\n",
       "\t<tr><td>0.99</td><td>0.79</td><td>0</td><td>0</td></tr>\n",
       "\t<tr><td>0.99</td><td>0.80</td><td>0</td><td>0</td></tr>\n",
       "\t<tr><td>0.99</td><td>0.81</td><td>0</td><td>0</td></tr>\n",
       "\t<tr><td>0.99</td><td>0.82</td><td>0</td><td>0</td></tr>\n",
       "\t<tr><td>0.99</td><td>0.83</td><td>0</td><td>0</td></tr>\n",
       "\t<tr><td>0.99</td><td>0.84</td><td>0</td><td>0</td></tr>\n",
       "\t<tr><td>0.99</td><td>0.85</td><td>0</td><td>0</td></tr>\n",
       "\t<tr><td>0.99</td><td>0.86</td><td>0</td><td>0</td></tr>\n",
       "\t<tr><td>0.99</td><td>0.87</td><td>0</td><td>0</td></tr>\n",
       "\t<tr><td>0.99</td><td>0.88</td><td>0</td><td>0</td></tr>\n",
       "\t<tr><td>0.99</td><td>0.89</td><td>0</td><td>0</td></tr>\n",
       "\t<tr><td>0.99</td><td>0.90</td><td>0</td><td>0</td></tr>\n",
       "\t<tr><td>0.99</td><td>0.91</td><td>0</td><td>0</td></tr>\n",
       "\t<tr><td>0.99</td><td>0.92</td><td>0</td><td>0</td></tr>\n",
       "\t<tr><td>0.99</td><td>0.93</td><td>0</td><td>0</td></tr>\n",
       "\t<tr><td>0.99</td><td>0.94</td><td>0</td><td>0</td></tr>\n",
       "\t<tr><td>0.99</td><td>0.95</td><td>0</td><td>0</td></tr>\n",
       "\t<tr><td>0.99</td><td>0.96</td><td>0</td><td>0</td></tr>\n",
       "\t<tr><td>0.99</td><td>0.97</td><td>0</td><td>0</td></tr>\n",
       "\t<tr><td>0.99</td><td>0.98</td><td>0</td><td>0</td></tr>\n",
       "\t<tr><td>0.99</td><td>0.99</td><td>0</td><td>0</td></tr>\n",
       "</tbody>\n",
       "</table>\n"
      ],
      "text/latex": [
       "A data.frame: 9801 × 4\n",
       "\\begin{tabular}{llll}\n",
       " y & x & y. & x.\\\\\n",
       " <dbl> & <dbl> & <dbl> & <dbl>\\\\\n",
       "\\hline\n",
       "\t 0.01 & 0.01 & 0.08425687 & -0.009933005\\\\\n",
       "\t 0.01 & 0.02 & 0.08505385 & -0.019895633\\\\\n",
       "\t 0.01 & 0.03 & 0.08586159 & -0.029886325\\\\\n",
       "\t 0.01 & 0.04 & 0.08668030 & -0.039903477\\\\\n",
       "\t 0.01 & 0.05 & 0.08751020 & -0.049945438\\\\\n",
       "\t 0.01 & 0.06 & 0.08835149 & -0.060010504\\\\\n",
       "\t 0.01 & 0.07 & 0.08920440 & -0.070096921\\\\\n",
       "\t 0.01 & 0.08 & 0.09006916 & -0.080202882\\\\\n",
       "\t 0.01 & 0.09 & 0.09094600 & -0.090326521\\\\\n",
       "\t 0.01 & 0.10 & 0.09183517 & -0.100465918\\\\\n",
       "\t 0.01 & 0.11 & 0.09273691 & -0.110619089\\\\\n",
       "\t 0.01 & 0.12 & 0.09365147 & -0.120783988\\\\\n",
       "\t 0.01 & 0.13 & 0.09457911 & -0.130958506\\\\\n",
       "\t 0.01 & 0.14 & 0.09552011 & -0.141140464\\\\\n",
       "\t 0.01 & 0.15 & 0.09647473 & -0.151327611\\\\\n",
       "\t 0.01 & 0.16 & 0.09744326 & -0.161517626\\\\\n",
       "\t 0.01 & 0.17 & 0.09842599 & -0.171708109\\\\\n",
       "\t 0.01 & 0.18 & 0.09942321 & -0.181896581\\\\\n",
       "\t 0.01 & 0.19 & 0.10043524 & -0.192080478\\\\\n",
       "\t 0.01 & 0.20 & 0.10146238 & -0.202257152\\\\\n",
       "\t 0.01 & 0.21 & 0.10250497 & -0.212423864\\\\\n",
       "\t 0.01 & 0.22 & 0.10356333 & -0.222577779\\\\\n",
       "\t 0.01 & 0.23 & 0.10463782 & -0.232715966\\\\\n",
       "\t 0.01 & 0.24 & 0.10572877 & -0.242835389\\\\\n",
       "\t 0.01 & 0.25 & 0.10683656 & -0.252932908\\\\\n",
       "\t 0.01 & 0.26 & 0.10796156 & -0.263005268\\\\\n",
       "\t 0.01 & 0.27 & 0.10910415 & -0.273049098\\\\\n",
       "\t 0.01 & 0.28 & 0.11026474 & -0.283060906\\\\\n",
       "\t 0.01 & 0.29 & 0.11144373 & -0.293037070\\\\\n",
       "\t 0.01 & 0.30 & 0.11264153 & -0.302973837\\\\\n",
       "\t ... & ... & ... & ...\\\\\n",
       "\t 0.99 & 0.70 & 0 & 0\\\\\n",
       "\t 0.99 & 0.71 & 0 & 0\\\\\n",
       "\t 0.99 & 0.72 & 0 & 0\\\\\n",
       "\t 0.99 & 0.73 & 0 & 0\\\\\n",
       "\t 0.99 & 0.74 & 0 & 0\\\\\n",
       "\t 0.99 & 0.75 & 0 & 0\\\\\n",
       "\t 0.99 & 0.76 & 0 & 0\\\\\n",
       "\t 0.99 & 0.77 & 0 & 0\\\\\n",
       "\t 0.99 & 0.78 & 0 & 0\\\\\n",
       "\t 0.99 & 0.79 & 0 & 0\\\\\n",
       "\t 0.99 & 0.80 & 0 & 0\\\\\n",
       "\t 0.99 & 0.81 & 0 & 0\\\\\n",
       "\t 0.99 & 0.82 & 0 & 0\\\\\n",
       "\t 0.99 & 0.83 & 0 & 0\\\\\n",
       "\t 0.99 & 0.84 & 0 & 0\\\\\n",
       "\t 0.99 & 0.85 & 0 & 0\\\\\n",
       "\t 0.99 & 0.86 & 0 & 0\\\\\n",
       "\t 0.99 & 0.87 & 0 & 0\\\\\n",
       "\t 0.99 & 0.88 & 0 & 0\\\\\n",
       "\t 0.99 & 0.89 & 0 & 0\\\\\n",
       "\t 0.99 & 0.90 & 0 & 0\\\\\n",
       "\t 0.99 & 0.91 & 0 & 0\\\\\n",
       "\t 0.99 & 0.92 & 0 & 0\\\\\n",
       "\t 0.99 & 0.93 & 0 & 0\\\\\n",
       "\t 0.99 & 0.94 & 0 & 0\\\\\n",
       "\t 0.99 & 0.95 & 0 & 0\\\\\n",
       "\t 0.99 & 0.96 & 0 & 0\\\\\n",
       "\t 0.99 & 0.97 & 0 & 0\\\\\n",
       "\t 0.99 & 0.98 & 0 & 0\\\\\n",
       "\t 0.99 & 0.99 & 0 & 0\\\\\n",
       "\\end{tabular}\n"
      ],
      "text/markdown": [
       "\n",
       "A data.frame: 9801 × 4\n",
       "\n",
       "| y &lt;dbl&gt; | x &lt;dbl&gt; | y. &lt;dbl&gt; | x. &lt;dbl&gt; |\n",
       "|---|---|---|---|\n",
       "| 0.01 | 0.01 | 0.08425687 | -0.009933005 |\n",
       "| 0.01 | 0.02 | 0.08505385 | -0.019895633 |\n",
       "| 0.01 | 0.03 | 0.08586159 | -0.029886325 |\n",
       "| 0.01 | 0.04 | 0.08668030 | -0.039903477 |\n",
       "| 0.01 | 0.05 | 0.08751020 | -0.049945438 |\n",
       "| 0.01 | 0.06 | 0.08835149 | -0.060010504 |\n",
       "| 0.01 | 0.07 | 0.08920440 | -0.070096921 |\n",
       "| 0.01 | 0.08 | 0.09006916 | -0.080202882 |\n",
       "| 0.01 | 0.09 | 0.09094600 | -0.090326521 |\n",
       "| 0.01 | 0.10 | 0.09183517 | -0.100465918 |\n",
       "| 0.01 | 0.11 | 0.09273691 | -0.110619089 |\n",
       "| 0.01 | 0.12 | 0.09365147 | -0.120783988 |\n",
       "| 0.01 | 0.13 | 0.09457911 | -0.130958506 |\n",
       "| 0.01 | 0.14 | 0.09552011 | -0.141140464 |\n",
       "| 0.01 | 0.15 | 0.09647473 | -0.151327611 |\n",
       "| 0.01 | 0.16 | 0.09744326 | -0.161517626 |\n",
       "| 0.01 | 0.17 | 0.09842599 | -0.171708109 |\n",
       "| 0.01 | 0.18 | 0.09942321 | -0.181896581 |\n",
       "| 0.01 | 0.19 | 0.10043524 | -0.192080478 |\n",
       "| 0.01 | 0.20 | 0.10146238 | -0.202257152 |\n",
       "| 0.01 | 0.21 | 0.10250497 | -0.212423864 |\n",
       "| 0.01 | 0.22 | 0.10356333 | -0.222577779 |\n",
       "| 0.01 | 0.23 | 0.10463782 | -0.232715966 |\n",
       "| 0.01 | 0.24 | 0.10572877 | -0.242835389 |\n",
       "| 0.01 | 0.25 | 0.10683656 | -0.252932908 |\n",
       "| 0.01 | 0.26 | 0.10796156 | -0.263005268 |\n",
       "| 0.01 | 0.27 | 0.10910415 | -0.273049098 |\n",
       "| 0.01 | 0.28 | 0.11026474 | -0.283060906 |\n",
       "| 0.01 | 0.29 | 0.11144373 | -0.293037070 |\n",
       "| 0.01 | 0.30 | 0.11264153 | -0.302973837 |\n",
       "| ... | ... | ... | ... |\n",
       "| 0.99 | 0.70 | 0 | 0 |\n",
       "| 0.99 | 0.71 | 0 | 0 |\n",
       "| 0.99 | 0.72 | 0 | 0 |\n",
       "| 0.99 | 0.73 | 0 | 0 |\n",
       "| 0.99 | 0.74 | 0 | 0 |\n",
       "| 0.99 | 0.75 | 0 | 0 |\n",
       "| 0.99 | 0.76 | 0 | 0 |\n",
       "| 0.99 | 0.77 | 0 | 0 |\n",
       "| 0.99 | 0.78 | 0 | 0 |\n",
       "| 0.99 | 0.79 | 0 | 0 |\n",
       "| 0.99 | 0.80 | 0 | 0 |\n",
       "| 0.99 | 0.81 | 0 | 0 |\n",
       "| 0.99 | 0.82 | 0 | 0 |\n",
       "| 0.99 | 0.83 | 0 | 0 |\n",
       "| 0.99 | 0.84 | 0 | 0 |\n",
       "| 0.99 | 0.85 | 0 | 0 |\n",
       "| 0.99 | 0.86 | 0 | 0 |\n",
       "| 0.99 | 0.87 | 0 | 0 |\n",
       "| 0.99 | 0.88 | 0 | 0 |\n",
       "| 0.99 | 0.89 | 0 | 0 |\n",
       "| 0.99 | 0.90 | 0 | 0 |\n",
       "| 0.99 | 0.91 | 0 | 0 |\n",
       "| 0.99 | 0.92 | 0 | 0 |\n",
       "| 0.99 | 0.93 | 0 | 0 |\n",
       "| 0.99 | 0.94 | 0 | 0 |\n",
       "| 0.99 | 0.95 | 0 | 0 |\n",
       "| 0.99 | 0.96 | 0 | 0 |\n",
       "| 0.99 | 0.97 | 0 | 0 |\n",
       "| 0.99 | 0.98 | 0 | 0 |\n",
       "| 0.99 | 0.99 | 0 | 0 |\n",
       "\n"
      ],
      "text/plain": [
       "     y    x    y.         x.          \n",
       "1    0.01 0.01 0.08425687 -0.009933005\n",
       "2    0.01 0.02 0.08505385 -0.019895633\n",
       "3    0.01 0.03 0.08586159 -0.029886325\n",
       "4    0.01 0.04 0.08668030 -0.039903477\n",
       "5    0.01 0.05 0.08751020 -0.049945438\n",
       "6    0.01 0.06 0.08835149 -0.060010504\n",
       "7    0.01 0.07 0.08920440 -0.070096921\n",
       "8    0.01 0.08 0.09006916 -0.080202882\n",
       "9    0.01 0.09 0.09094600 -0.090326521\n",
       "10   0.01 0.10 0.09183517 -0.100465918\n",
       "11   0.01 0.11 0.09273691 -0.110619089\n",
       "12   0.01 0.12 0.09365147 -0.120783988\n",
       "13   0.01 0.13 0.09457911 -0.130958506\n",
       "14   0.01 0.14 0.09552011 -0.141140464\n",
       "15   0.01 0.15 0.09647473 -0.151327611\n",
       "16   0.01 0.16 0.09744326 -0.161517626\n",
       "17   0.01 0.17 0.09842599 -0.171708109\n",
       "18   0.01 0.18 0.09942321 -0.181896581\n",
       "19   0.01 0.19 0.10043524 -0.192080478\n",
       "20   0.01 0.20 0.10146238 -0.202257152\n",
       "21   0.01 0.21 0.10250497 -0.212423864\n",
       "22   0.01 0.22 0.10356333 -0.222577779\n",
       "23   0.01 0.23 0.10463782 -0.232715966\n",
       "24   0.01 0.24 0.10572877 -0.242835389\n",
       "25   0.01 0.25 0.10683656 -0.252932908\n",
       "26   0.01 0.26 0.10796156 -0.263005268\n",
       "27   0.01 0.27 0.10910415 -0.273049098\n",
       "28   0.01 0.28 0.11026474 -0.283060906\n",
       "29   0.01 0.29 0.11144373 -0.293037070\n",
       "30   0.01 0.30 0.11264153 -0.302973837\n",
       "...  ...  ...  ...        ...         \n",
       "9772 0.99 0.70 0          0           \n",
       "9773 0.99 0.71 0          0           \n",
       "9774 0.99 0.72 0          0           \n",
       "9775 0.99 0.73 0          0           \n",
       "9776 0.99 0.74 0          0           \n",
       "9777 0.99 0.75 0          0           \n",
       "9778 0.99 0.76 0          0           \n",
       "9779 0.99 0.77 0          0           \n",
       "9780 0.99 0.78 0          0           \n",
       "9781 0.99 0.79 0          0           \n",
       "9782 0.99 0.80 0          0           \n",
       "9783 0.99 0.81 0          0           \n",
       "9784 0.99 0.82 0          0           \n",
       "9785 0.99 0.83 0          0           \n",
       "9786 0.99 0.84 0          0           \n",
       "9787 0.99 0.85 0          0           \n",
       "9788 0.99 0.86 0          0           \n",
       "9789 0.99 0.87 0          0           \n",
       "9790 0.99 0.88 0          0           \n",
       "9791 0.99 0.89 0          0           \n",
       "9792 0.99 0.90 0          0           \n",
       "9793 0.99 0.91 0          0           \n",
       "9794 0.99 0.92 0          0           \n",
       "9795 0.99 0.93 0          0           \n",
       "9796 0.99 0.94 0          0           \n",
       "9797 0.99 0.95 0          0           \n",
       "9798 0.99 0.96 0          0           \n",
       "9799 0.99 0.97 0          0           \n",
       "9800 0.99 0.98 0          0           \n",
       "9801 0.99 0.99 0          0           "
      ]
     },
     "metadata": {},
     "output_type": "display_data"
    }
   ],
   "source": [
    "df"
   ]
  },
  {
   "cell_type": "code",
   "execution_count": 50,
   "id": "7e2875d5",
   "metadata": {},
   "outputs": [
    {
     "data": {
      "image/png": "[encoded data removed]",
      "text/plain": [
       "plot without title"
      ]
     },
     "metadata": {
      "image/png": {
       "height": 420,
       "width": 420
      }
     },
     "output_type": "display_data"
    }
   ],
   "source": [
    "ggplot(df,aes(y,x))+\n",
    "  geom_raster(aes(fill = y.))"
   ]
  },
  {
   "cell_type": "code",
   "execution_count": 51,
   "id": "bc531c6b",
   "metadata": {},
   "outputs": [
    {
     "data": {
      "image/png": "[encoded data removed]",
      "text/plain": [
       "plot without title"
      ]
     },
     "metadata": {
      "image/png": {
       "height": 420,
       "width": 420
      }
     },
     "output_type": "display_data"
    }
   ],
   "source": [
    "ggplot(df,aes(y,x))+\n",
    "  geom_raster(aes(fill = x.))"
   ]
  },
  {
   "cell_type": "code",
   "execution_count": 68,
   "id": "56e4f195",
   "metadata": {},
   "outputs": [
    {
     "data": {
      "image/png": "[encoded data removed]",
      "text/plain": [
       "plot without title"
      ]
     },
     "metadata": {
      "image/png": {
       "height": 420,
       "width": 420
      }
     },
     "output_type": "display_data"
    },
    {
     "data": {
      "image/png": "[encoded data removed]",
      "text/plain": [
       "plot without title"
      ]
     },
     "metadata": {
      "image/png": {
       "height": 420,
       "width": 420
      }
     },
     "output_type": "display_data"
    }
   ],
   "source": [
    "    M =100\n",
    "    steps = 5000\n",
    "    endings = c()\n",
    "    df = data.frame()\n",
    "    gp = ggplot(x = seq(1,steps+1,1))\n",
    "    beta1 = 1\n",
    "    beta2 = 1\n",
    "    d = 4\n",
    "    N = 50\n",
    "    c = 1\n",
    "    l = 0.5\n",
    "    # 找到要跑多少步\n",
    "    for (starting in seq(0.05,0.95,0.05)){\n",
    "        t = seq(1,steps,1)\n",
    "        y = c(starting)\n",
    "        x = c((1-starting)/3)\n",
    "        \n",
    "        for (i in t){\n",
    "            temp = duplicate_dynamic_xy(y[length(y)],x[length(x)],M,beta1,beta2,d,N,c,l)\n",
    "            y. = temp$y.\n",
    "            x. = temp$x.\n",
    "#             cat(temp,ending=\"\\n\")\n",
    "            if (abs(y.) <0.0001 & abs(x.)<0.0001){\n",
    "                endings = c(endings,i)\n",
    "                break\n",
    "            }\n",
    "            y = c(y,y. + y[length(y)])\n",
    "            x = c(x,x. + x[length(x)])\n",
    "        }\n",
    "    }\n",
    "    ending = max(endings)\n",
    "\n",
    "    # 按最大步数再跑一遍\n",
    "    for (starting in seq(0.05,0.95,0.05)){\n",
    "        t = seq(1,ending,1)\n",
    "        y = c(starting)\n",
    "        x = c((1-starting)/3)\n",
    "        for (i in t){\n",
    "            temp = duplicate_dynamic_xy(y[length(y)],x[length(x)],M,beta1,beta2,d,N,c,l)\n",
    "            y. = temp$y.\n",
    "            x. = temp$x.\n",
    "            y = c(y,y.  + y[length(y)])\n",
    "            x = c(x,x. + x[length(x)])\n",
    "        }\n",
    "#         cat(rep(as.character(starting),length(y)),end=\"\\n\")\n",
    "#         cat(endings,end=\"\\n\")\n",
    "#         cat(x,end=\"\\n\")\n",
    "#         cat(y,end=\"\\n\")\n",
    "        df = rbind(df,data.frame(label=rep(as.character(starting),length(y)),t=seq(1,ending+1,1),y=y,x=x))\n",
    "    }\n",
    "    ggplot(df,aes(x=t,y=y,color=label))+\n",
    "        geom_line()+\n",
    "        geom_point()+\n",
    "        theme(legend.position=\"none\")\n",
    "    ggplot(df,aes(x=t,y=x,color=label))+\n",
    "    geom_line()+\n",
    "    geom_point()+\n",
    "    theme(legend.position=\"none\")"
   ]
  }
 ],
 "metadata": {
  "kernelspec": {
   "display_name": "R",
   "language": "R",
   "name": "ir"
  },
  "language_info": {
   "codemirror_mode": "r",
   "file_extension": ".r",
   "mimetype": "text/x-r-source",
   "name": "R",
   "pygments_lexer": "r",
   "version": "4.1.3"
  }
 },
 "nbformat": 4,
 "nbformat_minor": 5
}
